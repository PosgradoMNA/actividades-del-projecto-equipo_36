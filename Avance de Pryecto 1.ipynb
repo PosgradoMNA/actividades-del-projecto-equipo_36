{
  "nbformat": 4,
  "nbformat_minor": 0,
  "metadata": {
    "colab": {
      "provenance": [],
      "authorship_tag": "ABX9TyPyEbK7J3csEeXR0gKGcL0y",
      "include_colab_link": true
    },
    "kernelspec": {
      "name": "python3",
      "display_name": "Python 3"
    },
    "language_info": {
      "name": "python"
    }
  },
  "cells": [
    {
      "cell_type": "markdown",
      "metadata": {
        "id": "view-in-github",
        "colab_type": "text"
      },
      "source": [
        "<a href=\"https://colab.research.google.com/github/PosgradoMNA/actividades-del-projecto-equipo_36/blob/main/Avance%20de%20Pryecto%201.ipynb\" target=\"_parent\"><img src=\"https://colab.research.google.com/assets/colab-badge.svg\" alt=\"Open In Colab\"/></a>"
      ]
    },
    {
      "cell_type": "markdown",
      "source": [
        "#El nombre que caracteriza el conjunto de datos."
      ],
      "metadata": {
        "id": "rH4L35FEcVF6"
      }
    },
    {
      "cell_type": "markdown",
      "source": [
        "- Mental Health Dataset.\n"
      ],
      "metadata": {
        "id": "e6M727JRcalS"
      }
    },
    {
      "cell_type": "markdown",
      "source": [
        "#La organización que lo generó.\n",
        "- Kaggle, HRTERHRTER."
      ],
      "metadata": {
        "id": "-1aXUBgWccdN"
      }
    },
    {
      "cell_type": "markdown",
      "source": [
        "\n",
        "#Incluya un enlace de Internet donde se puedan descargar el base de datos en línea\n",
        "- https://www.kaggle.com/datasets/programmerrdai/mental-health-dataset?select=prevalence-by-mental-and-substance-use-disorder.csv"
      ],
      "metadata": {
        "id": "-1bMrZmicgdd"
      }
    },
    {
      "cell_type": "markdown",
      "source": [
        "#Describe el conjunto de datos. ¿Qué datos contiene?\n",
        "- Contiene la información desglosada por año, nacionalidad y género sexual acerca del porcentaje de prevalencia de diferentes enfermedades y trastornos mentales, relacionados a uso de substancias y otros desórdenes."
      ],
      "metadata": {
        "id": "Moe3pEG_ckID"
      }
    },
    {
      "cell_type": "markdown",
      "source": [
        "#¿Cuáles son algunas de las preguntas de investigación que podría responder con estos datos? Enumere al menos OCHO.\n",
        "- Qué países presentan mayor prevalencia de enfermedades/trastornos\n",
        "- En qué periodos de tiempo ha habido una mayor prevalencia?\n",
        "- Cuáles son las enfermedades/trastornos con mayor prevalencia?\n",
        "- Cuál es la tendencia de cambio que presentan las enfermedades conforme pasa el tiempo?\n",
        "- En qué medida se diferencian los resultados entre países tercer mundistas o primer mundistas?\n",
        "- Cómo influye el tamaño de la población en proporción a los problemas mentales? \n",
        "- Cuál es el género sexual que se ve mayormente afectado por trastornos/enfermedades?\n",
        "- De todas las enfermedades, cuáles son los países que presentan las mayores prevalencias [top 5/10 por clasificación de la enfermedad]?"
      ],
      "metadata": {
        "id": "tn0gGFD6cqiq"
      }
    },
    {
      "cell_type": "markdown",
      "source": [
        "#¿Qué actor estaría interesado en las preguntas mencionadas que identificó?\n",
        "- En México serían instituciones de medicina, como hospitales públicos, privados e incluso otras dependencias como:Instituto nacional de salud mental, Instituto Nacional de Psiquiatría.... En otros países se esperaría que dependencias y organismos equivalentes a los mencionados serían los principales interesados. "
      ],
      "metadata": {
        "id": "5uyhZFktcu8r"
      }
    }
  ]
}