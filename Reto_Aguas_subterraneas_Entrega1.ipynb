{
  "nbformat": 4,
  "nbformat_minor": 0,
  "metadata": {
    "colab": {
      "provenance": [],
      "include_colab_link": true
    },
    "kernelspec": {
      "name": "python3",
      "display_name": "Python 3"
    },
    "language_info": {
      "name": "python"
    }
  },
  "cells": [
    {
      "cell_type": "markdown",
      "metadata": {
        "id": "view-in-github",
        "colab_type": "text"
      },
      "source": [
        "<a href=\"https://colab.research.google.com/github/PosgradoMNA/actividades-del-projecto-equipo_36/blob/main/Reto_Aguas_subterraneas_Entrega1.ipynb\" target=\"_parent\"><img src=\"https://colab.research.google.com/assets/colab-badge.svg\" alt=\"Open In Colab\"/></a>"
      ]
    },
    {
      "cell_type": "markdown",
      "source": [
        "#**Maestría en Inteligencia Artificial Aplicada**\n",
        "##**Ciencia y Analítica de Datos**\n",
        "###Tecnológico de Monterrey\n",
        "###Prof Titular: **Dra. María de la Paz Rico**\n",
        "###Tutor: **Roberto Antonio Guevara González**\n",
        "\n",
        "####**Equipo 36**\n",
        "####*Marcos Chávez - A01688507*\n",
        "####*Bernanrdo Mijangos - A01793654*\n",
        "\n",
        "https://github.com/PosgradoMNA/actividades-del-projecto-equipo_36/blob/main/Reto_Aguas_subterraneas_Entrega1.ipynb\n",
        "\n",
        "####*Fecha de entrega 16/11/2022*"
      ],
      "metadata": {
        "id": "q4uykYNudwsA"
      }
    },
    {
      "cell_type": "markdown",
      "source": [
        "####**Selección de la base con los datos de calidad de aguas subterráneas**"
      ],
      "metadata": {
        "id": "i128vmpOyLW2"
      }
    },
    {
      "cell_type": "code",
      "source": [
        "from sklearn import linear_model as lm\n",
        "import seaborn as sns\n",
        "import matplotlib.pyplot as plt\n",
        "import seaborn as sns\n",
        "import statsmodels.api as sm\n",
        "import scipy.stats as sts\n",
        "import pandas as pd\n",
        "import scipy as scp\n",
        "import numpy as np\n",
        "import sklearn.preprocessing as preproc\n",
        "from sklearn.model_selection import train_test_split  ### for train and test split package\n",
        "from sklearn import metrics  ## For calculation of MSE & RMSE\n",
        "from sklearn.preprocessing import LabelEncoder\n",
        "from sklearn.metrics import confusion_matrix, f1_score\n",
        "\n",
        "import requests, zipfile\n",
        "from io import BytesIO"
      ],
      "metadata": {
        "id": "ZWls_ZFQ9mEW"
      },
      "execution_count": 253,
      "outputs": []
    },
    {
      "cell_type": "markdown",
      "source": [
        "Se procedió a realizar un análisis exploratorio de los datos.\n",
        "<br>\n",
        "Para el un entendimiento de los datos, se llevó a cabo el análisis\n",
        "de las variables por tipo (categóricas y numéricas)."
      ],
      "metadata": {
        "id": "04McyGtv8BC7"
      }
    },
    {
      "cell_type": "code",
      "execution_count": 254,
      "metadata": {
        "id": "-eMMCmHW8AY7"
      },
      "outputs": [],
      "source": [
        "url = 'http://201.116.60.46/Datos_de_calidad_del_agua_de_5000_sitios_de_monitoreo.zip'"
      ]
    },
    {
      "cell_type": "code",
      "source": [
        "req = requests.get(url)\n",
        "zipfile.ZipFile(BytesIO(req.content)).extractall('unzipped_zip/')\n",
        "df=pd.read_csv('unzipped_zip/Datos_de_calidad_del_agua_2020/Datos_de_calidad_del_agua_de_sitios_de_monitoreo_de_aguas_subterraneas_2020.csv', encoding = 'latin1')\n",
        "df.head()"
      ],
      "metadata": {
        "id": "6AK8SP8T9c-y",
        "colab": {
          "base_uri": "https://localhost:8080/",
          "height": 0
        },
        "outputId": "9916fc65-2fce-4f4d-da9c-887e03061fe5"
      },
      "execution_count": 255,
      "outputs": [
        {
          "output_type": "execute_result",
          "data": {
            "text/plain": [
              "       CLAVE                   SITIO           ORGANISMO_DE_CUENCA  \\\n",
              "0     DLAGU6            POZO SAN GIL       LERMA SANTIAGO PACIFICO   \n",
              "1  DLAGU6516  POZO R013 CAÑADA HONDA       LERMA SANTIAGO PACIFICO   \n",
              "2     DLAGU7              POZO COSIO       LERMA SANTIAGO PACIFICO   \n",
              "3     DLAGU9      POZO EL SALITRILLO       LERMA SANTIAGO PACIFICO   \n",
              "4   DLBAJ107      RANCHO EL TECOLOTE  PENINSULA DE BAJA CALIFORNIA   \n",
              "\n",
              "                ESTADO        MUNICIPIO                 ACUIFERO SUBTIPO  \\\n",
              "0       AGUASCALIENTES         ASIENTOS       VALLE DE CHICALOTE    POZO   \n",
              "1       AGUASCALIENTES   AGUASCALIENTES       VALLE DE CHICALOTE    POZO   \n",
              "2       AGUASCALIENTES            COSIO  VALLE DE AGUASCALIENTES    POZO   \n",
              "3       AGUASCALIENTES  RINCON DE ROMOS  VALLE DE AGUASCALIENTES    POZO   \n",
              "4  BAJA CALIFORNIA SUR           LA PAZ             TODOS SANTOS    POZO   \n",
              "\n",
              "    LONGITUD   LATITUD  PERIODO  ...  CUMPLE_CON_DUR CUMPLE_CON_CF  \\\n",
              "0 -102.02210  22.20887     2020  ...              SI            SI   \n",
              "1 -102.20075  21.99958     2020  ...              SI            SI   \n",
              "2 -102.28801  22.36685     2020  ...              SI            SI   \n",
              "3 -102.29449  22.18435     2020  ...              SI            SI   \n",
              "4 -110.24480  23.45138     2020  ...              SI            SI   \n",
              "\n",
              "   CUMPLE_CON_NO3 CUMPLE_CON_AS  CUMPLE_CON_CD CUMPLE_CON_CR CUMPLE_CON_HG  \\\n",
              "0              SI            SI             SI            SI            SI   \n",
              "1              SI            SI             SI            SI            SI   \n",
              "2              SI            NO             SI            SI            SI   \n",
              "3              SI            SI             SI            SI            SI   \n",
              "4              NO            SI             SI            SI            SI   \n",
              "\n",
              "  CUMPLE_CON_PB CUMPLE_CON_MN CUMPLE_CON_FE  \n",
              "0            SI            SI            SI  \n",
              "1            SI            SI            SI  \n",
              "2            SI            SI            SI  \n",
              "3            SI            SI            SI  \n",
              "4            SI            SI            SI  \n",
              "\n",
              "[5 rows x 57 columns]"
            ],
            "text/html": [
              "\n",
              "  <div id=\"df-12871bcf-67c7-4420-b9e2-48f9d9fadf2b\">\n",
              "    <div class=\"colab-df-container\">\n",
              "      <div>\n",
              "<style scoped>\n",
              "    .dataframe tbody tr th:only-of-type {\n",
              "        vertical-align: middle;\n",
              "    }\n",
              "\n",
              "    .dataframe tbody tr th {\n",
              "        vertical-align: top;\n",
              "    }\n",
              "\n",
              "    .dataframe thead th {\n",
              "        text-align: right;\n",
              "    }\n",
              "</style>\n",
              "<table border=\"1\" class=\"dataframe\">\n",
              "  <thead>\n",
              "    <tr style=\"text-align: right;\">\n",
              "      <th></th>\n",
              "      <th>CLAVE</th>\n",
              "      <th>SITIO</th>\n",
              "      <th>ORGANISMO_DE_CUENCA</th>\n",
              "      <th>ESTADO</th>\n",
              "      <th>MUNICIPIO</th>\n",
              "      <th>ACUIFERO</th>\n",
              "      <th>SUBTIPO</th>\n",
              "      <th>LONGITUD</th>\n",
              "      <th>LATITUD</th>\n",
              "      <th>PERIODO</th>\n",
              "      <th>...</th>\n",
              "      <th>CUMPLE_CON_DUR</th>\n",
              "      <th>CUMPLE_CON_CF</th>\n",
              "      <th>CUMPLE_CON_NO3</th>\n",
              "      <th>CUMPLE_CON_AS</th>\n",
              "      <th>CUMPLE_CON_CD</th>\n",
              "      <th>CUMPLE_CON_CR</th>\n",
              "      <th>CUMPLE_CON_HG</th>\n",
              "      <th>CUMPLE_CON_PB</th>\n",
              "      <th>CUMPLE_CON_MN</th>\n",
              "      <th>CUMPLE_CON_FE</th>\n",
              "    </tr>\n",
              "  </thead>\n",
              "  <tbody>\n",
              "    <tr>\n",
              "      <th>0</th>\n",
              "      <td>DLAGU6</td>\n",
              "      <td>POZO SAN GIL</td>\n",
              "      <td>LERMA SANTIAGO PACIFICO</td>\n",
              "      <td>AGUASCALIENTES</td>\n",
              "      <td>ASIENTOS</td>\n",
              "      <td>VALLE DE CHICALOTE</td>\n",
              "      <td>POZO</td>\n",
              "      <td>-102.02210</td>\n",
              "      <td>22.20887</td>\n",
              "      <td>2020</td>\n",
              "      <td>...</td>\n",
              "      <td>SI</td>\n",
              "      <td>SI</td>\n",
              "      <td>SI</td>\n",
              "      <td>SI</td>\n",
              "      <td>SI</td>\n",
              "      <td>SI</td>\n",
              "      <td>SI</td>\n",
              "      <td>SI</td>\n",
              "      <td>SI</td>\n",
              "      <td>SI</td>\n",
              "    </tr>\n",
              "    <tr>\n",
              "      <th>1</th>\n",
              "      <td>DLAGU6516</td>\n",
              "      <td>POZO R013 CAÑADA HONDA</td>\n",
              "      <td>LERMA SANTIAGO PACIFICO</td>\n",
              "      <td>AGUASCALIENTES</td>\n",
              "      <td>AGUASCALIENTES</td>\n",
              "      <td>VALLE DE CHICALOTE</td>\n",
              "      <td>POZO</td>\n",
              "      <td>-102.20075</td>\n",
              "      <td>21.99958</td>\n",
              "      <td>2020</td>\n",
              "      <td>...</td>\n",
              "      <td>SI</td>\n",
              "      <td>SI</td>\n",
              "      <td>SI</td>\n",
              "      <td>SI</td>\n",
              "      <td>SI</td>\n",
              "      <td>SI</td>\n",
              "      <td>SI</td>\n",
              "      <td>SI</td>\n",
              "      <td>SI</td>\n",
              "      <td>SI</td>\n",
              "    </tr>\n",
              "    <tr>\n",
              "      <th>2</th>\n",
              "      <td>DLAGU7</td>\n",
              "      <td>POZO COSIO</td>\n",
              "      <td>LERMA SANTIAGO PACIFICO</td>\n",
              "      <td>AGUASCALIENTES</td>\n",
              "      <td>COSIO</td>\n",
              "      <td>VALLE DE AGUASCALIENTES</td>\n",
              "      <td>POZO</td>\n",
              "      <td>-102.28801</td>\n",
              "      <td>22.36685</td>\n",
              "      <td>2020</td>\n",
              "      <td>...</td>\n",
              "      <td>SI</td>\n",
              "      <td>SI</td>\n",
              "      <td>SI</td>\n",
              "      <td>NO</td>\n",
              "      <td>SI</td>\n",
              "      <td>SI</td>\n",
              "      <td>SI</td>\n",
              "      <td>SI</td>\n",
              "      <td>SI</td>\n",
              "      <td>SI</td>\n",
              "    </tr>\n",
              "    <tr>\n",
              "      <th>3</th>\n",
              "      <td>DLAGU9</td>\n",
              "      <td>POZO EL SALITRILLO</td>\n",
              "      <td>LERMA SANTIAGO PACIFICO</td>\n",
              "      <td>AGUASCALIENTES</td>\n",
              "      <td>RINCON DE ROMOS</td>\n",
              "      <td>VALLE DE AGUASCALIENTES</td>\n",
              "      <td>POZO</td>\n",
              "      <td>-102.29449</td>\n",
              "      <td>22.18435</td>\n",
              "      <td>2020</td>\n",
              "      <td>...</td>\n",
              "      <td>SI</td>\n",
              "      <td>SI</td>\n",
              "      <td>SI</td>\n",
              "      <td>SI</td>\n",
              "      <td>SI</td>\n",
              "      <td>SI</td>\n",
              "      <td>SI</td>\n",
              "      <td>SI</td>\n",
              "      <td>SI</td>\n",
              "      <td>SI</td>\n",
              "    </tr>\n",
              "    <tr>\n",
              "      <th>4</th>\n",
              "      <td>DLBAJ107</td>\n",
              "      <td>RANCHO EL TECOLOTE</td>\n",
              "      <td>PENINSULA DE BAJA CALIFORNIA</td>\n",
              "      <td>BAJA CALIFORNIA SUR</td>\n",
              "      <td>LA PAZ</td>\n",
              "      <td>TODOS SANTOS</td>\n",
              "      <td>POZO</td>\n",
              "      <td>-110.24480</td>\n",
              "      <td>23.45138</td>\n",
              "      <td>2020</td>\n",
              "      <td>...</td>\n",
              "      <td>SI</td>\n",
              "      <td>SI</td>\n",
              "      <td>NO</td>\n",
              "      <td>SI</td>\n",
              "      <td>SI</td>\n",
              "      <td>SI</td>\n",
              "      <td>SI</td>\n",
              "      <td>SI</td>\n",
              "      <td>SI</td>\n",
              "      <td>SI</td>\n",
              "    </tr>\n",
              "  </tbody>\n",
              "</table>\n",
              "<p>5 rows × 57 columns</p>\n",
              "</div>\n",
              "      <button class=\"colab-df-convert\" onclick=\"convertToInteractive('df-12871bcf-67c7-4420-b9e2-48f9d9fadf2b')\"\n",
              "              title=\"Convert this dataframe to an interactive table.\"\n",
              "              style=\"display:none;\">\n",
              "        \n",
              "  <svg xmlns=\"http://www.w3.org/2000/svg\" height=\"24px\"viewBox=\"0 0 24 24\"\n",
              "       width=\"24px\">\n",
              "    <path d=\"M0 0h24v24H0V0z\" fill=\"none\"/>\n",
              "    <path d=\"M18.56 5.44l.94 2.06.94-2.06 2.06-.94-2.06-.94-.94-2.06-.94 2.06-2.06.94zm-11 1L8.5 8.5l.94-2.06 2.06-.94-2.06-.94L8.5 2.5l-.94 2.06-2.06.94zm10 10l.94 2.06.94-2.06 2.06-.94-2.06-.94-.94-2.06-.94 2.06-2.06.94z\"/><path d=\"M17.41 7.96l-1.37-1.37c-.4-.4-.92-.59-1.43-.59-.52 0-1.04.2-1.43.59L10.3 9.45l-7.72 7.72c-.78.78-.78 2.05 0 2.83L4 21.41c.39.39.9.59 1.41.59.51 0 1.02-.2 1.41-.59l7.78-7.78 2.81-2.81c.8-.78.8-2.07 0-2.86zM5.41 20L4 18.59l7.72-7.72 1.47 1.35L5.41 20z\"/>\n",
              "  </svg>\n",
              "      </button>\n",
              "      \n",
              "  <style>\n",
              "    .colab-df-container {\n",
              "      display:flex;\n",
              "      flex-wrap:wrap;\n",
              "      gap: 12px;\n",
              "    }\n",
              "\n",
              "    .colab-df-convert {\n",
              "      background-color: #E8F0FE;\n",
              "      border: none;\n",
              "      border-radius: 50%;\n",
              "      cursor: pointer;\n",
              "      display: none;\n",
              "      fill: #1967D2;\n",
              "      height: 32px;\n",
              "      padding: 0 0 0 0;\n",
              "      width: 32px;\n",
              "    }\n",
              "\n",
              "    .colab-df-convert:hover {\n",
              "      background-color: #E2EBFA;\n",
              "      box-shadow: 0px 1px 2px rgba(60, 64, 67, 0.3), 0px 1px 3px 1px rgba(60, 64, 67, 0.15);\n",
              "      fill: #174EA6;\n",
              "    }\n",
              "\n",
              "    [theme=dark] .colab-df-convert {\n",
              "      background-color: #3B4455;\n",
              "      fill: #D2E3FC;\n",
              "    }\n",
              "\n",
              "    [theme=dark] .colab-df-convert:hover {\n",
              "      background-color: #434B5C;\n",
              "      box-shadow: 0px 1px 3px 1px rgba(0, 0, 0, 0.15);\n",
              "      filter: drop-shadow(0px 1px 2px rgba(0, 0, 0, 0.3));\n",
              "      fill: #FFFFFF;\n",
              "    }\n",
              "  </style>\n",
              "\n",
              "      <script>\n",
              "        const buttonEl =\n",
              "          document.querySelector('#df-12871bcf-67c7-4420-b9e2-48f9d9fadf2b button.colab-df-convert');\n",
              "        buttonEl.style.display =\n",
              "          google.colab.kernel.accessAllowed ? 'block' : 'none';\n",
              "\n",
              "        async function convertToInteractive(key) {\n",
              "          const element = document.querySelector('#df-12871bcf-67c7-4420-b9e2-48f9d9fadf2b');\n",
              "          const dataTable =\n",
              "            await google.colab.kernel.invokeFunction('convertToInteractive',\n",
              "                                                     [key], {});\n",
              "          if (!dataTable) return;\n",
              "\n",
              "          const docLinkHtml = 'Like what you see? Visit the ' +\n",
              "            '<a target=\"_blank\" href=https://colab.research.google.com/notebooks/data_table.ipynb>data table notebook</a>'\n",
              "            + ' to learn more about interactive tables.';\n",
              "          element.innerHTML = '';\n",
              "          dataTable['output_type'] = 'display_data';\n",
              "          await google.colab.output.renderOutput(dataTable, element);\n",
              "          const docLink = document.createElement('div');\n",
              "          docLink.innerHTML = docLinkHtml;\n",
              "          element.appendChild(docLink);\n",
              "        }\n",
              "      </script>\n",
              "    </div>\n",
              "  </div>\n",
              "  "
            ]
          },
          "metadata": {},
          "execution_count": 255
        }
      ]
    },
    {
      "cell_type": "markdown",
      "source": [
        "###**Variables**"
      ],
      "metadata": {
        "id": "4CDEiLrVd_bq"
      }
    },
    {
      "cell_type": "markdown",
      "source": [
        "####**Exploración inicial**"
      ],
      "metadata": {
        "id": "HZroJNlmRgqX"
      }
    },
    {
      "cell_type": "code",
      "source": [
        "df.info()"
      ],
      "metadata": {
        "colab": {
          "base_uri": "https://localhost:8080/"
        },
        "id": "-xB768HG90vZ",
        "outputId": "4d8834eb-dacd-4e40-ed96-2da63525a02e"
      },
      "execution_count": 256,
      "outputs": [
        {
          "output_type": "stream",
          "name": "stdout",
          "text": [
            "<class 'pandas.core.frame.DataFrame'>\n",
            "RangeIndex: 1068 entries, 0 to 1067\n",
            "Data columns (total 57 columns):\n",
            " #   Column                Non-Null Count  Dtype  \n",
            "---  ------                --------------  -----  \n",
            " 0   CLAVE                 1068 non-null   object \n",
            " 1   SITIO                 1068 non-null   object \n",
            " 2   ORGANISMO_DE_CUENCA   1068 non-null   object \n",
            " 3   ESTADO                1068 non-null   object \n",
            " 4   MUNICIPIO             1068 non-null   object \n",
            " 5   ACUIFERO              1068 non-null   object \n",
            " 6   SUBTIPO               1068 non-null   object \n",
            " 7   LONGITUD              1068 non-null   float64\n",
            " 8   LATITUD               1068 non-null   float64\n",
            " 9   PERIODO               1068 non-null   int64  \n",
            " 10  ALC_mg/L              1064 non-null   float64\n",
            " 11  CALIDAD_ALC           1064 non-null   object \n",
            " 12  CONDUCT_mS/cm         1062 non-null   float64\n",
            " 13  CALIDAD_CONDUC        1062 non-null   object \n",
            " 14  SDT_mg/L              0 non-null      float64\n",
            " 15  SDT_M_mg/L            1066 non-null   object \n",
            " 16  CALIDAD_SDT_ra        1066 non-null   object \n",
            " 17  CALIDAD_SDT_salin     1066 non-null   object \n",
            " 18  FLUORUROS_mg/L        1068 non-null   object \n",
            " 19  CALIDAD_FLUO          1068 non-null   object \n",
            " 20  DUR_mg/L              1067 non-null   object \n",
            " 21  CALIDAD_DUR           1067 non-null   object \n",
            " 22  COLI_FEC_NMP/100_mL   1068 non-null   object \n",
            " 23  CALIDAD_COLI_FEC      1068 non-null   object \n",
            " 24  N_NO3_mg/L            1067 non-null   object \n",
            " 25  CALIDAD_N_NO3         1067 non-null   object \n",
            " 26  AS_TOT_mg/L           1068 non-null   object \n",
            " 27  CALIDAD_AS            1068 non-null   object \n",
            " 28  CD_TOT_mg/L           1068 non-null   object \n",
            " 29  CALIDAD_CD            1068 non-null   object \n",
            " 30  CR_TOT_mg/L           1068 non-null   object \n",
            " 31  CALIDAD_CR            1068 non-null   object \n",
            " 32  HG_TOT_mg/L           1068 non-null   object \n",
            " 33  CALIDAD_HG            1068 non-null   object \n",
            " 34  PB_TOT_mg/L           1068 non-null   object \n",
            " 35  CALIDAD_PB            1068 non-null   object \n",
            " 36  MN_TOT_mg/L           1068 non-null   object \n",
            " 37  CALIDAD_MN            1068 non-null   object \n",
            " 38  FE_TOT_mg/L           1068 non-null   object \n",
            " 39  CALIDAD_FE            1068 non-null   object \n",
            " 40  SEMAFORO              1068 non-null   object \n",
            " 41  CONTAMINANTES         634 non-null    object \n",
            " 42  CUMPLE_CON_ALC        1068 non-null   object \n",
            " 43  CUMPLE_CON_COND       1068 non-null   object \n",
            " 44  CUMPLE_CON_SDT_ra     1068 non-null   object \n",
            " 45  CUMPLE_CON_SDT_salin  1068 non-null   object \n",
            " 46  CUMPLE_CON_FLUO       1068 non-null   object \n",
            " 47  CUMPLE_CON_DUR        1068 non-null   object \n",
            " 48  CUMPLE_CON_CF         1068 non-null   object \n",
            " 49  CUMPLE_CON_NO3        1068 non-null   object \n",
            " 50  CUMPLE_CON_AS         1068 non-null   object \n",
            " 51  CUMPLE_CON_CD         1068 non-null   object \n",
            " 52  CUMPLE_CON_CR         1068 non-null   object \n",
            " 53  CUMPLE_CON_HG         1068 non-null   object \n",
            " 54  CUMPLE_CON_PB         1068 non-null   object \n",
            " 55  CUMPLE_CON_MN         1068 non-null   object \n",
            " 56  CUMPLE_CON_FE         1068 non-null   object \n",
            "dtypes: float64(5), int64(1), object(51)\n",
            "memory usage: 475.7+ KB\n"
          ]
        }
      ]
    },
    {
      "cell_type": "code",
      "source": [
        "df.columns"
      ],
      "metadata": {
        "colab": {
          "base_uri": "https://localhost:8080/"
        },
        "id": "oSjJMks3gDWZ",
        "outputId": "793572a5-f06a-4995-9e15-2c5dce8ad89a"
      },
      "execution_count": 257,
      "outputs": [
        {
          "output_type": "execute_result",
          "data": {
            "text/plain": [
              "Index(['CLAVE', 'SITIO', 'ORGANISMO_DE_CUENCA', 'ESTADO', 'MUNICIPIO',\n",
              "       'ACUIFERO', 'SUBTIPO', 'LONGITUD', 'LATITUD', 'PERIODO', 'ALC_mg/L',\n",
              "       'CALIDAD_ALC', 'CONDUCT_mS/cm', 'CALIDAD_CONDUC', 'SDT_mg/L',\n",
              "       'SDT_M_mg/L', 'CALIDAD_SDT_ra', 'CALIDAD_SDT_salin', 'FLUORUROS_mg/L',\n",
              "       'CALIDAD_FLUO', 'DUR_mg/L', 'CALIDAD_DUR', 'COLI_FEC_NMP/100_mL',\n",
              "       'CALIDAD_COLI_FEC', 'N_NO3_mg/L', 'CALIDAD_N_NO3', 'AS_TOT_mg/L',\n",
              "       'CALIDAD_AS', 'CD_TOT_mg/L', 'CALIDAD_CD', 'CR_TOT_mg/L', 'CALIDAD_CR',\n",
              "       'HG_TOT_mg/L', 'CALIDAD_HG', 'PB_TOT_mg/L', 'CALIDAD_PB', 'MN_TOT_mg/L',\n",
              "       'CALIDAD_MN', 'FE_TOT_mg/L', 'CALIDAD_FE', 'SEMAFORO', 'CONTAMINANTES',\n",
              "       'CUMPLE_CON_ALC', 'CUMPLE_CON_COND', 'CUMPLE_CON_SDT_ra',\n",
              "       'CUMPLE_CON_SDT_salin', 'CUMPLE_CON_FLUO', 'CUMPLE_CON_DUR',\n",
              "       'CUMPLE_CON_CF', 'CUMPLE_CON_NO3', 'CUMPLE_CON_AS', 'CUMPLE_CON_CD',\n",
              "       'CUMPLE_CON_CR', 'CUMPLE_CON_HG', 'CUMPLE_CON_PB', 'CUMPLE_CON_MN',\n",
              "       'CUMPLE_CON_FE'],\n",
              "      dtype='object')"
            ]
          },
          "metadata": {},
          "execution_count": 257
        }
      ]
    },
    {
      "cell_type": "code",
      "source": [
        "ubicacion = ['ESTADO','MUNICIPIO']\n",
        "\n",
        "categoricas = ['CALIDAD_ALC',\n",
        "                'CALIDAD_CONDUC',\n",
        "                'CALIDAD_SDT_ra',\n",
        "                'CALIDAD_SDT_salin',\n",
        "                'CALIDAD_FLUO',\n",
        "                'CALIDAD_DUR',\n",
        "                'CALIDAD_COLI_FEC',\n",
        "                'CALIDAD_N_NO3',\n",
        "                'CALIDAD_AS',\n",
        "                'CALIDAD_CD',\n",
        "                'CALIDAD_CR',\n",
        "                'CALIDAD_HG',\n",
        "                'CALIDAD_PB',\n",
        "                'CALIDAD_MN',\n",
        "                'CALIDAD_FE']\n",
        "\n",
        "mediciones = ['ALC_mg/L', 'CONDUCT_mS/cm',\n",
        "              'SDT_M_mg/L', 'FLUORUROS_mg/L',\n",
        "              'DUR_mg/L', 'COLI_FEC_NMP/100_mL',\n",
        "              'N_NO3_mg/L', 'AS_TOT_mg/L',\n",
        "              'CD_TOT_mg/L', 'CR_TOT_mg/L',\n",
        "              'HG_TOT_mg/L', 'PB_TOT_mg/L', \n",
        "              'MN_TOT_mg/L', 'FE_TOT_mg/L',]\n",
        "\n",
        "coordenadas = ['LATITUD','LONGITUD']\n",
        "\n",
        "binarias = ['CUMPLE_CON_ALC', 'CUMPLE_CON_COND', 'CUMPLE_CON_SDT_ra',\n",
        "            'CUMPLE_CON_SDT_salin', 'CUMPLE_CON_FLUO', 'CUMPLE_CON_DUR',\n",
        "            'CUMPLE_CON_CF', 'CUMPLE_CON_NO3', 'CUMPLE_CON_AS', 'CUMPLE_CON_CD',\n",
        "            'CUMPLE_CON_CR', 'CUMPLE_CON_HG', 'CUMPLE_CON_PB', 'CUMPLE_CON_MN',\n",
        "            'CUMPLE_CON_FE']\n",
        "\n",
        "calidad=['SEMAFORO']"
      ],
      "metadata": {
        "id": "GuVjPeoV-Z4g"
      },
      "execution_count": 258,
      "outputs": []
    },
    {
      "cell_type": "markdown",
      "source": [
        "####**Variables de ubicación**\n",
        "\n",
        "Sin datos faltanes"
      ],
      "metadata": {
        "id": "ZYo9ELCh8pph"
      }
    },
    {
      "cell_type": "code",
      "source": [
        "df[ubicacion].describe()"
      ],
      "metadata": {
        "colab": {
          "base_uri": "https://localhost:8080/",
          "height": 0
        },
        "id": "Z1l1ZbH_i8rk",
        "outputId": "80b1b365-0dcf-441f-da06-7bcab9a5b26b"
      },
      "execution_count": 259,
      "outputs": [
        {
          "output_type": "execute_result",
          "data": {
            "text/plain": [
              "         ESTADO MUNICIPIO\n",
              "count      1068      1068\n",
              "unique       32       452\n",
              "top     DURANGO    LA PAZ\n",
              "freq        121        27"
            ],
            "text/html": [
              "\n",
              "  <div id=\"df-7ec65646-23a7-4d1f-8c59-1ae7073ed18d\">\n",
              "    <div class=\"colab-df-container\">\n",
              "      <div>\n",
              "<style scoped>\n",
              "    .dataframe tbody tr th:only-of-type {\n",
              "        vertical-align: middle;\n",
              "    }\n",
              "\n",
              "    .dataframe tbody tr th {\n",
              "        vertical-align: top;\n",
              "    }\n",
              "\n",
              "    .dataframe thead th {\n",
              "        text-align: right;\n",
              "    }\n",
              "</style>\n",
              "<table border=\"1\" class=\"dataframe\">\n",
              "  <thead>\n",
              "    <tr style=\"text-align: right;\">\n",
              "      <th></th>\n",
              "      <th>ESTADO</th>\n",
              "      <th>MUNICIPIO</th>\n",
              "    </tr>\n",
              "  </thead>\n",
              "  <tbody>\n",
              "    <tr>\n",
              "      <th>count</th>\n",
              "      <td>1068</td>\n",
              "      <td>1068</td>\n",
              "    </tr>\n",
              "    <tr>\n",
              "      <th>unique</th>\n",
              "      <td>32</td>\n",
              "      <td>452</td>\n",
              "    </tr>\n",
              "    <tr>\n",
              "      <th>top</th>\n",
              "      <td>DURANGO</td>\n",
              "      <td>LA PAZ</td>\n",
              "    </tr>\n",
              "    <tr>\n",
              "      <th>freq</th>\n",
              "      <td>121</td>\n",
              "      <td>27</td>\n",
              "    </tr>\n",
              "  </tbody>\n",
              "</table>\n",
              "</div>\n",
              "      <button class=\"colab-df-convert\" onclick=\"convertToInteractive('df-7ec65646-23a7-4d1f-8c59-1ae7073ed18d')\"\n",
              "              title=\"Convert this dataframe to an interactive table.\"\n",
              "              style=\"display:none;\">\n",
              "        \n",
              "  <svg xmlns=\"http://www.w3.org/2000/svg\" height=\"24px\"viewBox=\"0 0 24 24\"\n",
              "       width=\"24px\">\n",
              "    <path d=\"M0 0h24v24H0V0z\" fill=\"none\"/>\n",
              "    <path d=\"M18.56 5.44l.94 2.06.94-2.06 2.06-.94-2.06-.94-.94-2.06-.94 2.06-2.06.94zm-11 1L8.5 8.5l.94-2.06 2.06-.94-2.06-.94L8.5 2.5l-.94 2.06-2.06.94zm10 10l.94 2.06.94-2.06 2.06-.94-2.06-.94-.94-2.06-.94 2.06-2.06.94z\"/><path d=\"M17.41 7.96l-1.37-1.37c-.4-.4-.92-.59-1.43-.59-.52 0-1.04.2-1.43.59L10.3 9.45l-7.72 7.72c-.78.78-.78 2.05 0 2.83L4 21.41c.39.39.9.59 1.41.59.51 0 1.02-.2 1.41-.59l7.78-7.78 2.81-2.81c.8-.78.8-2.07 0-2.86zM5.41 20L4 18.59l7.72-7.72 1.47 1.35L5.41 20z\"/>\n",
              "  </svg>\n",
              "      </button>\n",
              "      \n",
              "  <style>\n",
              "    .colab-df-container {\n",
              "      display:flex;\n",
              "      flex-wrap:wrap;\n",
              "      gap: 12px;\n",
              "    }\n",
              "\n",
              "    .colab-df-convert {\n",
              "      background-color: #E8F0FE;\n",
              "      border: none;\n",
              "      border-radius: 50%;\n",
              "      cursor: pointer;\n",
              "      display: none;\n",
              "      fill: #1967D2;\n",
              "      height: 32px;\n",
              "      padding: 0 0 0 0;\n",
              "      width: 32px;\n",
              "    }\n",
              "\n",
              "    .colab-df-convert:hover {\n",
              "      background-color: #E2EBFA;\n",
              "      box-shadow: 0px 1px 2px rgba(60, 64, 67, 0.3), 0px 1px 3px 1px rgba(60, 64, 67, 0.15);\n",
              "      fill: #174EA6;\n",
              "    }\n",
              "\n",
              "    [theme=dark] .colab-df-convert {\n",
              "      background-color: #3B4455;\n",
              "      fill: #D2E3FC;\n",
              "    }\n",
              "\n",
              "    [theme=dark] .colab-df-convert:hover {\n",
              "      background-color: #434B5C;\n",
              "      box-shadow: 0px 1px 3px 1px rgba(0, 0, 0, 0.15);\n",
              "      filter: drop-shadow(0px 1px 2px rgba(0, 0, 0, 0.3));\n",
              "      fill: #FFFFFF;\n",
              "    }\n",
              "  </style>\n",
              "\n",
              "      <script>\n",
              "        const buttonEl =\n",
              "          document.querySelector('#df-7ec65646-23a7-4d1f-8c59-1ae7073ed18d button.colab-df-convert');\n",
              "        buttonEl.style.display =\n",
              "          google.colab.kernel.accessAllowed ? 'block' : 'none';\n",
              "\n",
              "        async function convertToInteractive(key) {\n",
              "          const element = document.querySelector('#df-7ec65646-23a7-4d1f-8c59-1ae7073ed18d');\n",
              "          const dataTable =\n",
              "            await google.colab.kernel.invokeFunction('convertToInteractive',\n",
              "                                                     [key], {});\n",
              "          if (!dataTable) return;\n",
              "\n",
              "          const docLinkHtml = 'Like what you see? Visit the ' +\n",
              "            '<a target=\"_blank\" href=https://colab.research.google.com/notebooks/data_table.ipynb>data table notebook</a>'\n",
              "            + ' to learn more about interactive tables.';\n",
              "          element.innerHTML = '';\n",
              "          dataTable['output_type'] = 'display_data';\n",
              "          await google.colab.output.renderOutput(dataTable, element);\n",
              "          const docLink = document.createElement('div');\n",
              "          docLink.innerHTML = docLinkHtml;\n",
              "          element.appendChild(docLink);\n",
              "        }\n",
              "      </script>\n",
              "    </div>\n",
              "  </div>\n",
              "  "
            ]
          },
          "metadata": {},
          "execution_count": 259
        }
      ]
    },
    {
      "cell_type": "code",
      "source": [
        "df[ubicacion].value_counts()"
      ],
      "metadata": {
        "id": "W8KD7fff5Bxe",
        "colab": {
          "base_uri": "https://localhost:8080/"
        },
        "outputId": "b7cc5d9b-13ce-4ef5-d057-440e57bdea68"
      },
      "execution_count": 260,
      "outputs": [
        {
          "output_type": "execute_result",
          "data": {
            "text/plain": [
              "ESTADO                MUNICIPIO             \n",
              "BAJA CALIFORNIA SUR   LA PAZ                    27\n",
              "BAJA CALIFORNIA       ENSENADA                  26\n",
              "COAHUILA DE ZARAGOZA  PARRAS                    24\n",
              "SONORA                HERMOSILLO                17\n",
              "YUCATAN               MERIDA                    16\n",
              "                                                ..\n",
              "PUEBLA                SAN JOSE MIAHUATLAN        1\n",
              "COAHUILA DE ZARAGOZA  ARTEAGA                    1\n",
              "PUEBLA                CUAPIAXTLA DE MADERO       1\n",
              "                      CORONANGO                  1\n",
              "OAXACA                SAN LORENZO CACAOTEPEC     1\n",
              "Length: 462, dtype: int64"
            ]
          },
          "metadata": {},
          "execution_count": 260
        }
      ]
    },
    {
      "cell_type": "markdown",
      "source": [
        "#### **Variables categóricas**"
      ],
      "metadata": {
        "id": "dqNKobak-jgD"
      }
    },
    {
      "cell_type": "code",
      "source": [
        "df[categoricas].describe()"
      ],
      "metadata": {
        "colab": {
          "base_uri": "https://localhost:8080/",
          "height": 0
        },
        "id": "IctLNPQkjhGC",
        "outputId": "b6cb145f-b921-4bbb-e6d7-d8276706eadb"
      },
      "execution_count": 261,
      "outputs": [
        {
          "output_type": "execute_result",
          "data": {
            "text/plain": [
              "       CALIDAD_ALC         CALIDAD_CONDUC        CALIDAD_SDT_ra  \\\n",
              "count         1064                   1062                  1066   \n",
              "unique           4                      5                     5   \n",
              "top           Alta  Permisible para riego  Excelente para riego   \n",
              "freq           794                    460                   491   \n",
              "\n",
              "       CALIDAD_SDT_salin CALIDAD_FLUO     CALIDAD_DUR     CALIDAD_COLI_FEC  \\\n",
              "count               1066         1068            1067                 1068   \n",
              "unique                 4            4               4                    5   \n",
              "top      Potable - Dulce         Baja  Potable - Dura  Potable - Excelente   \n",
              "freq                 834          434             577                  739   \n",
              "\n",
              "              CALIDAD_N_NO3           CALIDAD_AS           CALIDAD_CD  \\\n",
              "count                  1067                 1068                 1068   \n",
              "unique                    3                    3                    2   \n",
              "top     Potable - Excelente  Potable - Excelente  Potable - Excelente   \n",
              "freq                    788                  816                 1066   \n",
              "\n",
              "                 CALIDAD_CR           CALIDAD_HG           CALIDAD_PB  \\\n",
              "count                  1068                 1068                 1068   \n",
              "unique                    2                    2                    2   \n",
              "top     Potable - Excelente  Potable - Excelente  Potable - Excelente   \n",
              "freq                   1053                 1067                 1056   \n",
              "\n",
              "                 CALIDAD_MN           CALIDAD_FE  \n",
              "count                  1068                 1068  \n",
              "unique                    3                    2  \n",
              "top     Potable - Excelente  Potable - Excelente  \n",
              "freq                    982                  932  "
            ],
            "text/html": [
              "\n",
              "  <div id=\"df-92fed4d4-6a62-431b-b5d4-52703dfaf36f\">\n",
              "    <div class=\"colab-df-container\">\n",
              "      <div>\n",
              "<style scoped>\n",
              "    .dataframe tbody tr th:only-of-type {\n",
              "        vertical-align: middle;\n",
              "    }\n",
              "\n",
              "    .dataframe tbody tr th {\n",
              "        vertical-align: top;\n",
              "    }\n",
              "\n",
              "    .dataframe thead th {\n",
              "        text-align: right;\n",
              "    }\n",
              "</style>\n",
              "<table border=\"1\" class=\"dataframe\">\n",
              "  <thead>\n",
              "    <tr style=\"text-align: right;\">\n",
              "      <th></th>\n",
              "      <th>CALIDAD_ALC</th>\n",
              "      <th>CALIDAD_CONDUC</th>\n",
              "      <th>CALIDAD_SDT_ra</th>\n",
              "      <th>CALIDAD_SDT_salin</th>\n",
              "      <th>CALIDAD_FLUO</th>\n",
              "      <th>CALIDAD_DUR</th>\n",
              "      <th>CALIDAD_COLI_FEC</th>\n",
              "      <th>CALIDAD_N_NO3</th>\n",
              "      <th>CALIDAD_AS</th>\n",
              "      <th>CALIDAD_CD</th>\n",
              "      <th>CALIDAD_CR</th>\n",
              "      <th>CALIDAD_HG</th>\n",
              "      <th>CALIDAD_PB</th>\n",
              "      <th>CALIDAD_MN</th>\n",
              "      <th>CALIDAD_FE</th>\n",
              "    </tr>\n",
              "  </thead>\n",
              "  <tbody>\n",
              "    <tr>\n",
              "      <th>count</th>\n",
              "      <td>1064</td>\n",
              "      <td>1062</td>\n",
              "      <td>1066</td>\n",
              "      <td>1066</td>\n",
              "      <td>1068</td>\n",
              "      <td>1067</td>\n",
              "      <td>1068</td>\n",
              "      <td>1067</td>\n",
              "      <td>1068</td>\n",
              "      <td>1068</td>\n",
              "      <td>1068</td>\n",
              "      <td>1068</td>\n",
              "      <td>1068</td>\n",
              "      <td>1068</td>\n",
              "      <td>1068</td>\n",
              "    </tr>\n",
              "    <tr>\n",
              "      <th>unique</th>\n",
              "      <td>4</td>\n",
              "      <td>5</td>\n",
              "      <td>5</td>\n",
              "      <td>4</td>\n",
              "      <td>4</td>\n",
              "      <td>4</td>\n",
              "      <td>5</td>\n",
              "      <td>3</td>\n",
              "      <td>3</td>\n",
              "      <td>2</td>\n",
              "      <td>2</td>\n",
              "      <td>2</td>\n",
              "      <td>2</td>\n",
              "      <td>3</td>\n",
              "      <td>2</td>\n",
              "    </tr>\n",
              "    <tr>\n",
              "      <th>top</th>\n",
              "      <td>Alta</td>\n",
              "      <td>Permisible para riego</td>\n",
              "      <td>Excelente para riego</td>\n",
              "      <td>Potable - Dulce</td>\n",
              "      <td>Baja</td>\n",
              "      <td>Potable - Dura</td>\n",
              "      <td>Potable - Excelente</td>\n",
              "      <td>Potable - Excelente</td>\n",
              "      <td>Potable - Excelente</td>\n",
              "      <td>Potable - Excelente</td>\n",
              "      <td>Potable - Excelente</td>\n",
              "      <td>Potable - Excelente</td>\n",
              "      <td>Potable - Excelente</td>\n",
              "      <td>Potable - Excelente</td>\n",
              "      <td>Potable - Excelente</td>\n",
              "    </tr>\n",
              "    <tr>\n",
              "      <th>freq</th>\n",
              "      <td>794</td>\n",
              "      <td>460</td>\n",
              "      <td>491</td>\n",
              "      <td>834</td>\n",
              "      <td>434</td>\n",
              "      <td>577</td>\n",
              "      <td>739</td>\n",
              "      <td>788</td>\n",
              "      <td>816</td>\n",
              "      <td>1066</td>\n",
              "      <td>1053</td>\n",
              "      <td>1067</td>\n",
              "      <td>1056</td>\n",
              "      <td>982</td>\n",
              "      <td>932</td>\n",
              "    </tr>\n",
              "  </tbody>\n",
              "</table>\n",
              "</div>\n",
              "      <button class=\"colab-df-convert\" onclick=\"convertToInteractive('df-92fed4d4-6a62-431b-b5d4-52703dfaf36f')\"\n",
              "              title=\"Convert this dataframe to an interactive table.\"\n",
              "              style=\"display:none;\">\n",
              "        \n",
              "  <svg xmlns=\"http://www.w3.org/2000/svg\" height=\"24px\"viewBox=\"0 0 24 24\"\n",
              "       width=\"24px\">\n",
              "    <path d=\"M0 0h24v24H0V0z\" fill=\"none\"/>\n",
              "    <path d=\"M18.56 5.44l.94 2.06.94-2.06 2.06-.94-2.06-.94-.94-2.06-.94 2.06-2.06.94zm-11 1L8.5 8.5l.94-2.06 2.06-.94-2.06-.94L8.5 2.5l-.94 2.06-2.06.94zm10 10l.94 2.06.94-2.06 2.06-.94-2.06-.94-.94-2.06-.94 2.06-2.06.94z\"/><path d=\"M17.41 7.96l-1.37-1.37c-.4-.4-.92-.59-1.43-.59-.52 0-1.04.2-1.43.59L10.3 9.45l-7.72 7.72c-.78.78-.78 2.05 0 2.83L4 21.41c.39.39.9.59 1.41.59.51 0 1.02-.2 1.41-.59l7.78-7.78 2.81-2.81c.8-.78.8-2.07 0-2.86zM5.41 20L4 18.59l7.72-7.72 1.47 1.35L5.41 20z\"/>\n",
              "  </svg>\n",
              "      </button>\n",
              "      \n",
              "  <style>\n",
              "    .colab-df-container {\n",
              "      display:flex;\n",
              "      flex-wrap:wrap;\n",
              "      gap: 12px;\n",
              "    }\n",
              "\n",
              "    .colab-df-convert {\n",
              "      background-color: #E8F0FE;\n",
              "      border: none;\n",
              "      border-radius: 50%;\n",
              "      cursor: pointer;\n",
              "      display: none;\n",
              "      fill: #1967D2;\n",
              "      height: 32px;\n",
              "      padding: 0 0 0 0;\n",
              "      width: 32px;\n",
              "    }\n",
              "\n",
              "    .colab-df-convert:hover {\n",
              "      background-color: #E2EBFA;\n",
              "      box-shadow: 0px 1px 2px rgba(60, 64, 67, 0.3), 0px 1px 3px 1px rgba(60, 64, 67, 0.15);\n",
              "      fill: #174EA6;\n",
              "    }\n",
              "\n",
              "    [theme=dark] .colab-df-convert {\n",
              "      background-color: #3B4455;\n",
              "      fill: #D2E3FC;\n",
              "    }\n",
              "\n",
              "    [theme=dark] .colab-df-convert:hover {\n",
              "      background-color: #434B5C;\n",
              "      box-shadow: 0px 1px 3px 1px rgba(0, 0, 0, 0.15);\n",
              "      filter: drop-shadow(0px 1px 2px rgba(0, 0, 0, 0.3));\n",
              "      fill: #FFFFFF;\n",
              "    }\n",
              "  </style>\n",
              "\n",
              "      <script>\n",
              "        const buttonEl =\n",
              "          document.querySelector('#df-92fed4d4-6a62-431b-b5d4-52703dfaf36f button.colab-df-convert');\n",
              "        buttonEl.style.display =\n",
              "          google.colab.kernel.accessAllowed ? 'block' : 'none';\n",
              "\n",
              "        async function convertToInteractive(key) {\n",
              "          const element = document.querySelector('#df-92fed4d4-6a62-431b-b5d4-52703dfaf36f');\n",
              "          const dataTable =\n",
              "            await google.colab.kernel.invokeFunction('convertToInteractive',\n",
              "                                                     [key], {});\n",
              "          if (!dataTable) return;\n",
              "\n",
              "          const docLinkHtml = 'Like what you see? Visit the ' +\n",
              "            '<a target=\"_blank\" href=https://colab.research.google.com/notebooks/data_table.ipynb>data table notebook</a>'\n",
              "            + ' to learn more about interactive tables.';\n",
              "          element.innerHTML = '';\n",
              "          dataTable['output_type'] = 'display_data';\n",
              "          await google.colab.output.renderOutput(dataTable, element);\n",
              "          const docLink = document.createElement('div');\n",
              "          docLink.innerHTML = docLinkHtml;\n",
              "          element.appendChild(docLink);\n",
              "        }\n",
              "      </script>\n",
              "    </div>\n",
              "  </div>\n",
              "  "
            ]
          },
          "metadata": {},
          "execution_count": 261
        }
      ]
    },
    {
      "cell_type": "markdown",
      "source": [
        "Las variables categóricas de “CALIDAD” contienen entre 2 y 5 categorías cada una y contienen muy pocos valores faltantes.\n",
        "<br>\n",
        "Estos valores aparecen como “ND” en las variables de CUMPLIMIENTO y no fueron tomados en cuenta al momento de construir la variable de “SEMAFORO”."
      ],
      "metadata": {
        "id": "qXpCi5gGAfLZ"
      }
    },
    {
      "cell_type": "code",
      "source": [
        "df[categoricas].isnull().sum()"
      ],
      "metadata": {
        "colab": {
          "base_uri": "https://localhost:8080/"
        },
        "id": "V2Fz_LRBjvaB",
        "outputId": "79f9373e-1bb7-40cf-81a6-c65855e29f3e"
      },
      "execution_count": 262,
      "outputs": [
        {
          "output_type": "execute_result",
          "data": {
            "text/plain": [
              "CALIDAD_ALC          4\n",
              "CALIDAD_CONDUC       6\n",
              "CALIDAD_SDT_ra       2\n",
              "CALIDAD_SDT_salin    2\n",
              "CALIDAD_FLUO         0\n",
              "CALIDAD_DUR          1\n",
              "CALIDAD_COLI_FEC     0\n",
              "CALIDAD_N_NO3        1\n",
              "CALIDAD_AS           0\n",
              "CALIDAD_CD           0\n",
              "CALIDAD_CR           0\n",
              "CALIDAD_HG           0\n",
              "CALIDAD_PB           0\n",
              "CALIDAD_MN           0\n",
              "CALIDAD_FE           0\n",
              "dtype: int64"
            ]
          },
          "metadata": {},
          "execution_count": 262
        }
      ]
    },
    {
      "cell_type": "code",
      "source": [
        "df1=df[df['CALIDAD_ALC'].isnull()]\n",
        "print(df1[calidad],df1[binarias])"
      ],
      "metadata": {
        "colab": {
          "base_uri": "https://localhost:8080/"
        },
        "id": "r5MAXOj_j4H1",
        "outputId": "70854e70-8ab3-4cf1-851d-d5784c892265"
      },
      "execution_count": 263,
      "outputs": [
        {
          "output_type": "stream",
          "name": "stdout",
          "text": [
            "    SEMAFORO\n",
            "406     Rojo\n",
            "407    Verde\n",
            "722    Verde\n",
            "861     Rojo     CUMPLE_CON_ALC CUMPLE_CON_COND CUMPLE_CON_SDT_ra CUMPLE_CON_SDT_salin  \\\n",
            "406             ND              SI                SI                   SI   \n",
            "407             ND              SI                SI                   SI   \n",
            "722             ND              SI                SI                   SI   \n",
            "861             ND              SI                SI                   SI   \n",
            "\n",
            "    CUMPLE_CON_FLUO CUMPLE_CON_DUR CUMPLE_CON_CF CUMPLE_CON_NO3 CUMPLE_CON_AS  \\\n",
            "406              SI             SI            SI             NO            SI   \n",
            "407              SI             SI            SI             SI            SI   \n",
            "722              SI             SI            SI             SI            SI   \n",
            "861              NO             SI            SI             SI            SI   \n",
            "\n",
            "    CUMPLE_CON_CD CUMPLE_CON_CR CUMPLE_CON_HG CUMPLE_CON_PB CUMPLE_CON_MN  \\\n",
            "406            SI            SI            SI            SI            SI   \n",
            "407            SI            SI            SI            SI            SI   \n",
            "722            SI            SI            SI            SI            SI   \n",
            "861            SI            SI            SI            SI            SI   \n",
            "\n",
            "    CUMPLE_CON_FE  \n",
            "406            SI  \n",
            "407            SI  \n",
            "722            SI  \n",
            "861            SI  \n"
          ]
        }
      ]
    },
    {
      "cell_type": "code",
      "source": [
        "df1=df[df['CALIDAD_CONDUC'].isnull()]\n",
        "print(df1[calidad],df1[binarias])"
      ],
      "metadata": {
        "colab": {
          "base_uri": "https://localhost:8080/"
        },
        "id": "HjKlnH4PmJMI",
        "outputId": "0bb19b90-e381-4f7f-92cf-8162aa13db07"
      },
      "execution_count": 264,
      "outputs": [
        {
          "output_type": "stream",
          "name": "stdout",
          "text": [
            "     SEMAFORO\n",
            "18       Rojo\n",
            "281     Verde\n",
            "293      Rojo\n",
            "616  Amarillo\n",
            "891     Verde\n",
            "906     Verde     CUMPLE_CON_ALC CUMPLE_CON_COND CUMPLE_CON_SDT_ra CUMPLE_CON_SDT_salin  \\\n",
            "18              SI              ND                SI                   SI   \n",
            "281             SI              ND                SI                   SI   \n",
            "293             NO              ND                SI                   SI   \n",
            "616             NO              ND                NO                   NO   \n",
            "891             SI              ND                SI                   SI   \n",
            "906             SI              ND                SI                   SI   \n",
            "\n",
            "    CUMPLE_CON_FLUO CUMPLE_CON_DUR CUMPLE_CON_CF CUMPLE_CON_NO3 CUMPLE_CON_AS  \\\n",
            "18               SI             SI            SI             SI            NO   \n",
            "281              SI             SI            SI             SI            SI   \n",
            "293              NO             SI            SI             SI            NO   \n",
            "616              SI             NO            SI             SI            SI   \n",
            "891              SI             SI            SI             SI            SI   \n",
            "906              SI             SI            SI             SI            SI   \n",
            "\n",
            "    CUMPLE_CON_CD CUMPLE_CON_CR CUMPLE_CON_HG CUMPLE_CON_PB CUMPLE_CON_MN  \\\n",
            "18             SI            SI            SI            SI            SI   \n",
            "281            SI            SI            SI            SI            SI   \n",
            "293            SI            SI            SI            SI            SI   \n",
            "616            SI            SI            SI            SI            NO   \n",
            "891            SI            SI            SI            SI            SI   \n",
            "906            SI            SI            SI            SI            SI   \n",
            "\n",
            "    CUMPLE_CON_FE  \n",
            "18             SI  \n",
            "281            SI  \n",
            "293            SI  \n",
            "616            NO  \n",
            "891            SI  \n",
            "906            SI  \n"
          ]
        }
      ]
    },
    {
      "cell_type": "code",
      "source": [
        "df1=df[df['CALIDAD_SDT_ra'].isnull()]\n",
        "print(df1[calidad],df1[binarias])"
      ],
      "metadata": {
        "colab": {
          "base_uri": "https://localhost:8080/"
        },
        "id": "1kgIr23pkX8F",
        "outputId": "237ac22b-6d45-4bc5-dfc1-e8661ab350ed"
      },
      "execution_count": 265,
      "outputs": [
        {
          "output_type": "stream",
          "name": "stdout",
          "text": [
            "     SEMAFORO\n",
            "175      Rojo\n",
            "677  Amarillo     CUMPLE_CON_ALC CUMPLE_CON_COND CUMPLE_CON_SDT_ra CUMPLE_CON_SDT_salin  \\\n",
            "175             SI              SI                ND                   ND   \n",
            "677             SI              SI                ND                   ND   \n",
            "\n",
            "    CUMPLE_CON_FLUO CUMPLE_CON_DUR CUMPLE_CON_CF CUMPLE_CON_NO3 CUMPLE_CON_AS  \\\n",
            "175              SI             SI            SI             NO            SI   \n",
            "677              SI             SI            SI             SI            SI   \n",
            "\n",
            "    CUMPLE_CON_CD CUMPLE_CON_CR CUMPLE_CON_HG CUMPLE_CON_PB CUMPLE_CON_MN  \\\n",
            "175            SI            SI            SI            SI            SI   \n",
            "677            SI            SI            SI            SI            SI   \n",
            "\n",
            "    CUMPLE_CON_FE  \n",
            "175            SI  \n",
            "677            NO  \n"
          ]
        }
      ]
    },
    {
      "cell_type": "code",
      "source": [
        "df1=df[df['CALIDAD_SDT_salin'].isnull()]\n",
        "print(df1[calidad],df1[binarias])"
      ],
      "metadata": {
        "colab": {
          "base_uri": "https://localhost:8080/"
        },
        "id": "VxCRnuhbl1eW",
        "outputId": "a3a7eaf7-dc60-4e14-d7c4-06f0f8de5549"
      },
      "execution_count": 266,
      "outputs": [
        {
          "output_type": "stream",
          "name": "stdout",
          "text": [
            "     SEMAFORO\n",
            "175      Rojo\n",
            "677  Amarillo     CUMPLE_CON_ALC CUMPLE_CON_COND CUMPLE_CON_SDT_ra CUMPLE_CON_SDT_salin  \\\n",
            "175             SI              SI                ND                   ND   \n",
            "677             SI              SI                ND                   ND   \n",
            "\n",
            "    CUMPLE_CON_FLUO CUMPLE_CON_DUR CUMPLE_CON_CF CUMPLE_CON_NO3 CUMPLE_CON_AS  \\\n",
            "175              SI             SI            SI             NO            SI   \n",
            "677              SI             SI            SI             SI            SI   \n",
            "\n",
            "    CUMPLE_CON_CD CUMPLE_CON_CR CUMPLE_CON_HG CUMPLE_CON_PB CUMPLE_CON_MN  \\\n",
            "175            SI            SI            SI            SI            SI   \n",
            "677            SI            SI            SI            SI            SI   \n",
            "\n",
            "    CUMPLE_CON_FE  \n",
            "175            SI  \n",
            "677            NO  \n"
          ]
        }
      ]
    },
    {
      "cell_type": "code",
      "source": [
        "df1=df[df['CALIDAD_DUR'].isnull()]\n",
        "print(df1[calidad],df1[binarias])"
      ],
      "metadata": {
        "colab": {
          "base_uri": "https://localhost:8080/"
        },
        "id": "8kteR5qLnKKb",
        "outputId": "3592e85f-9626-4a14-9c6e-adb4b9887c40"
      },
      "execution_count": 267,
      "outputs": [
        {
          "output_type": "stream",
          "name": "stdout",
          "text": [
            "    SEMAFORO\n",
            "635    Verde     CUMPLE_CON_ALC CUMPLE_CON_COND CUMPLE_CON_SDT_ra CUMPLE_CON_SDT_salin  \\\n",
            "635             SI              SI                SI                   SI   \n",
            "\n",
            "    CUMPLE_CON_FLUO CUMPLE_CON_DUR CUMPLE_CON_CF CUMPLE_CON_NO3 CUMPLE_CON_AS  \\\n",
            "635              SI             ND            SI             SI            SI   \n",
            "\n",
            "    CUMPLE_CON_CD CUMPLE_CON_CR CUMPLE_CON_HG CUMPLE_CON_PB CUMPLE_CON_MN  \\\n",
            "635            SI            SI            SI            SI            SI   \n",
            "\n",
            "    CUMPLE_CON_FE  \n",
            "635            SI  \n"
          ]
        }
      ]
    },
    {
      "cell_type": "code",
      "source": [
        "df1=df[df['CALIDAD_N_NO3'].isnull()]\n",
        "print(df1[calidad],df1[binarias])"
      ],
      "metadata": {
        "colab": {
          "base_uri": "https://localhost:8080/"
        },
        "id": "2arl9pwxnT8n",
        "outputId": "8abafad7-e7f4-4059-8163-08bd22df801a"
      },
      "execution_count": 268,
      "outputs": [
        {
          "output_type": "stream",
          "name": "stdout",
          "text": [
            "    SEMAFORO\n",
            "234    Verde     CUMPLE_CON_ALC CUMPLE_CON_COND CUMPLE_CON_SDT_ra CUMPLE_CON_SDT_salin  \\\n",
            "234             SI              SI                SI                   SI   \n",
            "\n",
            "    CUMPLE_CON_FLUO CUMPLE_CON_DUR CUMPLE_CON_CF CUMPLE_CON_NO3 CUMPLE_CON_AS  \\\n",
            "234              SI             SI            SI             ND            SI   \n",
            "\n",
            "    CUMPLE_CON_CD CUMPLE_CON_CR CUMPLE_CON_HG CUMPLE_CON_PB CUMPLE_CON_MN  \\\n",
            "234            SI            SI            SI            SI            SI   \n",
            "\n",
            "    CUMPLE_CON_FE  \n",
            "234            SI  \n"
          ]
        }
      ]
    },
    {
      "cell_type": "markdown",
      "source": [
        "####**Variables con mediciones (numéricas)**\n",
        "\n",
        "Se analizaron las 14 variables numéricas y se tomo la decisión de realizar las siguientes acciones para cada una de ellas:\n",
        "\n",
        "* Sustituir los “strings” que aparecen con datos numéricos congruentes.\n",
        "* Imputar los datos faltantes con la mediana\n",
        "* Reducir la magnitud de los outliers."
      ],
      "metadata": {
        "id": "zni85U2MECj-"
      }
    },
    {
      "cell_type": "markdown",
      "source": [
        "#####**Variable [ALC_mg/L]**\n",
        "\n",
        "-*Imputación de valores faltantes*\n",
        "<br>\n",
        "-*Reducción de magnitud de Outliers*"
      ],
      "metadata": {
        "id": "lM21rAAsAZTH"
      }
    },
    {
      "cell_type": "code",
      "source": [
        "df['ALC_mg/L'].isnull().sum()"
      ],
      "metadata": {
        "id": "iuDjBVS4m0eP",
        "outputId": "ef5cb539-e185-4f91-e2bb-361d145b3833",
        "colab": {
          "base_uri": "https://localhost:8080/"
        }
      },
      "execution_count": 269,
      "outputs": [
        {
          "output_type": "execute_result",
          "data": {
            "text/plain": [
              "4"
            ]
          },
          "metadata": {},
          "execution_count": 269
        }
      ]
    },
    {
      "cell_type": "code",
      "source": [
        "#Imputamos la variable bore con la mediana\n",
        "df['ALC_mg/L'].fillna(df['ALC_mg/L'].median(), inplace=True)"
      ],
      "metadata": {
        "id": "58C7AquwQLs6"
      },
      "execution_count": 270,
      "outputs": []
    },
    {
      "cell_type": "code",
      "source": [
        "df['ALC_mg/L'].isnull().sum()"
      ],
      "metadata": {
        "colab": {
          "base_uri": "https://localhost:8080/"
        },
        "id": "oAj325VD9M_N",
        "outputId": "53fe78db-ce73-43ca-f1a9-0df295ebb71e"
      },
      "execution_count": 271,
      "outputs": [
        {
          "output_type": "execute_result",
          "data": {
            "text/plain": [
              "0"
            ]
          },
          "metadata": {},
          "execution_count": 271
        }
      ]
    },
    {
      "cell_type": "code",
      "source": [
        "df['ALC_mg/L'].describe()"
      ],
      "metadata": {
        "id": "D5Msd11hpo6T",
        "outputId": "f6eb41c2-550e-42e1-a64c-16e8902cd21e",
        "colab": {
          "base_uri": "https://localhost:8080/"
        }
      },
      "execution_count": 272,
      "outputs": [
        {
          "output_type": "execute_result",
          "data": {
            "text/plain": [
              "count    1068.000000\n",
              "mean      235.558455\n",
              "std       116.661485\n",
              "min        26.640000\n",
              "25%       164.048750\n",
              "50%       215.527500\n",
              "75%       292.423750\n",
              "max      1650.000000\n",
              "Name: ALC_mg/L, dtype: float64"
            ]
          },
          "metadata": {},
          "execution_count": 272
        }
      ]
    },
    {
      "cell_type": "code",
      "source": [
        "#Detección de outliers con boxplot\n",
        "fig, axs = plt.subplots(figsize=(10, 4))\n",
        "sns.boxplot(data=df[['ALC_mg/L']], orient='h', ax=axs)\n",
        "plt.title('Box plot de variables numericas')\n",
        "plt.grid()\n",
        "plt.show()"
      ],
      "metadata": {
        "id": "aZvCCjoqREiZ",
        "outputId": "f25948b3-1eea-4af3-f0c9-58f78578ae5f",
        "colab": {
          "base_uri": "https://localhost:8080/",
          "height": 281
        }
      },
      "execution_count": 273,
      "outputs": [
        {
          "output_type": "display_data",
          "data": {
            "text/plain": [
              "<Figure size 720x288 with 1 Axes>"
            ],
            "image/png": "[encoded data removed]"
          },
          "metadata": {
            "needs_background": "light"
          }
        }
      ]
    },
    {
      "cell_type": "code",
      "source": [
        "df[df['ALC_mg/L'] > 500]['ALC_mg/L'].count()"
      ],
      "metadata": {
        "id": "3U7nee--khgw",
        "outputId": "9d1f945c-c872-4061-ed85-f55569a6acb1",
        "colab": {
          "base_uri": "https://localhost:8080/"
        }
      },
      "execution_count": 274,
      "outputs": [
        {
          "output_type": "execute_result",
          "data": {
            "text/plain": [
              "23"
            ]
          },
          "metadata": {},
          "execution_count": 274
        }
      ]
    },
    {
      "cell_type": "code",
      "source": [
        "df.loc[df['ALC_mg/L'] > 500, 'ALC_mg/L'] = 500"
      ],
      "metadata": {
        "id": "vYIShDsg9EFi"
      },
      "execution_count": 275,
      "outputs": []
    },
    {
      "cell_type": "code",
      "source": [
        "fig, axs = plt.subplots(figsize=(10, 4))\n",
        "sns.boxplot(data=df[['ALC_mg/L']], orient='h', ax=axs)\n",
        "plt.title('Box plot de variables numericas')\n",
        "plt.grid()\n",
        "plt.show()"
      ],
      "metadata": {
        "colab": {
          "base_uri": "https://localhost:8080/",
          "height": 281
        },
        "id": "jzR5_f6l8kyK",
        "outputId": "b587e0d1-21c2-4ffb-96f6-2264893a8560"
      },
      "execution_count": 276,
      "outputs": [
        {
          "output_type": "display_data",
          "data": {
            "text/plain": [
              "<Figure size 720x288 with 1 Axes>"
            ],
            "image/png": "[encoded data removed]"
          },
          "metadata": {
            "needs_background": "light"
          }
        }
      ]
    },
    {
      "cell_type": "markdown",
      "source": [
        "#####**Variable [CONDUCT_mS/cm]**\n",
        "\n",
        "-*Imputación de valores faltantes*\n",
        "<br>\n",
        "-*Reducción de magnitud de Outliers*"
      ],
      "metadata": {
        "id": "K1tKw7JhAo4Z"
      }
    },
    {
      "cell_type": "code",
      "source": [
        "df['CONDUCT_mS/cm'].isnull().sum()"
      ],
      "metadata": {
        "id": "FHmL_Z-6oTFj",
        "outputId": "022e361e-10d7-4993-f7ae-649cecd6f825",
        "colab": {
          "base_uri": "https://localhost:8080/"
        }
      },
      "execution_count": 277,
      "outputs": [
        {
          "output_type": "execute_result",
          "data": {
            "text/plain": [
              "6"
            ]
          },
          "metadata": {},
          "execution_count": 277
        }
      ]
    },
    {
      "cell_type": "code",
      "source": [
        "#Imputamos la variable bore con la mediana\n",
        "df['CONDUCT_mS/cm'].fillna(df['CONDUCT_mS/cm'].median(), inplace=True)"
      ],
      "metadata": {
        "id": "zoXdHBk9ovCV"
      },
      "execution_count": 278,
      "outputs": []
    },
    {
      "cell_type": "code",
      "source": [
        "df['CONDUCT_mS/cm'].isnull().sum()"
      ],
      "metadata": {
        "id": "KRlho2aQo29u",
        "outputId": "bc1dd760-6126-4b1d-8637-0cb844049d3a",
        "colab": {
          "base_uri": "https://localhost:8080/"
        }
      },
      "execution_count": 279,
      "outputs": [
        {
          "output_type": "execute_result",
          "data": {
            "text/plain": [
              "0"
            ]
          },
          "metadata": {},
          "execution_count": 279
        }
      ]
    },
    {
      "cell_type": "code",
      "source": [
        "df['CONDUCT_mS/cm'].describe()"
      ],
      "metadata": {
        "id": "D-6eZawzpei0",
        "outputId": "d22737a9-2e62-4eec-911b-685d458bb438",
        "colab": {
          "base_uri": "https://localhost:8080/"
        }
      },
      "execution_count": 280,
      "outputs": [
        {
          "output_type": "execute_result",
          "data": {
            "text/plain": [
              "count     1068.000000\n",
              "mean      1137.133052\n",
              "std       1242.292889\n",
              "min         50.400000\n",
              "25%        505.500000\n",
              "50%        815.000000\n",
              "75%       1321.250000\n",
              "max      18577.000000\n",
              "Name: CONDUCT_mS/cm, dtype: float64"
            ]
          },
          "metadata": {},
          "execution_count": 280
        }
      ]
    },
    {
      "cell_type": "code",
      "source": [
        "\n",
        "fig, axs = plt.subplots(figsize=(10, 4))\n",
        "sns.boxplot(data=df[['CONDUCT_mS/cm']], orient='h', ax=axs)\n",
        "plt.title('Box plot de variables numericas')\n",
        "plt.grid()\n",
        "plt.show()"
      ],
      "metadata": {
        "id": "yaLxbM5dpBFb",
        "outputId": "ee706231-eca7-43bd-818f-72d40045a812",
        "colab": {
          "base_uri": "https://localhost:8080/",
          "height": 281
        }
      },
      "execution_count": 281,
      "outputs": [
        {
          "output_type": "display_data",
          "data": {
            "text/plain": [
              "<Figure size 720x288 with 1 Axes>"
            ],
            "image/png": "[encoded data removed]"
          },
          "metadata": {
            "needs_background": "light"
          }
        }
      ]
    },
    {
      "cell_type": "code",
      "source": [
        "df[df['CONDUCT_mS/cm'] > 2600]['CONDUCT_mS/cm'].count()"
      ],
      "metadata": {
        "id": "P3BD-yq_pJbJ",
        "outputId": "a10b74c1-3b54-4ea4-bf4a-dafa1cb1fa4f",
        "colab": {
          "base_uri": "https://localhost:8080/"
        }
      },
      "execution_count": 282,
      "outputs": [
        {
          "output_type": "execute_result",
          "data": {
            "text/plain": [
              "76"
            ]
          },
          "metadata": {},
          "execution_count": 282
        }
      ]
    },
    {
      "cell_type": "code",
      "source": [
        "\n",
        "df.loc[df['CONDUCT_mS/cm'] > 2600, 'CONDUCT_mS/cm']=2600"
      ],
      "metadata": {
        "id": "Wm6i1B5x_Z6-"
      },
      "execution_count": 283,
      "outputs": []
    },
    {
      "cell_type": "code",
      "source": [
        "fig, axs = plt.subplots(figsize=(10, 4))\n",
        "sns.boxplot(data=df[['CONDUCT_mS/cm']], orient='h', ax=axs)\n",
        "plt.title('Box plot de variables numericas')\n",
        "plt.grid()\n",
        "plt.show()"
      ],
      "metadata": {
        "colab": {
          "base_uri": "https://localhost:8080/",
          "height": 281
        },
        "id": "ckV-HEHq8kot",
        "outputId": "b279cb80-2ebd-49b5-9ba4-7d82537de119"
      },
      "execution_count": 284,
      "outputs": [
        {
          "output_type": "display_data",
          "data": {
            "text/plain": [
              "<Figure size 720x288 with 1 Axes>"
            ],
            "image/png": "[encoded data removed]"
          },
          "metadata": {
            "needs_background": "light"
          }
        }
      ]
    },
    {
      "cell_type": "markdown",
      "source": [
        "#####**Variable [SDT_M_mg/L]**\n",
        "\n",
        "-*Sustituir categoría en variable por valor convencional*\n",
        "<br>\n",
        "-*Imputación de valores faltantes*\n",
        "<br>\n",
        "-*Reducción de magnitud de Outliers*"
      ],
      "metadata": {
        "id": "ZoswNRKZ5Dko"
      }
    },
    {
      "cell_type": "code",
      "source": [
        "df['SDT_M_mg/L'].sort_values(ascending=False).head()"
      ],
      "metadata": {
        "colab": {
          "base_uri": "https://localhost:8080/"
        },
        "id": "8tmmUsn32tyd",
        "outputId": "35c118fb-a187-41eb-a7a1-dabe7644c158"
      },
      "execution_count": 285,
      "outputs": [
        {
          "output_type": "execute_result",
          "data": {
            "text/plain": [
              "407         <25\n",
              "14        999.8\n",
              "486    997.3333\n",
              "362         988\n",
              "31          988\n",
              "Name: SDT_M_mg/L, dtype: object"
            ]
          },
          "metadata": {},
          "execution_count": 285
        }
      ]
    },
    {
      "cell_type": "code",
      "source": [
        "#Sustitución de string categíco por valor\n",
        "\n",
        "df.loc[df['SDT_M_mg/L'] == '<25' , 'SDT_M_mg/L']='24.9'\n"
      ],
      "metadata": {
        "id": "pdWYuIqashnD"
      },
      "execution_count": 287,
      "outputs": []
    },
    {
      "cell_type": "code",
      "source": [
        "# cambio de string a numerico\n",
        "df['SDT_M_mg/L'] = pd.to_numeric(df['SDT_M_mg/L'])"
      ],
      "metadata": {
        "id": "VliwfhDlpr1G"
      },
      "execution_count": 288,
      "outputs": []
    },
    {
      "cell_type": "code",
      "source": [
        "df['SDT_M_mg/L'].isnull().sum()"
      ],
      "metadata": {
        "colab": {
          "base_uri": "https://localhost:8080/"
        },
        "id": "IwYlRiFUvQHv",
        "outputId": "0b458a57-32e1-4489-f531-05c3610d0630"
      },
      "execution_count": 289,
      "outputs": [
        {
          "output_type": "execute_result",
          "data": {
            "text/plain": [
              "2"
            ]
          },
          "metadata": {},
          "execution_count": 289
        }
      ]
    },
    {
      "cell_type": "code",
      "source": [
        "# Imputamos la variable bore con la mediana\n",
        "df['SDT_M_mg/L'].fillna(df['SDT_M_mg/L'].median(), inplace=True)\n"
      ],
      "metadata": {
        "id": "A3cDCtnMp1zd"
      },
      "execution_count": 290,
      "outputs": []
    },
    {
      "cell_type": "code",
      "source": [
        "df['SDT_M_mg/L'].isnull().sum()"
      ],
      "metadata": {
        "id": "wbhHKxQ3sjt0",
        "outputId": "18341109-295a-4ae5-ffee-99562ad3aeb3",
        "colab": {
          "base_uri": "https://localhost:8080/"
        }
      },
      "execution_count": 291,
      "outputs": [
        {
          "output_type": "execute_result",
          "data": {
            "text/plain": [
              "0"
            ]
          },
          "metadata": {},
          "execution_count": 291
        }
      ]
    },
    {
      "cell_type": "code",
      "source": [
        "df['SDT_M_mg/L'].describe()"
      ],
      "metadata": {
        "colab": {
          "base_uri": "https://localhost:8080/"
        },
        "id": "OCr6aPYaxaZ1",
        "outputId": "d3b98353-5900-482a-fc5a-deaefa06a660"
      },
      "execution_count": 292,
      "outputs": [
        {
          "output_type": "execute_result",
          "data": {
            "text/plain": [
              "count     1068.000000\n",
              "mean       895.454092\n",
              "std       2748.991324\n",
              "min         24.900000\n",
              "25%        337.700000\n",
              "50%        550.400000\n",
              "75%        915.900000\n",
              "max      82170.000000\n",
              "Name: SDT_M_mg/L, dtype: float64"
            ]
          },
          "metadata": {},
          "execution_count": 292
        }
      ]
    },
    {
      "cell_type": "code",
      "source": [
        "fig, axs = plt.subplots(figsize=(10, 4))\n",
        "sns.boxplot(data=df[['SDT_M_mg/L']], orient='h', ax=axs)\n",
        "plt.title('Box plot de variables numericas')\n",
        "plt.grid()\n",
        "plt.show()"
      ],
      "metadata": {
        "id": "kKbPSkYcs-XX",
        "outputId": "958c851b-93f4-4035-895d-8ae40716d871",
        "colab": {
          "base_uri": "https://localhost:8080/",
          "height": 281
        }
      },
      "execution_count": 293,
      "outputs": [
        {
          "output_type": "display_data",
          "data": {
            "text/plain": [
              "<Figure size 720x288 with 1 Axes>"
            ],
            "image/png": "[encoded data removed]"
          },
          "metadata": {
            "needs_background": "light"
          }
        }
      ]
    },
    {
      "cell_type": "code",
      "source": [
        "df[df['SDT_M_mg/L'] > 2000]['SDT_M_mg/L'].count()"
      ],
      "metadata": {
        "id": "dawsOFKwtIL9",
        "outputId": "9b84ac26-da1c-46e2-cae1-1e5bf6eb5132",
        "colab": {
          "base_uri": "https://localhost:8080/"
        }
      },
      "execution_count": 294,
      "outputs": [
        {
          "output_type": "execute_result",
          "data": {
            "text/plain": [
              "71"
            ]
          },
          "metadata": {},
          "execution_count": 294
        }
      ]
    },
    {
      "cell_type": "code",
      "source": [
        "df.loc[df['SDT_M_mg/L'] > 2000, 'SDT_M_mg/L']=2000"
      ],
      "metadata": {
        "id": "ftwj5_qM4NDM"
      },
      "execution_count": 295,
      "outputs": []
    },
    {
      "cell_type": "code",
      "source": [
        "fig, axs = plt.subplots(figsize=(10, 4))\n",
        "sns.boxplot(data=df[['SDT_M_mg/L']], orient='h', ax=axs)\n",
        "plt.title('Box plot de variables numericas')\n",
        "plt.grid()\n",
        "plt.show()"
      ],
      "metadata": {
        "colab": {
          "base_uri": "https://localhost:8080/",
          "height": 281
        },
        "id": "8lJfCuWexqRq",
        "outputId": "3145403a-2017-4f0f-e024-af13637cf952"
      },
      "execution_count": 296,
      "outputs": [
        {
          "output_type": "display_data",
          "data": {
            "text/plain": [
              "<Figure size 720x288 with 1 Axes>"
            ],
            "image/png": "[encoded data removed]"
          },
          "metadata": {
            "needs_background": "light"
          }
        }
      ]
    },
    {
      "cell_type": "markdown",
      "source": [
        "#####**Variable [FLUORUROS_mg/L]**\n",
        "\n",
        "-*Sustituir categoría en variable por valor convencional*\n",
        "<br>\n",
        "-*Imputación de valores faltantes*\n",
        "<br>\n",
        "-*Reducción de magnitud de Outliers*"
      ],
      "metadata": {
        "id": "uSm--Pb15BnS"
      }
    },
    {
      "cell_type": "code",
      "source": [
        "df['FLUORUROS_mg/L'].sort_values(ascending=False).head()"
      ],
      "metadata": {
        "id": "osN2a_IByiwu",
        "outputId": "aaf294c7-9dea-43eb-ed03-62572a651efb",
        "colab": {
          "base_uri": "https://localhost:8080/"
        }
      },
      "execution_count": 297,
      "outputs": [
        {
          "output_type": "execute_result",
          "data": {
            "text/plain": [
              "912    <0.2\n",
              "954    <0.2\n",
              "325    <0.2\n",
              "327    <0.2\n",
              "328    <0.2\n",
              "Name: FLUORUROS_mg/L, dtype: object"
            ]
          },
          "metadata": {},
          "execution_count": 297
        }
      ]
    },
    {
      "cell_type": "code",
      "source": [
        "# cambio de string a numerico\n",
        "df.loc[df['FLUORUROS_mg/L'] == '<0.2' , 'FLUORUROS_mg/L']='0.199'"
      ],
      "metadata": {
        "id": "be2_175r5nT9"
      },
      "execution_count": 299,
      "outputs": []
    },
    {
      "cell_type": "code",
      "source": [
        "df['FLUORUROS_mg/L'] = pd.to_numeric(df['FLUORUROS_mg/L'])"
      ],
      "metadata": {
        "id": "CFV6ftNf5ABX"
      },
      "execution_count": 300,
      "outputs": []
    },
    {
      "cell_type": "code",
      "source": [
        "df['FLUORUROS_mg/L'].isnull().sum()"
      ],
      "metadata": {
        "id": "7bkLyugxyjey",
        "outputId": "24384fa5-5fcf-4b57-9958-6735fd4ab878",
        "colab": {
          "base_uri": "https://localhost:8080/"
        }
      },
      "execution_count": 301,
      "outputs": [
        {
          "output_type": "execute_result",
          "data": {
            "text/plain": [
              "0"
            ]
          },
          "metadata": {},
          "execution_count": 301
        }
      ]
    },
    {
      "cell_type": "code",
      "source": [
        "df['FLUORUROS_mg/L'].describe()"
      ],
      "metadata": {
        "colab": {
          "base_uri": "https://localhost:8080/"
        },
        "id": "bFlTq0-Q5eSF",
        "outputId": "a6e596cc-b7c7-4bbd-feab-2249f2e15ab5"
      },
      "execution_count": 302,
      "outputs": [
        {
          "output_type": "execute_result",
          "data": {
            "text/plain": [
              "count    1068.000000\n",
              "mean        1.075448\n",
              "std         1.924348\n",
              "min         0.199000\n",
              "25%         0.267175\n",
              "50%         0.503500\n",
              "75%         1.139850\n",
              "max        34.803300\n",
              "Name: FLUORUROS_mg/L, dtype: float64"
            ]
          },
          "metadata": {},
          "execution_count": 302
        }
      ]
    },
    {
      "cell_type": "code",
      "source": [
        "fig, axs = plt.subplots(figsize=(10, 4))\n",
        "sns.boxplot(data=df[['FLUORUROS_mg/L']], orient='h', ax=axs)\n",
        "plt.title('Box plot de variables numericas')\n",
        "plt.grid()\n",
        "plt.show()"
      ],
      "metadata": {
        "id": "7ufOjToz0Rrq",
        "outputId": "7e121128-1a4d-42f3-99b6-3cd855fd272c",
        "colab": {
          "base_uri": "https://localhost:8080/",
          "height": 281
        }
      },
      "execution_count": 303,
      "outputs": [
        {
          "output_type": "display_data",
          "data": {
            "text/plain": [
              "<Figure size 720x288 with 1 Axes>"
            ],
            "image/png": "[encoded data removed]"
          },
          "metadata": {
            "needs_background": "light"
          }
        }
      ]
    },
    {
      "cell_type": "code",
      "source": [
        "df[df['FLUORUROS_mg/L'] > 3]['FLUORUROS_mg/L'].count()"
      ],
      "metadata": {
        "id": "CrTIBStr0XrY",
        "outputId": "a1ef3816-1f8f-4982-a61f-4131937d885b",
        "colab": {
          "base_uri": "https://localhost:8080/"
        }
      },
      "execution_count": 304,
      "outputs": [
        {
          "output_type": "execute_result",
          "data": {
            "text/plain": [
              "74"
            ]
          },
          "metadata": {},
          "execution_count": 304
        }
      ]
    },
    {
      "cell_type": "code",
      "source": [
        "df.loc[df['FLUORUROS_mg/L'] > 3, 'FLUORUROS_mg/L']=3"
      ],
      "metadata": {
        "id": "3_5ajTzL6kmj"
      },
      "execution_count": 305,
      "outputs": []
    },
    {
      "cell_type": "code",
      "source": [
        "fig, axs = plt.subplots(figsize=(10, 4))\n",
        "sns.boxplot(data=df[['FLUORUROS_mg/L']], orient='h', ax=axs)\n",
        "plt.title('Box plot de variables numericas')\n",
        "plt.grid()\n",
        "plt.show()"
      ],
      "metadata": {
        "colab": {
          "base_uri": "https://localhost:8080/",
          "height": 281
        },
        "id": "1mGlwRL92ZcF",
        "outputId": "43945ef8-b789-4182-b152-83452892f0fd"
      },
      "execution_count": 306,
      "outputs": [
        {
          "output_type": "display_data",
          "data": {
            "text/plain": [
              "<Figure size 720x288 with 1 Axes>"
            ],
            "image/png": "[encoded data removed]"
          },
          "metadata": {
            "needs_background": "light"
          }
        }
      ]
    },
    {
      "cell_type": "markdown",
      "source": [
        "#####**Variable [DUR_mg/L]**\n",
        "\n",
        "-*Sustituir categoría en variable por valor convencional*\n",
        "<br>\n",
        "-*Imputación de valores faltantes*\n",
        "<br>\n",
        "-*Reducción de magnitud de Outliers*"
      ],
      "metadata": {
        "id": "N2Cb0WoKA-Fl"
      }
    },
    {
      "cell_type": "code",
      "source": [
        "df['DUR_mg/L'].sort_values(ascending=False).head()"
      ],
      "metadata": {
        "id": "rZLCVH2RJe2z",
        "outputId": "06f1ece3-c8a4-4ff4-e8ab-6c6f1311e9ee",
        "colab": {
          "base_uri": "https://localhost:8080/"
        }
      },
      "execution_count": 307,
      "outputs": [
        {
          "output_type": "execute_result",
          "data": {
            "text/plain": [
              "830    <20\n",
              "210    <20\n",
              "779    <20\n",
              "116    <20\n",
              "784    <20\n",
              "Name: DUR_mg/L, dtype: object"
            ]
          },
          "metadata": {},
          "execution_count": 307
        }
      ]
    },
    {
      "cell_type": "code",
      "source": [
        "df.loc[df['DUR_mg/L'] == '<20' , 'DUR_mg/L']='19.9'"
      ],
      "metadata": {
        "id": "t4glrEDnETMk"
      },
      "execution_count": 309,
      "outputs": []
    },
    {
      "cell_type": "code",
      "source": [
        "# convertimos a numerico\n",
        "df['DUR_mg/L'] = pd.to_numeric(df['DUR_mg/L'])"
      ],
      "metadata": {
        "id": "HwYAt26kEAFo"
      },
      "execution_count": 310,
      "outputs": []
    },
    {
      "cell_type": "code",
      "source": [
        "df['DUR_mg/L'].isnull().sum()"
      ],
      "metadata": {
        "colab": {
          "base_uri": "https://localhost:8080/"
        },
        "id": "o-MeZz-dEvvk",
        "outputId": "cd104853-5993-4ff4-886b-443b87f5a64e"
      },
      "execution_count": 311,
      "outputs": [
        {
          "output_type": "execute_result",
          "data": {
            "text/plain": [
              "1"
            ]
          },
          "metadata": {},
          "execution_count": 311
        }
      ]
    },
    {
      "cell_type": "code",
      "source": [
        "# Imputamos la variable bore con la media\n",
        "df['DUR_mg/L'].fillna(df['DUR_mg/L'].median(), inplace=True)"
      ],
      "metadata": {
        "id": "tVgxFC2JE4J9"
      },
      "execution_count": 312,
      "outputs": []
    },
    {
      "cell_type": "code",
      "source": [
        "df['DUR_mg/L'].isnull().sum()"
      ],
      "metadata": {
        "id": "h3WAbhr6KshI",
        "outputId": "6d515660-3b9f-42f8-d688-d0dc968ab133",
        "colab": {
          "base_uri": "https://localhost:8080/"
        }
      },
      "execution_count": 313,
      "outputs": [
        {
          "output_type": "execute_result",
          "data": {
            "text/plain": [
              "0"
            ]
          },
          "metadata": {},
          "execution_count": 313
        }
      ]
    },
    {
      "cell_type": "code",
      "source": [
        "df['DUR_mg/L'].describe()"
      ],
      "metadata": {
        "colab": {
          "base_uri": "https://localhost:8080/"
        },
        "id": "Omb6VjUFEHkk",
        "outputId": "f947d5f1-2ade-4ab5-c66b-424505a6a6d0"
      },
      "execution_count": 314,
      "outputs": [
        {
          "output_type": "execute_result",
          "data": {
            "text/plain": [
              "count    1068.000000\n",
              "mean      347.839569\n",
              "std       359.516802\n",
              "min        19.900000\n",
              "25%       121.274100\n",
              "50%       245.335800\n",
              "75%       453.930000\n",
              "max      3810.692200\n",
              "Name: DUR_mg/L, dtype: float64"
            ]
          },
          "metadata": {},
          "execution_count": 314
        }
      ]
    },
    {
      "cell_type": "code",
      "source": [
        "fig, axs = plt.subplots(figsize=(10, 4))\n",
        "sns.boxplot(data=df[['DUR_mg/L']], orient='h', ax=axs)\n",
        "plt.title('Box plot de variables numericas')\n",
        "plt.grid()\n",
        "plt.show()"
      ],
      "metadata": {
        "id": "-PT9vivmKxnk",
        "outputId": "7bab0456-5ebb-4e27-ff3d-1bf563e01734",
        "colab": {
          "base_uri": "https://localhost:8080/",
          "height": 281
        }
      },
      "execution_count": 315,
      "outputs": [
        {
          "output_type": "display_data",
          "data": {
            "text/plain": [
              "<Figure size 720x288 with 1 Axes>"
            ],
            "image/png": "[encoded data removed]"
          },
          "metadata": {
            "needs_background": "light"
          }
        }
      ]
    },
    {
      "cell_type": "code",
      "source": [
        "df[df['DUR_mg/L'] > 1000]['DUR_mg/L'].count()"
      ],
      "metadata": {
        "id": "P7QzygbaLG1M",
        "outputId": "958163cf-ff85-4504-8250-6e37ed5f648c",
        "colab": {
          "base_uri": "https://localhost:8080/"
        }
      },
      "execution_count": 316,
      "outputs": [
        {
          "output_type": "execute_result",
          "data": {
            "text/plain": [
              "53"
            ]
          },
          "metadata": {},
          "execution_count": 316
        }
      ]
    },
    {
      "cell_type": "code",
      "source": [
        "# reducimos los outliers\n",
        "\n",
        "df.loc[df['DUR_mg/L'] >1000 , 'DUR_mg/L'] = 1000"
      ],
      "metadata": {
        "id": "8KAhlVnMMI9M"
      },
      "execution_count": 317,
      "outputs": []
    },
    {
      "cell_type": "code",
      "source": [
        "fig, axs = plt.subplots(figsize=(10, 4))\n",
        "sns.boxplot(data=df[['DUR_mg/L']], orient='h', ax=axs)\n",
        "plt.title('Box plot de variables numericas')\n",
        "plt.grid()\n",
        "plt.show()"
      ],
      "metadata": {
        "colab": {
          "base_uri": "https://localhost:8080/",
          "height": 281
        },
        "id": "T2ZVZzvTE_jB",
        "outputId": "069e05d7-da6b-49f2-cac1-2dc539340298"
      },
      "execution_count": 318,
      "outputs": [
        {
          "output_type": "display_data",
          "data": {
            "text/plain": [
              "<Figure size 720x288 with 1 Axes>"
            ],
            "image/png": "[encoded data removed]"
          },
          "metadata": {
            "needs_background": "light"
          }
        }
      ]
    },
    {
      "cell_type": "markdown",
      "source": [
        "#####**Variable [N_NO3_mg/L]**\n",
        "\n",
        "-*Sustituir categoría en variable por valor convencional*\n",
        "<br>\n",
        "-*Imputación de valores faltantes*\n",
        "<br>\n",
        "-*Reducción de magnitud de Outliers*"
      ],
      "metadata": {
        "id": "9Z6POyJwBQbl"
      }
    },
    {
      "cell_type": "code",
      "source": [
        "df.loc[df['N_NO3_mg/L'] == '<0.02' , 'N_NO3_mg/L']='0.01'"
      ],
      "metadata": {
        "id": "IxcxBJS1Fr_S"
      },
      "execution_count": null,
      "outputs": []
    },
    {
      "cell_type": "code",
      "source": [
        "# convertimos a numerico\n",
        "df['N_NO3_mg/L'] = pd.to_numeric(df['N_NO3_mg/L'])"
      ],
      "metadata": {
        "id": "g2NZa-PKFcVr"
      },
      "execution_count": null,
      "outputs": []
    },
    {
      "cell_type": "code",
      "source": [
        "df['N_NO3_mg/L'].isnull().sum()"
      ],
      "metadata": {
        "colab": {
          "base_uri": "https://localhost:8080/"
        },
        "id": "ooXHdH_wFcSS",
        "outputId": "2e1db140-327a-4deb-87a0-47fd42ffda90"
      },
      "execution_count": null,
      "outputs": [
        {
          "output_type": "execute_result",
          "data": {
            "text/plain": [
              "1"
            ]
          },
          "metadata": {},
          "execution_count": 298
        }
      ]
    },
    {
      "cell_type": "code",
      "source": [
        "# Imputamos la variable bore con la media\n",
        "df['N_NO3_mg/L'].fillna(df['N_NO3_mg/L'].median(), inplace=True)"
      ],
      "metadata": {
        "id": "dQg_tgEAFcO7"
      },
      "execution_count": null,
      "outputs": []
    },
    {
      "cell_type": "code",
      "source": [
        "# reducimos los outliers\n",
        "\n",
        "df.loc[df['N_NO3_mg/L'] >40 , 'N_NO3_mg/L']=40"
      ],
      "metadata": {
        "id": "4PSsoIG8F-_m"
      },
      "execution_count": null,
      "outputs": []
    },
    {
      "cell_type": "code",
      "source": [
        "df['N_NO3_mg/L'].describe()"
      ],
      "metadata": {
        "colab": {
          "base_uri": "https://localhost:8080/"
        },
        "id": "ilE1hb1dGUAR",
        "outputId": "2ff9398a-b91e-443a-98ec-75e382b2a234"
      },
      "execution_count": null,
      "outputs": [
        {
          "output_type": "execute_result",
          "data": {
            "text/plain": [
              "count    1068.000000\n",
              "mean        4.034336\n",
              "std         5.968090\n",
              "min         0.010000\n",
              "25%         0.650932\n",
              "50%         2.080932\n",
              "75%         5.200047\n",
              "max        40.000000\n",
              "Name: N_NO3_mg/L, dtype: float64"
            ]
          },
          "metadata": {},
          "execution_count": 301
        }
      ]
    },
    {
      "cell_type": "code",
      "source": [
        "fig, axs = plt.subplots(figsize=(10, 4))\n",
        "sns.boxplot(data=df[['N_NO3_mg/L']], orient='h', ax=axs)\n",
        "plt.title('Box plot de variables numericas')\n",
        "plt.grid()\n",
        "plt.show()"
      ],
      "metadata": {
        "colab": {
          "base_uri": "https://localhost:8080/",
          "height": 281
        },
        "id": "W_unzPAEF-8j",
        "outputId": "139769fd-ce3f-4759-ea88-570328d5c081"
      },
      "execution_count": null,
      "outputs": [
        {
          "output_type": "display_data",
          "data": {
            "text/plain": [
              "<Figure size 720x288 with 1 Axes>"
            ],
            "image/png": "[encoded data removed]"
          },
          "metadata": {
            "needs_background": "light"
          }
        }
      ]
    },
    {
      "cell_type": "markdown",
      "source": [
        "# Variable Numerica 7\n",
        "\n",
        "COLI_FEC_NMP/100_mL"
      ],
      "metadata": {
        "id": "2vq7oEt4BOv5"
      }
    },
    {
      "cell_type": "code",
      "source": [
        "df.loc[df['COLI_FEC_NMP/100_mL'] == '<1.1' , 'COLI_FEC_NMP/100_mL']='1'"
      ],
      "metadata": {
        "id": "Vtr9vP_rG97X"
      },
      "execution_count": null,
      "outputs": []
    },
    {
      "cell_type": "code",
      "source": [
        "# convertimos a numerico\n",
        "df['COLI_FEC_NMP/100_mL'] = pd.to_numeric(df['COLI_FEC_NMP/100_mL'])"
      ],
      "metadata": {
        "id": "DSABwM1eGxW8"
      },
      "execution_count": null,
      "outputs": []
    },
    {
      "cell_type": "code",
      "source": [
        "df['COLI_FEC_NMP/100_mL'].isnull().sum()"
      ],
      "metadata": {
        "colab": {
          "base_uri": "https://localhost:8080/"
        },
        "id": "PcVVqsQdGxO8",
        "outputId": "34b495de-e932-459c-c7ec-4f3b802f88af"
      },
      "execution_count": null,
      "outputs": [
        {
          "output_type": "execute_result",
          "data": {
            "text/plain": [
              "0"
            ]
          },
          "metadata": {},
          "execution_count": 306
        }
      ]
    },
    {
      "cell_type": "code",
      "source": [
        "# reducimos los outliers\n",
        "\n",
        "df.loc[df['COLI_FEC_NMP/100_mL'] >100 , 'COLI_FEC_NMP/100_mL']=100"
      ],
      "metadata": {
        "id": "HoM526HwGw7S"
      },
      "execution_count": null,
      "outputs": []
    },
    {
      "cell_type": "code",
      "source": [
        "df['COLI_FEC_NMP/100_mL'].describe()"
      ],
      "metadata": {
        "colab": {
          "base_uri": "https://localhost:8080/"
        },
        "id": "AiC0Ps32GxIW",
        "outputId": "d921c4fd-379e-4cee-aa8d-e80620410b94"
      },
      "execution_count": null,
      "outputs": [
        {
          "output_type": "execute_result",
          "data": {
            "text/plain": [
              "count    1068.000000\n",
              "mean       20.217228\n",
              "std        35.848552\n",
              "min         1.000000\n",
              "25%         1.000000\n",
              "50%         1.000000\n",
              "75%        13.250000\n",
              "max       100.000000\n",
              "Name: COLI_FEC_NMP/100_mL, dtype: float64"
            ]
          },
          "metadata": {},
          "execution_count": 317
        }
      ]
    },
    {
      "cell_type": "code",
      "source": [
        "fig, axs = plt.subplots(figsize=(10, 4))\n",
        "sns.boxplot(data=df[['COLI_FEC_NMP/100_mL']], orient='h', ax=axs)\n",
        "plt.title('Box plot de variables numericas')\n",
        "plt.grid()\n",
        "plt.show()"
      ],
      "metadata": {
        "colab": {
          "base_uri": "https://localhost:8080/",
          "height": 281
        },
        "id": "XOrpU3f6GxCG",
        "outputId": "a9f0923e-57ce-424e-d9d5-5e4ebb305b55"
      },
      "execution_count": null,
      "outputs": [
        {
          "output_type": "display_data",
          "data": {
            "text/plain": [
              "<Figure size 720x288 with 1 Axes>"
            ],
            "image/png": "[encoded data removed]"
          },
          "metadata": {
            "needs_background": "light"
          }
        }
      ]
    },
    {
      "cell_type": "markdown",
      "source": [
        "# Variable Numerica 8\n",
        "\n",
        "AS_TOT_mg/L"
      ],
      "metadata": {
        "id": "ajCFTKegBQUl"
      }
    },
    {
      "cell_type": "code",
      "source": [
        "df.loc[df['AS_TOT_mg/L'] == '<0.01' , 'AS_TOT_mg/L']='0.00'"
      ],
      "metadata": {
        "id": "RFGxElbkH7TV"
      },
      "execution_count": null,
      "outputs": []
    },
    {
      "cell_type": "code",
      "source": [
        "# convertimos a numerico\n",
        "df['AS_TOT_mg/L'] = pd.to_numeric(df['AS_TOT_mg/L'])"
      ],
      "metadata": {
        "id": "fGv5pIlSH7Nk"
      },
      "execution_count": null,
      "outputs": []
    },
    {
      "cell_type": "code",
      "source": [
        "df['AS_TOT_mg/L'].isnull().sum()"
      ],
      "metadata": {
        "colab": {
          "base_uri": "https://localhost:8080/"
        },
        "id": "SR7DAoMsH7Jk",
        "outputId": "e1c5e82b-dd77-47b2-ed4c-591633a11df3"
      },
      "execution_count": null,
      "outputs": [
        {
          "output_type": "execute_result",
          "data": {
            "text/plain": [
              "0"
            ]
          },
          "metadata": {},
          "execution_count": 322
        }
      ]
    },
    {
      "cell_type": "code",
      "source": [
        "# reducimos los outliers\n",
        "\n",
        "df.loc[df['AS_TOT_mg/L'] >.04 , 'AS_TOT_mg/L']=.04"
      ],
      "metadata": {
        "id": "1F3XlI27Ifzw"
      },
      "execution_count": null,
      "outputs": []
    },
    {
      "cell_type": "code",
      "source": [
        "df['AS_TOT_mg/L'].describe()"
      ],
      "metadata": {
        "colab": {
          "base_uri": "https://localhost:8080/"
        },
        "id": "PInOVOp8H7Fl",
        "outputId": "92ec21f6-893b-4667-ea44-e9e16b282397"
      },
      "execution_count": null,
      "outputs": [
        {
          "output_type": "execute_result",
          "data": {
            "text/plain": [
              "count    1068.000000\n",
              "mean        0.006414\n",
              "std         0.012807\n",
              "min         0.000000\n",
              "25%         0.000000\n",
              "50%         0.000000\n",
              "75%         0.000000\n",
              "max         0.040000\n",
              "Name: AS_TOT_mg/L, dtype: float64"
            ]
          },
          "metadata": {},
          "execution_count": 330
        }
      ]
    },
    {
      "cell_type": "code",
      "source": [
        "fig, axs = plt.subplots(figsize=(10, 4))\n",
        "sns.boxplot(data=df[['AS_TOT_mg/L']], orient='h', ax=axs)\n",
        "plt.title('Box plot de variables numericas')\n",
        "plt.grid()\n",
        "plt.show()"
      ],
      "metadata": {
        "colab": {
          "base_uri": "https://localhost:8080/",
          "height": 281
        },
        "id": "WBupXjswIYQY",
        "outputId": "92f8b9ed-531a-4611-bc2e-f65d119134bd"
      },
      "execution_count": null,
      "outputs": [
        {
          "output_type": "display_data",
          "data": {
            "text/plain": [
              "<Figure size 720x288 with 1 Axes>"
            ],
            "image/png": "[encoded data removed]"
          },
          "metadata": {
            "needs_background": "light"
          }
        }
      ]
    },
    {
      "cell_type": "markdown",
      "source": [
        "# Variable Numerica 9\n",
        "\n",
        "CD_TOT_mg/L"
      ],
      "metadata": {
        "id": "5VJwsFoNBQN-"
      }
    },
    {
      "cell_type": "code",
      "source": [
        "df.loc[df['CD_TOT_mg/L'] == '<0.003' , 'CD_TOT_mg/L']='0.002'"
      ],
      "metadata": {
        "id": "zQ3NnTilI7df"
      },
      "execution_count": null,
      "outputs": []
    },
    {
      "cell_type": "code",
      "source": [
        "# convertimos a numerico\n",
        "df['CD_TOT_mg/L'] = pd.to_numeric(df['CD_TOT_mg/L'])"
      ],
      "metadata": {
        "id": "8Hv_WtNzI7X7"
      },
      "execution_count": null,
      "outputs": []
    },
    {
      "cell_type": "code",
      "source": [
        "df['CD_TOT_mg/L'].isnull().sum()"
      ],
      "metadata": {
        "colab": {
          "base_uri": "https://localhost:8080/"
        },
        "id": "gr_zbT_jI7Ro",
        "outputId": "5047f2bc-db6c-4e3a-ae3a-e0f0466cd354"
      },
      "execution_count": null,
      "outputs": [
        {
          "output_type": "execute_result",
          "data": {
            "text/plain": [
              "0"
            ]
          },
          "metadata": {},
          "execution_count": 336
        }
      ]
    },
    {
      "cell_type": "code",
      "source": [
        "df['CD_TOT_mg/L'].describe()"
      ],
      "metadata": {
        "colab": {
          "base_uri": "https://localhost:8080/"
        },
        "id": "Nrhw1UXmJLEu",
        "outputId": "310e200a-1592-4117-c03b-69cae72eee4c"
      },
      "execution_count": null,
      "outputs": [
        {
          "output_type": "execute_result",
          "data": {
            "text/plain": [
              "count    1068.000000\n",
              "mean        0.002032\n",
              "std         0.000928\n",
              "min         0.002000\n",
              "25%         0.002000\n",
              "50%         0.002000\n",
              "75%         0.002000\n",
              "max         0.032110\n",
              "Name: CD_TOT_mg/L, dtype: float64"
            ]
          },
          "metadata": {},
          "execution_count": 337
        }
      ]
    },
    {
      "cell_type": "code",
      "source": [
        "fig, axs = plt.subplots(figsize=(10, 4))\n",
        "sns.boxplot(data=df[['CD_TOT_mg/L']], orient='h', ax=axs)\n",
        "plt.title('Box plot de variables numericas')\n",
        "plt.grid()\n",
        "plt.show()"
      ],
      "metadata": {
        "colab": {
          "base_uri": "https://localhost:8080/",
          "height": 281
        },
        "id": "bTzfEGqbJLBs",
        "outputId": "60e070ce-bb9a-4e9b-fc94-1f3de3fe1371"
      },
      "execution_count": null,
      "outputs": [
        {
          "output_type": "display_data",
          "data": {
            "text/plain": [
              "<Figure size 720x288 with 1 Axes>"
            ],
            "image/png": "[encoded data removed]"
          },
          "metadata": {
            "needs_background": "light"
          }
        }
      ]
    },
    {
      "cell_type": "markdown",
      "source": [
        "\n",
        "# Variable Numerica 10\n",
        "\n",
        "CR_TOT_mg/L"
      ],
      "metadata": {
        "id": "lMxmyvlRBP6T"
      }
    },
    {
      "cell_type": "code",
      "source": [
        "df.loc[df['CR_TOT_mg/L'] == '<0.005' , 'CR_TOT_mg/L']='0.005'"
      ],
      "metadata": {
        "id": "4P_oOORIJbvO"
      },
      "execution_count": null,
      "outputs": []
    },
    {
      "cell_type": "code",
      "source": [
        "# convertimos a numerico\n",
        "df['CR_TOT_mg/L'] = pd.to_numeric(df['CR_TOT_mg/L'])"
      ],
      "metadata": {
        "id": "Sd4ubE0eJbn5"
      },
      "execution_count": null,
      "outputs": []
    },
    {
      "cell_type": "code",
      "source": [
        "df['CR_TOT_mg/L'].isnull().sum()"
      ],
      "metadata": {
        "colab": {
          "base_uri": "https://localhost:8080/"
        },
        "id": "pnb_SKmOJbkW",
        "outputId": "093856f4-42d4-4018-9888-474ed5222f26"
      },
      "execution_count": null,
      "outputs": [
        {
          "output_type": "execute_result",
          "data": {
            "text/plain": [
              "0"
            ]
          },
          "metadata": {},
          "execution_count": 342
        }
      ]
    },
    {
      "cell_type": "code",
      "source": [
        "df['CR_TOT_mg/L'].describe()"
      ],
      "metadata": {
        "colab": {
          "base_uri": "https://localhost:8080/"
        },
        "id": "9aW6Q3nIJbhW",
        "outputId": "096d07bc-3a54-42c0-c3f8-32679d120054"
      },
      "execution_count": null,
      "outputs": [
        {
          "output_type": "execute_result",
          "data": {
            "text/plain": [
              "count    1068.000000\n",
              "mean        0.013276\n",
              "std         0.154391\n",
              "min         0.005000\n",
              "25%         0.005000\n",
              "50%         0.005000\n",
              "75%         0.005000\n",
              "max         5.003200\n",
              "Name: CR_TOT_mg/L, dtype: float64"
            ]
          },
          "metadata": {},
          "execution_count": 343
        }
      ]
    },
    {
      "cell_type": "code",
      "source": [
        "fig, axs = plt.subplots(figsize=(10, 4))\n",
        "sns.boxplot(data=df[['CR_TOT_mg/L']], orient='h', ax=axs)\n",
        "plt.title('Box plot de variables numericas')\n",
        "plt.grid()\n",
        "plt.show()"
      ],
      "metadata": {
        "colab": {
          "base_uri": "https://localhost:8080/",
          "height": 281
        },
        "id": "xeSASfINJvIT",
        "outputId": "cf5301fe-4a86-4952-b4cd-bc296c042d8a"
      },
      "execution_count": null,
      "outputs": [
        {
          "output_type": "display_data",
          "data": {
            "text/plain": [
              "<Figure size 720x288 with 1 Axes>"
            ],
            "image/png": "[encoded data removed]"
          },
          "metadata": {
            "needs_background": "light"
          }
        }
      ]
    },
    {
      "cell_type": "markdown",
      "source": [
        "\n",
        "# Variable Numerica 11\n",
        "\n",
        "HG_TOT_mg/L"
      ],
      "metadata": {
        "id": "AbnpW9JVBPeR"
      }
    },
    {
      "cell_type": "markdown",
      "source": [
        "# Variable Numerica 12\n",
        "\n",
        "PB_TOT_mg/L\n"
      ],
      "metadata": {
        "id": "Mw5Oj--mB3wH"
      }
    },
    {
      "cell_type": "markdown",
      "source": [
        "# Variable Numerica 13\n",
        "\n",
        "MN_TOT_mg/L"
      ],
      "metadata": {
        "id": "l04npFlqB4NI"
      }
    },
    {
      "cell_type": "markdown",
      "source": [
        "# Variable Numerica 14\n",
        "\n",
        "FE_TOT_mg/L"
      ],
      "metadata": {
        "id": "gqPMIXUvCXJY"
      }
    },
    {
      "cell_type": "code",
      "source": [],
      "metadata": {
        "id": "l0VEpPoX6Pcc"
      },
      "execution_count": null,
      "outputs": []
    },
    {
      "cell_type": "markdown",
      "source": [],
      "metadata": {
        "id": "-BaWI2EMAB_5"
      }
    },
    {
      "cell_type": "code",
      "source": [],
      "metadata": {
        "id": "kogGjzwXADOK"
      },
      "execution_count": null,
      "outputs": []
    },
    {
      "cell_type": "markdown",
      "source": [
        "####**Variables con coordenadas**\n",
        "\n",
        "Sin datos faltanes"
      ],
      "metadata": {
        "id": "YJusNlM22fCJ"
      }
    },
    {
      "cell_type": "code",
      "source": [
        "df[coordenadas].describe()"
      ],
      "metadata": {
        "id": "1U2pdW0nu-Pr",
        "outputId": "87583470-c60d-49a1-fd9d-b3e9c45e4516",
        "colab": {
          "base_uri": "https://localhost:8080/",
          "height": 300
        }
      },
      "execution_count": 210,
      "outputs": [
        {
          "output_type": "execute_result",
          "data": {
            "text/plain": [
              "           LATITUD     LONGITUD\n",
              "count  1068.000000  1068.000000\n",
              "mean     23.163618  -101.891007\n",
              "std       3.887670     6.703263\n",
              "min      14.561150  -116.664250\n",
              "25%      20.212055  -105.388865\n",
              "50%      22.617190  -102.174180\n",
              "75%      25.510285   -98.974716\n",
              "max      32.677713   -86.864120"
            ],
            "text/html": [
              "\n",
              "  <div id=\"df-3aa31e48-51c8-4edd-af23-26d60a99c95d\">\n",
              "    <div class=\"colab-df-container\">\n",
              "      <div>\n",
              "<style scoped>\n",
              "    .dataframe tbody tr th:only-of-type {\n",
              "        vertical-align: middle;\n",
              "    }\n",
              "\n",
              "    .dataframe tbody tr th {\n",
              "        vertical-align: top;\n",
              "    }\n",
              "\n",
              "    .dataframe thead th {\n",
              "        text-align: right;\n",
              "    }\n",
              "</style>\n",
              "<table border=\"1\" class=\"dataframe\">\n",
              "  <thead>\n",
              "    <tr style=\"text-align: right;\">\n",
              "      <th></th>\n",
              "      <th>LATITUD</th>\n",
              "      <th>LONGITUD</th>\n",
              "    </tr>\n",
              "  </thead>\n",
              "  <tbody>\n",
              "    <tr>\n",
              "      <th>count</th>\n",
              "      <td>1068.000000</td>\n",
              "      <td>1068.000000</td>\n",
              "    </tr>\n",
              "    <tr>\n",
              "      <th>mean</th>\n",
              "      <td>23.163618</td>\n",
              "      <td>-101.891007</td>\n",
              "    </tr>\n",
              "    <tr>\n",
              "      <th>std</th>\n",
              "      <td>3.887670</td>\n",
              "      <td>6.703263</td>\n",
              "    </tr>\n",
              "    <tr>\n",
              "      <th>min</th>\n",
              "      <td>14.561150</td>\n",
              "      <td>-116.664250</td>\n",
              "    </tr>\n",
              "    <tr>\n",
              "      <th>25%</th>\n",
              "      <td>20.212055</td>\n",
              "      <td>-105.388865</td>\n",
              "    </tr>\n",
              "    <tr>\n",
              "      <th>50%</th>\n",
              "      <td>22.617190</td>\n",
              "      <td>-102.174180</td>\n",
              "    </tr>\n",
              "    <tr>\n",
              "      <th>75%</th>\n",
              "      <td>25.510285</td>\n",
              "      <td>-98.974716</td>\n",
              "    </tr>\n",
              "    <tr>\n",
              "      <th>max</th>\n",
              "      <td>32.677713</td>\n",
              "      <td>-86.864120</td>\n",
              "    </tr>\n",
              "  </tbody>\n",
              "</table>\n",
              "</div>\n",
              "      <button class=\"colab-df-convert\" onclick=\"convertToInteractive('df-3aa31e48-51c8-4edd-af23-26d60a99c95d')\"\n",
              "              title=\"Convert this dataframe to an interactive table.\"\n",
              "              style=\"display:none;\">\n",
              "        \n",
              "  <svg xmlns=\"http://www.w3.org/2000/svg\" height=\"24px\"viewBox=\"0 0 24 24\"\n",
              "       width=\"24px\">\n",
              "    <path d=\"M0 0h24v24H0V0z\" fill=\"none\"/>\n",
              "    <path d=\"M18.56 5.44l.94 2.06.94-2.06 2.06-.94-2.06-.94-.94-2.06-.94 2.06-2.06.94zm-11 1L8.5 8.5l.94-2.06 2.06-.94-2.06-.94L8.5 2.5l-.94 2.06-2.06.94zm10 10l.94 2.06.94-2.06 2.06-.94-2.06-.94-.94-2.06-.94 2.06-2.06.94z\"/><path d=\"M17.41 7.96l-1.37-1.37c-.4-.4-.92-.59-1.43-.59-.52 0-1.04.2-1.43.59L10.3 9.45l-7.72 7.72c-.78.78-.78 2.05 0 2.83L4 21.41c.39.39.9.59 1.41.59.51 0 1.02-.2 1.41-.59l7.78-7.78 2.81-2.81c.8-.78.8-2.07 0-2.86zM5.41 20L4 18.59l7.72-7.72 1.47 1.35L5.41 20z\"/>\n",
              "  </svg>\n",
              "      </button>\n",
              "      \n",
              "  <style>\n",
              "    .colab-df-container {\n",
              "      display:flex;\n",
              "      flex-wrap:wrap;\n",
              "      gap: 12px;\n",
              "    }\n",
              "\n",
              "    .colab-df-convert {\n",
              "      background-color: #E8F0FE;\n",
              "      border: none;\n",
              "      border-radius: 50%;\n",
              "      cursor: pointer;\n",
              "      display: none;\n",
              "      fill: #1967D2;\n",
              "      height: 32px;\n",
              "      padding: 0 0 0 0;\n",
              "      width: 32px;\n",
              "    }\n",
              "\n",
              "    .colab-df-convert:hover {\n",
              "      background-color: #E2EBFA;\n",
              "      box-shadow: 0px 1px 2px rgba(60, 64, 67, 0.3), 0px 1px 3px 1px rgba(60, 64, 67, 0.15);\n",
              "      fill: #174EA6;\n",
              "    }\n",
              "\n",
              "    [theme=dark] .colab-df-convert {\n",
              "      background-color: #3B4455;\n",
              "      fill: #D2E3FC;\n",
              "    }\n",
              "\n",
              "    [theme=dark] .colab-df-convert:hover {\n",
              "      background-color: #434B5C;\n",
              "      box-shadow: 0px 1px 3px 1px rgba(0, 0, 0, 0.15);\n",
              "      filter: drop-shadow(0px 1px 2px rgba(0, 0, 0, 0.3));\n",
              "      fill: #FFFFFF;\n",
              "    }\n",
              "  </style>\n",
              "\n",
              "      <script>\n",
              "        const buttonEl =\n",
              "          document.querySelector('#df-3aa31e48-51c8-4edd-af23-26d60a99c95d button.colab-df-convert');\n",
              "        buttonEl.style.display =\n",
              "          google.colab.kernel.accessAllowed ? 'block' : 'none';\n",
              "\n",
              "        async function convertToInteractive(key) {\n",
              "          const element = document.querySelector('#df-3aa31e48-51c8-4edd-af23-26d60a99c95d');\n",
              "          const dataTable =\n",
              "            await google.colab.kernel.invokeFunction('convertToInteractive',\n",
              "                                                     [key], {});\n",
              "          if (!dataTable) return;\n",
              "\n",
              "          const docLinkHtml = 'Like what you see? Visit the ' +\n",
              "            '<a target=\"_blank\" href=https://colab.research.google.com/notebooks/data_table.ipynb>data table notebook</a>'\n",
              "            + ' to learn more about interactive tables.';\n",
              "          element.innerHTML = '';\n",
              "          dataTable['output_type'] = 'display_data';\n",
              "          await google.colab.output.renderOutput(dataTable, element);\n",
              "          const docLink = document.createElement('div');\n",
              "          docLink.innerHTML = docLinkHtml;\n",
              "          element.appendChild(docLink);\n",
              "        }\n",
              "      </script>\n",
              "    </div>\n",
              "  </div>\n",
              "  "
            ]
          },
          "metadata": {},
          "execution_count": 210
        }
      ]
    },
    {
      "cell_type": "markdown",
      "source": [
        "####**Variables binarias**\n",
        "\n",
        "Sin datos faltanes"
      ],
      "metadata": {
        "id": "avRwd5thCmgp"
      }
    },
    {
      "cell_type": "code",
      "source": [],
      "metadata": {
        "id": "L5Lnh4-Zu-SH"
      },
      "execution_count": null,
      "outputs": []
    },
    {
      "cell_type": "markdown",
      "source": [
        "####**Variable de calidad (semáforo)**\n",
        "\n",
        "Sin datos faltanes"
      ],
      "metadata": {
        "id": "qMoaY64K3r2z"
      }
    },
    {
      "cell_type": "code",
      "source": [
        "df[calidad].describe()"
      ],
      "metadata": {
        "id": "D9e1ASavu-XV",
        "outputId": "24981556-6751-425d-d063-77b5d0a28e9f",
        "colab": {
          "base_uri": "https://localhost:8080/",
          "height": 175
        }
      },
      "execution_count": 212,
      "outputs": [
        {
          "output_type": "execute_result",
          "data": {
            "text/plain": [
              "       SEMAFORO\n",
              "count      1068\n",
              "unique        3\n",
              "top       Verde\n",
              "freq        434"
            ],
            "text/html": [
              "\n",
              "  <div id=\"df-8fb86928-a0df-4522-b40e-09db8ec0a40d\">\n",
              "    <div class=\"colab-df-container\">\n",
              "      <div>\n",
              "<style scoped>\n",
              "    .dataframe tbody tr th:only-of-type {\n",
              "        vertical-align: middle;\n",
              "    }\n",
              "\n",
              "    .dataframe tbody tr th {\n",
              "        vertical-align: top;\n",
              "    }\n",
              "\n",
              "    .dataframe thead th {\n",
              "        text-align: right;\n",
              "    }\n",
              "</style>\n",
              "<table border=\"1\" class=\"dataframe\">\n",
              "  <thead>\n",
              "    <tr style=\"text-align: right;\">\n",
              "      <th></th>\n",
              "      <th>SEMAFORO</th>\n",
              "    </tr>\n",
              "  </thead>\n",
              "  <tbody>\n",
              "    <tr>\n",
              "      <th>count</th>\n",
              "      <td>1068</td>\n",
              "    </tr>\n",
              "    <tr>\n",
              "      <th>unique</th>\n",
              "      <td>3</td>\n",
              "    </tr>\n",
              "    <tr>\n",
              "      <th>top</th>\n",
              "      <td>Verde</td>\n",
              "    </tr>\n",
              "    <tr>\n",
              "      <th>freq</th>\n",
              "      <td>434</td>\n",
              "    </tr>\n",
              "  </tbody>\n",
              "</table>\n",
              "</div>\n",
              "      <button class=\"colab-df-convert\" onclick=\"convertToInteractive('df-8fb86928-a0df-4522-b40e-09db8ec0a40d')\"\n",
              "              title=\"Convert this dataframe to an interactive table.\"\n",
              "              style=\"display:none;\">\n",
              "        \n",
              "  <svg xmlns=\"http://www.w3.org/2000/svg\" height=\"24px\"viewBox=\"0 0 24 24\"\n",
              "       width=\"24px\">\n",
              "    <path d=\"M0 0h24v24H0V0z\" fill=\"none\"/>\n",
              "    <path d=\"M18.56 5.44l.94 2.06.94-2.06 2.06-.94-2.06-.94-.94-2.06-.94 2.06-2.06.94zm-11 1L8.5 8.5l.94-2.06 2.06-.94-2.06-.94L8.5 2.5l-.94 2.06-2.06.94zm10 10l.94 2.06.94-2.06 2.06-.94-2.06-.94-.94-2.06-.94 2.06-2.06.94z\"/><path d=\"M17.41 7.96l-1.37-1.37c-.4-.4-.92-.59-1.43-.59-.52 0-1.04.2-1.43.59L10.3 9.45l-7.72 7.72c-.78.78-.78 2.05 0 2.83L4 21.41c.39.39.9.59 1.41.59.51 0 1.02-.2 1.41-.59l7.78-7.78 2.81-2.81c.8-.78.8-2.07 0-2.86zM5.41 20L4 18.59l7.72-7.72 1.47 1.35L5.41 20z\"/>\n",
              "  </svg>\n",
              "      </button>\n",
              "      \n",
              "  <style>\n",
              "    .colab-df-container {\n",
              "      display:flex;\n",
              "      flex-wrap:wrap;\n",
              "      gap: 12px;\n",
              "    }\n",
              "\n",
              "    .colab-df-convert {\n",
              "      background-color: #E8F0FE;\n",
              "      border: none;\n",
              "      border-radius: 50%;\n",
              "      cursor: pointer;\n",
              "      display: none;\n",
              "      fill: #1967D2;\n",
              "      height: 32px;\n",
              "      padding: 0 0 0 0;\n",
              "      width: 32px;\n",
              "    }\n",
              "\n",
              "    .colab-df-convert:hover {\n",
              "      background-color: #E2EBFA;\n",
              "      box-shadow: 0px 1px 2px rgba(60, 64, 67, 0.3), 0px 1px 3px 1px rgba(60, 64, 67, 0.15);\n",
              "      fill: #174EA6;\n",
              "    }\n",
              "\n",
              "    [theme=dark] .colab-df-convert {\n",
              "      background-color: #3B4455;\n",
              "      fill: #D2E3FC;\n",
              "    }\n",
              "\n",
              "    [theme=dark] .colab-df-convert:hover {\n",
              "      background-color: #434B5C;\n",
              "      box-shadow: 0px 1px 3px 1px rgba(0, 0, 0, 0.15);\n",
              "      filter: drop-shadow(0px 1px 2px rgba(0, 0, 0, 0.3));\n",
              "      fill: #FFFFFF;\n",
              "    }\n",
              "  </style>\n",
              "\n",
              "      <script>\n",
              "        const buttonEl =\n",
              "          document.querySelector('#df-8fb86928-a0df-4522-b40e-09db8ec0a40d button.colab-df-convert');\n",
              "        buttonEl.style.display =\n",
              "          google.colab.kernel.accessAllowed ? 'block' : 'none';\n",
              "\n",
              "        async function convertToInteractive(key) {\n",
              "          const element = document.querySelector('#df-8fb86928-a0df-4522-b40e-09db8ec0a40d');\n",
              "          const dataTable =\n",
              "            await google.colab.kernel.invokeFunction('convertToInteractive',\n",
              "                                                     [key], {});\n",
              "          if (!dataTable) return;\n",
              "\n",
              "          const docLinkHtml = 'Like what you see? Visit the ' +\n",
              "            '<a target=\"_blank\" href=https://colab.research.google.com/notebooks/data_table.ipynb>data table notebook</a>'\n",
              "            + ' to learn more about interactive tables.';\n",
              "          element.innerHTML = '';\n",
              "          dataTable['output_type'] = 'display_data';\n",
              "          await google.colab.output.renderOutput(dataTable, element);\n",
              "          const docLink = document.createElement('div');\n",
              "          docLink.innerHTML = docLinkHtml;\n",
              "          element.appendChild(docLink);\n",
              "        }\n",
              "      </script>\n",
              "    </div>\n",
              "  </div>\n",
              "  "
            ]
          },
          "metadata": {},
          "execution_count": 212
        }
      ]
    },
    {
      "cell_type": "code",
      "source": [],
      "metadata": {
        "id": "_r75pxswu-Za"
      },
      "execution_count": null,
      "outputs": []
    },
    {
      "cell_type": "code",
      "source": [],
      "metadata": {
        "id": "W1FNgX5gu-cS"
      },
      "execution_count": null,
      "outputs": []
    },
    {
      "cell_type": "code",
      "source": [],
      "metadata": {
        "id": "2Pvg7K1Au-e-"
      },
      "execution_count": null,
      "outputs": []
    }
  ]
}