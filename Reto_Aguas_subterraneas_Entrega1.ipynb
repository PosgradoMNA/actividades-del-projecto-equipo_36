{
  "nbformat": 4,
  "nbformat_minor": 0,
  "metadata": {
    "colab": {
      "provenance": [],
      "include_colab_link": true
    },
    "kernelspec": {
      "name": "python3",
      "display_name": "Python 3"
    },
    "language_info": {
      "name": "python"
    }
  },
  "cells": [
    {
      "cell_type": "markdown",
      "metadata": {
        "id": "view-in-github",
        "colab_type": "text"
      },
      "source": [
        "<a href=\"https://colab.research.google.com/github/PosgradoMNA/actividades-del-projecto-equipo_36/blob/main/Reto_Aguas_subterraneas_Entrega1.ipynb\" target=\"_parent\"><img src=\"https://colab.research.google.com/assets/colab-badge.svg\" alt=\"Open In Colab\"/></a>"
      ]
    },
    {
      "cell_type": "markdown",
      "source": [
        "#**Maestría en Inteligencia Artificial Aplicada**\n",
        "##**Ciencia y Analítica de Datos**\n",
        "###Tecnológico de Monterrey\n",
        "###Prof Titular: **Dra. María de la Paz Rico**\n",
        "###Tutor: **Roberto Antonio Guevara González**\n",
        "\n",
        "####**Equipo 36**\n",
        "####*Marcos Chávez - A01688507*\n",
        "####*Bernanrdo Mijangos - A01793654*\n",
        "\n",
        "https://github.com/PosgradoMNA/actividades-del-projecto-equipo_36/blob/main/Reto_Aguas_subterraneas_Entrega1.ipynb\n",
        "\n",
        "####*Fecha de entrega 16/11/2022*"
      ],
      "metadata": {
        "id": "q4uykYNudwsA"
      }
    },
    {
      "cell_type": "markdown",
      "source": [
        "####**Selección de la base con los datos de calidad de aguas subterráneas**"
      ],
      "metadata": {
        "id": "i128vmpOyLW2"
      }
    },
    {
      "cell_type": "code",
      "source": [
        "from sklearn import linear_model as lm\n",
        "import matplotlib.pyplot as plt\n",
        "import seaborn as sns\n",
        "import statsmodels.api as sm\n",
        "import scipy.stats as sts\n",
        "import pandas as pd\n",
        "import scipy as scp\n",
        "import numpy as np\n",
        "import sklearn.preprocessing as preproc\n",
        "from sklearn.model_selection import train_test_split  ### for train and test split package\n",
        "from sklearn import metrics  ## For calculation of MSE & RMSE\n",
        "from sklearn.preprocessing import LabelEncoder\n",
        "from sklearn.metrics import confusion_matrix, f1_score\n",
        "\n",
        "import requests, zipfile\n",
        "from io import BytesIO\n",
        "\n",
        "from sklearn.cluster import KMeans\n",
        "from tqdm import tqdm\n",
        "from shapely.geometry import Point\n",
        "from yellowbrick.cluster import SilhouetteVisualizer, KElbowVisualizer\n",
        "from sklearn.metrics import silhouette_score\n",
        "from geopy.geocoders import Nominatim\n",
        "import geopy.distance"
      ],
      "metadata": {
        "id": "ZWls_ZFQ9mEW"
      },
      "execution_count": 5,
      "outputs": []
    },
    {
      "cell_type": "markdown",
      "source": [
        "Se procedió a realizar un análisis exploratorio de los datos.\n",
        "<br>\n",
        "Para el un entendimiento de los datos, se llevó a cabo el análisis\n",
        "de las variables por tipo (categóricas y numéricas)."
      ],
      "metadata": {
        "id": "04McyGtv8BC7"
      }
    },
    {
      "cell_type": "code",
      "execution_count": 6,
      "metadata": {
        "id": "-eMMCmHW8AY7"
      },
      "outputs": [],
      "source": [
        "url = 'http://201.116.60.46/Datos_de_calidad_del_agua_de_5000_sitios_de_monitoreo.zip'"
      ]
    },
    {
      "cell_type": "code",
      "source": [
        "req = requests.get(url)\n",
        "zipfile.ZipFile(BytesIO(req.content)).extractall('unzipped_zip/')\n",
        "df=pd.read_csv('unzipped_zip/Datos_de_calidad_del_agua_2020/Datos_de_calidad_del_agua_de_sitios_de_monitoreo_de_aguas_subterraneas_2020.csv', encoding = 'latin1')\n",
        "df.head()"
      ],
      "metadata": {
        "id": "6AK8SP8T9c-y",
        "colab": {
          "base_uri": "https://localhost:8080/",
          "height": 421
        },
        "outputId": "9eebef1e-6157-48b7-c93a-bcb7f50f4197"
      },
      "execution_count": 7,
      "outputs": [
        {
          "output_type": "execute_result",
          "data": {
            "text/plain": [
              "       CLAVE                   SITIO           ORGANISMO_DE_CUENCA  \\\n",
              "0     DLAGU6            POZO SAN GIL       LERMA SANTIAGO PACIFICO   \n",
              "1  DLAGU6516  POZO R013 CAÑADA HONDA       LERMA SANTIAGO PACIFICO   \n",
              "2     DLAGU7              POZO COSIO       LERMA SANTIAGO PACIFICO   \n",
              "3     DLAGU9      POZO EL SALITRILLO       LERMA SANTIAGO PACIFICO   \n",
              "4   DLBAJ107      RANCHO EL TECOLOTE  PENINSULA DE BAJA CALIFORNIA   \n",
              "\n",
              "                ESTADO        MUNICIPIO                 ACUIFERO SUBTIPO  \\\n",
              "0       AGUASCALIENTES         ASIENTOS       VALLE DE CHICALOTE    POZO   \n",
              "1       AGUASCALIENTES   AGUASCALIENTES       VALLE DE CHICALOTE    POZO   \n",
              "2       AGUASCALIENTES            COSIO  VALLE DE AGUASCALIENTES    POZO   \n",
              "3       AGUASCALIENTES  RINCON DE ROMOS  VALLE DE AGUASCALIENTES    POZO   \n",
              "4  BAJA CALIFORNIA SUR           LA PAZ             TODOS SANTOS    POZO   \n",
              "\n",
              "    LONGITUD   LATITUD  PERIODO  ...  CUMPLE_CON_DUR CUMPLE_CON_CF  \\\n",
              "0 -102.02210  22.20887     2020  ...              SI            SI   \n",
              "1 -102.20075  21.99958     2020  ...              SI            SI   \n",
              "2 -102.28801  22.36685     2020  ...              SI            SI   \n",
              "3 -102.29449  22.18435     2020  ...              SI            SI   \n",
              "4 -110.24480  23.45138     2020  ...              SI            SI   \n",
              "\n",
              "   CUMPLE_CON_NO3 CUMPLE_CON_AS  CUMPLE_CON_CD CUMPLE_CON_CR CUMPLE_CON_HG  \\\n",
              "0              SI            SI             SI            SI            SI   \n",
              "1              SI            SI             SI            SI            SI   \n",
              "2              SI            NO             SI            SI            SI   \n",
              "3              SI            SI             SI            SI            SI   \n",
              "4              NO            SI             SI            SI            SI   \n",
              "\n",
              "  CUMPLE_CON_PB CUMPLE_CON_MN CUMPLE_CON_FE  \n",
              "0            SI            SI            SI  \n",
              "1            SI            SI            SI  \n",
              "2            SI            SI            SI  \n",
              "3            SI            SI            SI  \n",
              "4            SI            SI            SI  \n",
              "\n",
              "[5 rows x 57 columns]"
            ],
            "text/html": [
              "\n",
              "  <div id=\"df-c245c99c-9896-4fe5-960b-d56923f47fc0\">\n",
              "    <div class=\"colab-df-container\">\n",
              "      <div>\n",
              "<style scoped>\n",
              "    .dataframe tbody tr th:only-of-type {\n",
              "        vertical-align: middle;\n",
              "    }\n",
              "\n",
              "    .dataframe tbody tr th {\n",
              "        vertical-align: top;\n",
              "    }\n",
              "\n",
              "    .dataframe thead th {\n",
              "        text-align: right;\n",
              "    }\n",
              "</style>\n",
              "<table border=\"1\" class=\"dataframe\">\n",
              "  <thead>\n",
              "    <tr style=\"text-align: right;\">\n",
              "      <th></th>\n",
              "      <th>CLAVE</th>\n",
              "      <th>SITIO</th>\n",
              "      <th>ORGANISMO_DE_CUENCA</th>\n",
              "      <th>ESTADO</th>\n",
              "      <th>MUNICIPIO</th>\n",
              "      <th>ACUIFERO</th>\n",
              "      <th>SUBTIPO</th>\n",
              "      <th>LONGITUD</th>\n",
              "      <th>LATITUD</th>\n",
              "      <th>PERIODO</th>\n",
              "      <th>...</th>\n",
              "      <th>CUMPLE_CON_DUR</th>\n",
              "      <th>CUMPLE_CON_CF</th>\n",
              "      <th>CUMPLE_CON_NO3</th>\n",
              "      <th>CUMPLE_CON_AS</th>\n",
              "      <th>CUMPLE_CON_CD</th>\n",
              "      <th>CUMPLE_CON_CR</th>\n",
              "      <th>CUMPLE_CON_HG</th>\n",
              "      <th>CUMPLE_CON_PB</th>\n",
              "      <th>CUMPLE_CON_MN</th>\n",
              "      <th>CUMPLE_CON_FE</th>\n",
              "    </tr>\n",
              "  </thead>\n",
              "  <tbody>\n",
              "    <tr>\n",
              "      <th>0</th>\n",
              "      <td>DLAGU6</td>\n",
              "      <td>POZO SAN GIL</td>\n",
              "      <td>LERMA SANTIAGO PACIFICO</td>\n",
              "      <td>AGUASCALIENTES</td>\n",
              "      <td>ASIENTOS</td>\n",
              "      <td>VALLE DE CHICALOTE</td>\n",
              "      <td>POZO</td>\n",
              "      <td>-102.02210</td>\n",
              "      <td>22.20887</td>\n",
              "      <td>2020</td>\n",
              "      <td>...</td>\n",
              "      <td>SI</td>\n",
              "      <td>SI</td>\n",
              "      <td>SI</td>\n",
              "      <td>SI</td>\n",
              "      <td>SI</td>\n",
              "      <td>SI</td>\n",
              "      <td>SI</td>\n",
              "      <td>SI</td>\n",
              "      <td>SI</td>\n",
              "      <td>SI</td>\n",
              "    </tr>\n",
              "    <tr>\n",
              "      <th>1</th>\n",
              "      <td>DLAGU6516</td>\n",
              "      <td>POZO R013 CAÑADA HONDA</td>\n",
              "      <td>LERMA SANTIAGO PACIFICO</td>\n",
              "      <td>AGUASCALIENTES</td>\n",
              "      <td>AGUASCALIENTES</td>\n",
              "      <td>VALLE DE CHICALOTE</td>\n",
              "      <td>POZO</td>\n",
              "      <td>-102.20075</td>\n",
              "      <td>21.99958</td>\n",
              "      <td>2020</td>\n",
              "      <td>...</td>\n",
              "      <td>SI</td>\n",
              "      <td>SI</td>\n",
              "      <td>SI</td>\n",
              "      <td>SI</td>\n",
              "      <td>SI</td>\n",
              "      <td>SI</td>\n",
              "      <td>SI</td>\n",
              "      <td>SI</td>\n",
              "      <td>SI</td>\n",
              "      <td>SI</td>\n",
              "    </tr>\n",
              "    <tr>\n",
              "      <th>2</th>\n",
              "      <td>DLAGU7</td>\n",
              "      <td>POZO COSIO</td>\n",
              "      <td>LERMA SANTIAGO PACIFICO</td>\n",
              "      <td>AGUASCALIENTES</td>\n",
              "      <td>COSIO</td>\n",
              "      <td>VALLE DE AGUASCALIENTES</td>\n",
              "      <td>POZO</td>\n",
              "      <td>-102.28801</td>\n",
              "      <td>22.36685</td>\n",
              "      <td>2020</td>\n",
              "      <td>...</td>\n",
              "      <td>SI</td>\n",
              "      <td>SI</td>\n",
              "      <td>SI</td>\n",
              "      <td>NO</td>\n",
              "      <td>SI</td>\n",
              "      <td>SI</td>\n",
              "      <td>SI</td>\n",
              "      <td>SI</td>\n",
              "      <td>SI</td>\n",
              "      <td>SI</td>\n",
              "    </tr>\n",
              "    <tr>\n",
              "      <th>3</th>\n",
              "      <td>DLAGU9</td>\n",
              "      <td>POZO EL SALITRILLO</td>\n",
              "      <td>LERMA SANTIAGO PACIFICO</td>\n",
              "      <td>AGUASCALIENTES</td>\n",
              "      <td>RINCON DE ROMOS</td>\n",
              "      <td>VALLE DE AGUASCALIENTES</td>\n",
              "      <td>POZO</td>\n",
              "      <td>-102.29449</td>\n",
              "      <td>22.18435</td>\n",
              "      <td>2020</td>\n",
              "      <td>...</td>\n",
              "      <td>SI</td>\n",
              "      <td>SI</td>\n",
              "      <td>SI</td>\n",
              "      <td>SI</td>\n",
              "      <td>SI</td>\n",
              "      <td>SI</td>\n",
              "      <td>SI</td>\n",
              "      <td>SI</td>\n",
              "      <td>SI</td>\n",
              "      <td>SI</td>\n",
              "    </tr>\n",
              "    <tr>\n",
              "      <th>4</th>\n",
              "      <td>DLBAJ107</td>\n",
              "      <td>RANCHO EL TECOLOTE</td>\n",
              "      <td>PENINSULA DE BAJA CALIFORNIA</td>\n",
              "      <td>BAJA CALIFORNIA SUR</td>\n",
              "      <td>LA PAZ</td>\n",
              "      <td>TODOS SANTOS</td>\n",
              "      <td>POZO</td>\n",
              "      <td>-110.24480</td>\n",
              "      <td>23.45138</td>\n",
              "      <td>2020</td>\n",
              "      <td>...</td>\n",
              "      <td>SI</td>\n",
              "      <td>SI</td>\n",
              "      <td>NO</td>\n",
              "      <td>SI</td>\n",
              "      <td>SI</td>\n",
              "      <td>SI</td>\n",
              "      <td>SI</td>\n",
              "      <td>SI</td>\n",
              "      <td>SI</td>\n",
              "      <td>SI</td>\n",
              "    </tr>\n",
              "  </tbody>\n",
              "</table>\n",
              "<p>5 rows × 57 columns</p>\n",
              "</div>\n",
              "      <button class=\"colab-df-convert\" onclick=\"convertToInteractive('df-c245c99c-9896-4fe5-960b-d56923f47fc0')\"\n",
              "              title=\"Convert this dataframe to an interactive table.\"\n",
              "              style=\"display:none;\">\n",
              "        \n",
              "  <svg xmlns=\"http://www.w3.org/2000/svg\" height=\"24px\"viewBox=\"0 0 24 24\"\n",
              "       width=\"24px\">\n",
              "    <path d=\"M0 0h24v24H0V0z\" fill=\"none\"/>\n",
              "    <path d=\"M18.56 5.44l.94 2.06.94-2.06 2.06-.94-2.06-.94-.94-2.06-.94 2.06-2.06.94zm-11 1L8.5 8.5l.94-2.06 2.06-.94-2.06-.94L8.5 2.5l-.94 2.06-2.06.94zm10 10l.94 2.06.94-2.06 2.06-.94-2.06-.94-.94-2.06-.94 2.06-2.06.94z\"/><path d=\"M17.41 7.96l-1.37-1.37c-.4-.4-.92-.59-1.43-.59-.52 0-1.04.2-1.43.59L10.3 9.45l-7.72 7.72c-.78.78-.78 2.05 0 2.83L4 21.41c.39.39.9.59 1.41.59.51 0 1.02-.2 1.41-.59l7.78-7.78 2.81-2.81c.8-.78.8-2.07 0-2.86zM5.41 20L4 18.59l7.72-7.72 1.47 1.35L5.41 20z\"/>\n",
              "  </svg>\n",
              "      </button>\n",
              "      \n",
              "  <style>\n",
              "    .colab-df-container {\n",
              "      display:flex;\n",
              "      flex-wrap:wrap;\n",
              "      gap: 12px;\n",
              "    }\n",
              "\n",
              "    .colab-df-convert {\n",
              "      background-color: #E8F0FE;\n",
              "      border: none;\n",
              "      border-radius: 50%;\n",
              "      cursor: pointer;\n",
              "      display: none;\n",
              "      fill: #1967D2;\n",
              "      height: 32px;\n",
              "      padding: 0 0 0 0;\n",
              "      width: 32px;\n",
              "    }\n",
              "\n",
              "    .colab-df-convert:hover {\n",
              "      background-color: #E2EBFA;\n",
              "      box-shadow: 0px 1px 2px rgba(60, 64, 67, 0.3), 0px 1px 3px 1px rgba(60, 64, 67, 0.15);\n",
              "      fill: #174EA6;\n",
              "    }\n",
              "\n",
              "    [theme=dark] .colab-df-convert {\n",
              "      background-color: #3B4455;\n",
              "      fill: #D2E3FC;\n",
              "    }\n",
              "\n",
              "    [theme=dark] .colab-df-convert:hover {\n",
              "      background-color: #434B5C;\n",
              "      box-shadow: 0px 1px 3px 1px rgba(0, 0, 0, 0.15);\n",
              "      filter: drop-shadow(0px 1px 2px rgba(0, 0, 0, 0.3));\n",
              "      fill: #FFFFFF;\n",
              "    }\n",
              "  </style>\n",
              "\n",
              "      <script>\n",
              "        const buttonEl =\n",
              "          document.querySelector('#df-c245c99c-9896-4fe5-960b-d56923f47fc0 button.colab-df-convert');\n",
              "        buttonEl.style.display =\n",
              "          google.colab.kernel.accessAllowed ? 'block' : 'none';\n",
              "\n",
              "        async function convertToInteractive(key) {\n",
              "          const element = document.querySelector('#df-c245c99c-9896-4fe5-960b-d56923f47fc0');\n",
              "          const dataTable =\n",
              "            await google.colab.kernel.invokeFunction('convertToInteractive',\n",
              "                                                     [key], {});\n",
              "          if (!dataTable) return;\n",
              "\n",
              "          const docLinkHtml = 'Like what you see? Visit the ' +\n",
              "            '<a target=\"_blank\" href=https://colab.research.google.com/notebooks/data_table.ipynb>data table notebook</a>'\n",
              "            + ' to learn more about interactive tables.';\n",
              "          element.innerHTML = '';\n",
              "          dataTable['output_type'] = 'display_data';\n",
              "          await google.colab.output.renderOutput(dataTable, element);\n",
              "          const docLink = document.createElement('div');\n",
              "          docLink.innerHTML = docLinkHtml;\n",
              "          element.appendChild(docLink);\n",
              "        }\n",
              "      </script>\n",
              "    </div>\n",
              "  </div>\n",
              "  "
            ]
          },
          "metadata": {},
          "execution_count": 7
        }
      ]
    },
    {
      "cell_type": "markdown",
      "source": [
        "###**Variables**"
      ],
      "metadata": {
        "id": "4CDEiLrVd_bq"
      }
    },
    {
      "cell_type": "markdown",
      "source": [
        "####**Exploración inicial**"
      ],
      "metadata": {
        "id": "HZroJNlmRgqX"
      }
    },
    {
      "cell_type": "code",
      "source": [
        "df.info()"
      ],
      "metadata": {
        "id": "-xB768HG90vZ",
        "colab": {
          "base_uri": "https://localhost:8080/"
        },
        "outputId": "73304585-bff1-4501-f671-8c8db673a2f6"
      },
      "execution_count": 8,
      "outputs": [
        {
          "output_type": "stream",
          "name": "stdout",
          "text": [
            "<class 'pandas.core.frame.DataFrame'>\n",
            "RangeIndex: 1068 entries, 0 to 1067\n",
            "Data columns (total 57 columns):\n",
            " #   Column                Non-Null Count  Dtype  \n",
            "---  ------                --------------  -----  \n",
            " 0   CLAVE                 1068 non-null   object \n",
            " 1   SITIO                 1068 non-null   object \n",
            " 2   ORGANISMO_DE_CUENCA   1068 non-null   object \n",
            " 3   ESTADO                1068 non-null   object \n",
            " 4   MUNICIPIO             1068 non-null   object \n",
            " 5   ACUIFERO              1068 non-null   object \n",
            " 6   SUBTIPO               1068 non-null   object \n",
            " 7   LONGITUD              1068 non-null   float64\n",
            " 8   LATITUD               1068 non-null   float64\n",
            " 9   PERIODO               1068 non-null   int64  \n",
            " 10  ALC_mg/L              1064 non-null   float64\n",
            " 11  CALIDAD_ALC           1064 non-null   object \n",
            " 12  CONDUCT_mS/cm         1062 non-null   float64\n",
            " 13  CALIDAD_CONDUC        1062 non-null   object \n",
            " 14  SDT_mg/L              0 non-null      float64\n",
            " 15  SDT_M_mg/L            1066 non-null   object \n",
            " 16  CALIDAD_SDT_ra        1066 non-null   object \n",
            " 17  CALIDAD_SDT_salin     1066 non-null   object \n",
            " 18  FLUORUROS_mg/L        1068 non-null   object \n",
            " 19  CALIDAD_FLUO          1068 non-null   object \n",
            " 20  DUR_mg/L              1067 non-null   object \n",
            " 21  CALIDAD_DUR           1067 non-null   object \n",
            " 22  COLI_FEC_NMP/100_mL   1068 non-null   object \n",
            " 23  CALIDAD_COLI_FEC      1068 non-null   object \n",
            " 24  N_NO3_mg/L            1067 non-null   object \n",
            " 25  CALIDAD_N_NO3         1067 non-null   object \n",
            " 26  AS_TOT_mg/L           1068 non-null   object \n",
            " 27  CALIDAD_AS            1068 non-null   object \n",
            " 28  CD_TOT_mg/L           1068 non-null   object \n",
            " 29  CALIDAD_CD            1068 non-null   object \n",
            " 30  CR_TOT_mg/L           1068 non-null   object \n",
            " 31  CALIDAD_CR            1068 non-null   object \n",
            " 32  HG_TOT_mg/L           1068 non-null   object \n",
            " 33  CALIDAD_HG            1068 non-null   object \n",
            " 34  PB_TOT_mg/L           1068 non-null   object \n",
            " 35  CALIDAD_PB            1068 non-null   object \n",
            " 36  MN_TOT_mg/L           1068 non-null   object \n",
            " 37  CALIDAD_MN            1068 non-null   object \n",
            " 38  FE_TOT_mg/L           1068 non-null   object \n",
            " 39  CALIDAD_FE            1068 non-null   object \n",
            " 40  SEMAFORO              1068 non-null   object \n",
            " 41  CONTAMINANTES         634 non-null    object \n",
            " 42  CUMPLE_CON_ALC        1068 non-null   object \n",
            " 43  CUMPLE_CON_COND       1068 non-null   object \n",
            " 44  CUMPLE_CON_SDT_ra     1068 non-null   object \n",
            " 45  CUMPLE_CON_SDT_salin  1068 non-null   object \n",
            " 46  CUMPLE_CON_FLUO       1068 non-null   object \n",
            " 47  CUMPLE_CON_DUR        1068 non-null   object \n",
            " 48  CUMPLE_CON_CF         1068 non-null   object \n",
            " 49  CUMPLE_CON_NO3        1068 non-null   object \n",
            " 50  CUMPLE_CON_AS         1068 non-null   object \n",
            " 51  CUMPLE_CON_CD         1068 non-null   object \n",
            " 52  CUMPLE_CON_CR         1068 non-null   object \n",
            " 53  CUMPLE_CON_HG         1068 non-null   object \n",
            " 54  CUMPLE_CON_PB         1068 non-null   object \n",
            " 55  CUMPLE_CON_MN         1068 non-null   object \n",
            " 56  CUMPLE_CON_FE         1068 non-null   object \n",
            "dtypes: float64(5), int64(1), object(51)\n",
            "memory usage: 475.7+ KB\n"
          ]
        }
      ]
    },
    {
      "cell_type": "code",
      "source": [
        "df.columns"
      ],
      "metadata": {
        "id": "oSjJMks3gDWZ",
        "colab": {
          "base_uri": "https://localhost:8080/"
        },
        "outputId": "4868d05a-86a9-40f6-a70c-9f8c9a88e44b"
      },
      "execution_count": 9,
      "outputs": [
        {
          "output_type": "execute_result",
          "data": {
            "text/plain": [
              "Index(['CLAVE', 'SITIO', 'ORGANISMO_DE_CUENCA', 'ESTADO', 'MUNICIPIO',\n",
              "       'ACUIFERO', 'SUBTIPO', 'LONGITUD', 'LATITUD', 'PERIODO', 'ALC_mg/L',\n",
              "       'CALIDAD_ALC', 'CONDUCT_mS/cm', 'CALIDAD_CONDUC', 'SDT_mg/L',\n",
              "       'SDT_M_mg/L', 'CALIDAD_SDT_ra', 'CALIDAD_SDT_salin', 'FLUORUROS_mg/L',\n",
              "       'CALIDAD_FLUO', 'DUR_mg/L', 'CALIDAD_DUR', 'COLI_FEC_NMP/100_mL',\n",
              "       'CALIDAD_COLI_FEC', 'N_NO3_mg/L', 'CALIDAD_N_NO3', 'AS_TOT_mg/L',\n",
              "       'CALIDAD_AS', 'CD_TOT_mg/L', 'CALIDAD_CD', 'CR_TOT_mg/L', 'CALIDAD_CR',\n",
              "       'HG_TOT_mg/L', 'CALIDAD_HG', 'PB_TOT_mg/L', 'CALIDAD_PB', 'MN_TOT_mg/L',\n",
              "       'CALIDAD_MN', 'FE_TOT_mg/L', 'CALIDAD_FE', 'SEMAFORO', 'CONTAMINANTES',\n",
              "       'CUMPLE_CON_ALC', 'CUMPLE_CON_COND', 'CUMPLE_CON_SDT_ra',\n",
              "       'CUMPLE_CON_SDT_salin', 'CUMPLE_CON_FLUO', 'CUMPLE_CON_DUR',\n",
              "       'CUMPLE_CON_CF', 'CUMPLE_CON_NO3', 'CUMPLE_CON_AS', 'CUMPLE_CON_CD',\n",
              "       'CUMPLE_CON_CR', 'CUMPLE_CON_HG', 'CUMPLE_CON_PB', 'CUMPLE_CON_MN',\n",
              "       'CUMPLE_CON_FE'],\n",
              "      dtype='object')"
            ]
          },
          "metadata": {},
          "execution_count": 9
        }
      ]
    },
    {
      "cell_type": "code",
      "source": [
        "ubicacion = ['ESTADO','MUNICIPIO']\n",
        "\n",
        "categoricas = ['CALIDAD_ALC',\n",
        "                'CALIDAD_CONDUC',\n",
        "                'CALIDAD_SDT_ra',\n",
        "                'CALIDAD_SDT_salin',\n",
        "                'CALIDAD_FLUO',\n",
        "                'CALIDAD_DUR',\n",
        "                'CALIDAD_COLI_FEC',\n",
        "                'CALIDAD_N_NO3',\n",
        "                'CALIDAD_AS',\n",
        "                'CALIDAD_CD',\n",
        "                'CALIDAD_CR',\n",
        "                'CALIDAD_HG',\n",
        "                'CALIDAD_PB',\n",
        "                'CALIDAD_MN',\n",
        "                'CALIDAD_FE']\n",
        "\n",
        "mediciones = ['ALC_mg/L', 'CONDUCT_mS/cm',\n",
        "              'SDT_M_mg/L', 'FLUORUROS_mg/L',\n",
        "              'DUR_mg/L', 'COLI_FEC_NMP/100_mL',\n",
        "              'N_NO3_mg/L', 'AS_TOT_mg/L',\n",
        "              'CD_TOT_mg/L', 'CR_TOT_mg/L',\n",
        "              'HG_TOT_mg/L', 'PB_TOT_mg/L', \n",
        "              'MN_TOT_mg/L', 'FE_TOT_mg/L',]\n",
        "\n",
        "coordenadas = ['LATITUD','LONGITUD']\n",
        "\n",
        "binarias = ['CUMPLE_CON_ALC', 'CUMPLE_CON_COND', 'CUMPLE_CON_SDT_ra',\n",
        "            'CUMPLE_CON_SDT_salin', 'CUMPLE_CON_FLUO', 'CUMPLE_CON_DUR',\n",
        "            'CUMPLE_CON_CF', 'CUMPLE_CON_NO3', 'CUMPLE_CON_AS', 'CUMPLE_CON_CD',\n",
        "            'CUMPLE_CON_CR', 'CUMPLE_CON_HG', 'CUMPLE_CON_PB', 'CUMPLE_CON_MN',\n",
        "            'CUMPLE_CON_FE']\n",
        "\n",
        "calidad=['SEMAFORO']"
      ],
      "metadata": {
        "id": "GuVjPeoV-Z4g"
      },
      "execution_count": 10,
      "outputs": []
    },
    {
      "cell_type": "markdown",
      "source": [
        "####**Variables de ubicación**\n",
        "\n",
        "Sin datos faltanes"
      ],
      "metadata": {
        "id": "ZYo9ELCh8pph"
      }
    },
    {
      "cell_type": "code",
      "source": [
        "df[ubicacion].describe()"
      ],
      "metadata": {
        "id": "Z1l1ZbH_i8rk",
        "colab": {
          "base_uri": "https://localhost:8080/",
          "height": 175
        },
        "outputId": "94df3a6a-5c24-4dff-8352-27f09db04449"
      },
      "execution_count": 11,
      "outputs": [
        {
          "output_type": "execute_result",
          "data": {
            "text/plain": [
              "         ESTADO MUNICIPIO\n",
              "count      1068      1068\n",
              "unique       32       452\n",
              "top     DURANGO    LA PAZ\n",
              "freq        121        27"
            ],
            "text/html": [
              "\n",
              "  <div id=\"df-5bdb7258-a09f-4825-8e89-df8d1c667545\">\n",
              "    <div class=\"colab-df-container\">\n",
              "      <div>\n",
              "<style scoped>\n",
              "    .dataframe tbody tr th:only-of-type {\n",
              "        vertical-align: middle;\n",
              "    }\n",
              "\n",
              "    .dataframe tbody tr th {\n",
              "        vertical-align: top;\n",
              "    }\n",
              "\n",
              "    .dataframe thead th {\n",
              "        text-align: right;\n",
              "    }\n",
              "</style>\n",
              "<table border=\"1\" class=\"dataframe\">\n",
              "  <thead>\n",
              "    <tr style=\"text-align: right;\">\n",
              "      <th></th>\n",
              "      <th>ESTADO</th>\n",
              "      <th>MUNICIPIO</th>\n",
              "    </tr>\n",
              "  </thead>\n",
              "  <tbody>\n",
              "    <tr>\n",
              "      <th>count</th>\n",
              "      <td>1068</td>\n",
              "      <td>1068</td>\n",
              "    </tr>\n",
              "    <tr>\n",
              "      <th>unique</th>\n",
              "      <td>32</td>\n",
              "      <td>452</td>\n",
              "    </tr>\n",
              "    <tr>\n",
              "      <th>top</th>\n",
              "      <td>DURANGO</td>\n",
              "      <td>LA PAZ</td>\n",
              "    </tr>\n",
              "    <tr>\n",
              "      <th>freq</th>\n",
              "      <td>121</td>\n",
              "      <td>27</td>\n",
              "    </tr>\n",
              "  </tbody>\n",
              "</table>\n",
              "</div>\n",
              "      <button class=\"colab-df-convert\" onclick=\"convertToInteractive('df-5bdb7258-a09f-4825-8e89-df8d1c667545')\"\n",
              "              title=\"Convert this dataframe to an interactive table.\"\n",
              "              style=\"display:none;\">\n",
              "        \n",
              "  <svg xmlns=\"http://www.w3.org/2000/svg\" height=\"24px\"viewBox=\"0 0 24 24\"\n",
              "       width=\"24px\">\n",
              "    <path d=\"M0 0h24v24H0V0z\" fill=\"none\"/>\n",
              "    <path d=\"M18.56 5.44l.94 2.06.94-2.06 2.06-.94-2.06-.94-.94-2.06-.94 2.06-2.06.94zm-11 1L8.5 8.5l.94-2.06 2.06-.94-2.06-.94L8.5 2.5l-.94 2.06-2.06.94zm10 10l.94 2.06.94-2.06 2.06-.94-2.06-.94-.94-2.06-.94 2.06-2.06.94z\"/><path d=\"M17.41 7.96l-1.37-1.37c-.4-.4-.92-.59-1.43-.59-.52 0-1.04.2-1.43.59L10.3 9.45l-7.72 7.72c-.78.78-.78 2.05 0 2.83L4 21.41c.39.39.9.59 1.41.59.51 0 1.02-.2 1.41-.59l7.78-7.78 2.81-2.81c.8-.78.8-2.07 0-2.86zM5.41 20L4 18.59l7.72-7.72 1.47 1.35L5.41 20z\"/>\n",
              "  </svg>\n",
              "      </button>\n",
              "      \n",
              "  <style>\n",
              "    .colab-df-container {\n",
              "      display:flex;\n",
              "      flex-wrap:wrap;\n",
              "      gap: 12px;\n",
              "    }\n",
              "\n",
              "    .colab-df-convert {\n",
              "      background-color: #E8F0FE;\n",
              "      border: none;\n",
              "      border-radius: 50%;\n",
              "      cursor: pointer;\n",
              "      display: none;\n",
              "      fill: #1967D2;\n",
              "      height: 32px;\n",
              "      padding: 0 0 0 0;\n",
              "      width: 32px;\n",
              "    }\n",
              "\n",
              "    .colab-df-convert:hover {\n",
              "      background-color: #E2EBFA;\n",
              "      box-shadow: 0px 1px 2px rgba(60, 64, 67, 0.3), 0px 1px 3px 1px rgba(60, 64, 67, 0.15);\n",
              "      fill: #174EA6;\n",
              "    }\n",
              "\n",
              "    [theme=dark] .colab-df-convert {\n",
              "      background-color: #3B4455;\n",
              "      fill: #D2E3FC;\n",
              "    }\n",
              "\n",
              "    [theme=dark] .colab-df-convert:hover {\n",
              "      background-color: #434B5C;\n",
              "      box-shadow: 0px 1px 3px 1px rgba(0, 0, 0, 0.15);\n",
              "      filter: drop-shadow(0px 1px 2px rgba(0, 0, 0, 0.3));\n",
              "      fill: #FFFFFF;\n",
              "    }\n",
              "  </style>\n",
              "\n",
              "      <script>\n",
              "        const buttonEl =\n",
              "          document.querySelector('#df-5bdb7258-a09f-4825-8e89-df8d1c667545 button.colab-df-convert');\n",
              "        buttonEl.style.display =\n",
              "          google.colab.kernel.accessAllowed ? 'block' : 'none';\n",
              "\n",
              "        async function convertToInteractive(key) {\n",
              "          const element = document.querySelector('#df-5bdb7258-a09f-4825-8e89-df8d1c667545');\n",
              "          const dataTable =\n",
              "            await google.colab.kernel.invokeFunction('convertToInteractive',\n",
              "                                                     [key], {});\n",
              "          if (!dataTable) return;\n",
              "\n",
              "          const docLinkHtml = 'Like what you see? Visit the ' +\n",
              "            '<a target=\"_blank\" href=https://colab.research.google.com/notebooks/data_table.ipynb>data table notebook</a>'\n",
              "            + ' to learn more about interactive tables.';\n",
              "          element.innerHTML = '';\n",
              "          dataTable['output_type'] = 'display_data';\n",
              "          await google.colab.output.renderOutput(dataTable, element);\n",
              "          const docLink = document.createElement('div');\n",
              "          docLink.innerHTML = docLinkHtml;\n",
              "          element.appendChild(docLink);\n",
              "        }\n",
              "      </script>\n",
              "    </div>\n",
              "  </div>\n",
              "  "
            ]
          },
          "metadata": {},
          "execution_count": 11
        }
      ]
    },
    {
      "cell_type": "code",
      "source": [
        "df[ubicacion].value_counts()"
      ],
      "metadata": {
        "id": "W8KD7fff5Bxe",
        "colab": {
          "base_uri": "https://localhost:8080/"
        },
        "outputId": "481251a8-2afc-415b-daf8-cc9da91418cc"
      },
      "execution_count": 12,
      "outputs": [
        {
          "output_type": "execute_result",
          "data": {
            "text/plain": [
              "ESTADO                MUNICIPIO             \n",
              "BAJA CALIFORNIA SUR   LA PAZ                    27\n",
              "BAJA CALIFORNIA       ENSENADA                  26\n",
              "COAHUILA DE ZARAGOZA  PARRAS                    24\n",
              "SONORA                HERMOSILLO                17\n",
              "YUCATAN               MERIDA                    16\n",
              "                                                ..\n",
              "PUEBLA                SAN JOSE MIAHUATLAN        1\n",
              "COAHUILA DE ZARAGOZA  ARTEAGA                    1\n",
              "PUEBLA                CUAPIAXTLA DE MADERO       1\n",
              "                      CORONANGO                  1\n",
              "OAXACA                SAN LORENZO CACAOTEPEC     1\n",
              "Length: 462, dtype: int64"
            ]
          },
          "metadata": {},
          "execution_count": 12
        }
      ]
    },
    {
      "cell_type": "markdown",
      "source": [
        "#### **Variables categóricas**"
      ],
      "metadata": {
        "id": "dqNKobak-jgD"
      }
    },
    {
      "cell_type": "code",
      "source": [
        "df[categoricas].describe()"
      ],
      "metadata": {
        "id": "IctLNPQkjhGC",
        "colab": {
          "base_uri": "https://localhost:8080/",
          "height": 256
        },
        "outputId": "4d7efaa3-b04d-4056-e241-e1b483a3658a"
      },
      "execution_count": 13,
      "outputs": [
        {
          "output_type": "execute_result",
          "data": {
            "text/plain": [
              "       CALIDAD_ALC         CALIDAD_CONDUC        CALIDAD_SDT_ra  \\\n",
              "count         1064                   1062                  1066   \n",
              "unique           4                      5                     5   \n",
              "top           Alta  Permisible para riego  Excelente para riego   \n",
              "freq           794                    460                   491   \n",
              "\n",
              "       CALIDAD_SDT_salin CALIDAD_FLUO     CALIDAD_DUR     CALIDAD_COLI_FEC  \\\n",
              "count               1066         1068            1067                 1068   \n",
              "unique                 4            4               4                    5   \n",
              "top      Potable - Dulce         Baja  Potable - Dura  Potable - Excelente   \n",
              "freq                 834          434             577                  739   \n",
              "\n",
              "              CALIDAD_N_NO3           CALIDAD_AS           CALIDAD_CD  \\\n",
              "count                  1067                 1068                 1068   \n",
              "unique                    3                    3                    2   \n",
              "top     Potable - Excelente  Potable - Excelente  Potable - Excelente   \n",
              "freq                    788                  816                 1066   \n",
              "\n",
              "                 CALIDAD_CR           CALIDAD_HG           CALIDAD_PB  \\\n",
              "count                  1068                 1068                 1068   \n",
              "unique                    2                    2                    2   \n",
              "top     Potable - Excelente  Potable - Excelente  Potable - Excelente   \n",
              "freq                   1053                 1067                 1056   \n",
              "\n",
              "                 CALIDAD_MN           CALIDAD_FE  \n",
              "count                  1068                 1068  \n",
              "unique                    3                    2  \n",
              "top     Potable - Excelente  Potable - Excelente  \n",
              "freq                    982                  932  "
            ],
            "text/html": [
              "\n",
              "  <div id=\"df-18f30914-470d-4588-828d-cd32c73eb8ef\">\n",
              "    <div class=\"colab-df-container\">\n",
              "      <div>\n",
              "<style scoped>\n",
              "    .dataframe tbody tr th:only-of-type {\n",
              "        vertical-align: middle;\n",
              "    }\n",
              "\n",
              "    .dataframe tbody tr th {\n",
              "        vertical-align: top;\n",
              "    }\n",
              "\n",
              "    .dataframe thead th {\n",
              "        text-align: right;\n",
              "    }\n",
              "</style>\n",
              "<table border=\"1\" class=\"dataframe\">\n",
              "  <thead>\n",
              "    <tr style=\"text-align: right;\">\n",
              "      <th></th>\n",
              "      <th>CALIDAD_ALC</th>\n",
              "      <th>CALIDAD_CONDUC</th>\n",
              "      <th>CALIDAD_SDT_ra</th>\n",
              "      <th>CALIDAD_SDT_salin</th>\n",
              "      <th>CALIDAD_FLUO</th>\n",
              "      <th>CALIDAD_DUR</th>\n",
              "      <th>CALIDAD_COLI_FEC</th>\n",
              "      <th>CALIDAD_N_NO3</th>\n",
              "      <th>CALIDAD_AS</th>\n",
              "      <th>CALIDAD_CD</th>\n",
              "      <th>CALIDAD_CR</th>\n",
              "      <th>CALIDAD_HG</th>\n",
              "      <th>CALIDAD_PB</th>\n",
              "      <th>CALIDAD_MN</th>\n",
              "      <th>CALIDAD_FE</th>\n",
              "    </tr>\n",
              "  </thead>\n",
              "  <tbody>\n",
              "    <tr>\n",
              "      <th>count</th>\n",
              "      <td>1064</td>\n",
              "      <td>1062</td>\n",
              "      <td>1066</td>\n",
              "      <td>1066</td>\n",
              "      <td>1068</td>\n",
              "      <td>1067</td>\n",
              "      <td>1068</td>\n",
              "      <td>1067</td>\n",
              "      <td>1068</td>\n",
              "      <td>1068</td>\n",
              "      <td>1068</td>\n",
              "      <td>1068</td>\n",
              "      <td>1068</td>\n",
              "      <td>1068</td>\n",
              "      <td>1068</td>\n",
              "    </tr>\n",
              "    <tr>\n",
              "      <th>unique</th>\n",
              "      <td>4</td>\n",
              "      <td>5</td>\n",
              "      <td>5</td>\n",
              "      <td>4</td>\n",
              "      <td>4</td>\n",
              "      <td>4</td>\n",
              "      <td>5</td>\n",
              "      <td>3</td>\n",
              "      <td>3</td>\n",
              "      <td>2</td>\n",
              "      <td>2</td>\n",
              "      <td>2</td>\n",
              "      <td>2</td>\n",
              "      <td>3</td>\n",
              "      <td>2</td>\n",
              "    </tr>\n",
              "    <tr>\n",
              "      <th>top</th>\n",
              "      <td>Alta</td>\n",
              "      <td>Permisible para riego</td>\n",
              "      <td>Excelente para riego</td>\n",
              "      <td>Potable - Dulce</td>\n",
              "      <td>Baja</td>\n",
              "      <td>Potable - Dura</td>\n",
              "      <td>Potable - Excelente</td>\n",
              "      <td>Potable - Excelente</td>\n",
              "      <td>Potable - Excelente</td>\n",
              "      <td>Potable - Excelente</td>\n",
              "      <td>Potable - Excelente</td>\n",
              "      <td>Potable - Excelente</td>\n",
              "      <td>Potable - Excelente</td>\n",
              "      <td>Potable - Excelente</td>\n",
              "      <td>Potable - Excelente</td>\n",
              "    </tr>\n",
              "    <tr>\n",
              "      <th>freq</th>\n",
              "      <td>794</td>\n",
              "      <td>460</td>\n",
              "      <td>491</td>\n",
              "      <td>834</td>\n",
              "      <td>434</td>\n",
              "      <td>577</td>\n",
              "      <td>739</td>\n",
              "      <td>788</td>\n",
              "      <td>816</td>\n",
              "      <td>1066</td>\n",
              "      <td>1053</td>\n",
              "      <td>1067</td>\n",
              "      <td>1056</td>\n",
              "      <td>982</td>\n",
              "      <td>932</td>\n",
              "    </tr>\n",
              "  </tbody>\n",
              "</table>\n",
              "</div>\n",
              "      <button class=\"colab-df-convert\" onclick=\"convertToInteractive('df-18f30914-470d-4588-828d-cd32c73eb8ef')\"\n",
              "              title=\"Convert this dataframe to an interactive table.\"\n",
              "              style=\"display:none;\">\n",
              "        \n",
              "  <svg xmlns=\"http://www.w3.org/2000/svg\" height=\"24px\"viewBox=\"0 0 24 24\"\n",
              "       width=\"24px\">\n",
              "    <path d=\"M0 0h24v24H0V0z\" fill=\"none\"/>\n",
              "    <path d=\"M18.56 5.44l.94 2.06.94-2.06 2.06-.94-2.06-.94-.94-2.06-.94 2.06-2.06.94zm-11 1L8.5 8.5l.94-2.06 2.06-.94-2.06-.94L8.5 2.5l-.94 2.06-2.06.94zm10 10l.94 2.06.94-2.06 2.06-.94-2.06-.94-.94-2.06-.94 2.06-2.06.94z\"/><path d=\"M17.41 7.96l-1.37-1.37c-.4-.4-.92-.59-1.43-.59-.52 0-1.04.2-1.43.59L10.3 9.45l-7.72 7.72c-.78.78-.78 2.05 0 2.83L4 21.41c.39.39.9.59 1.41.59.51 0 1.02-.2 1.41-.59l7.78-7.78 2.81-2.81c.8-.78.8-2.07 0-2.86zM5.41 20L4 18.59l7.72-7.72 1.47 1.35L5.41 20z\"/>\n",
              "  </svg>\n",
              "      </button>\n",
              "      \n",
              "  <style>\n",
              "    .colab-df-container {\n",
              "      display:flex;\n",
              "      flex-wrap:wrap;\n",
              "      gap: 12px;\n",
              "    }\n",
              "\n",
              "    .colab-df-convert {\n",
              "      background-color: #E8F0FE;\n",
              "      border: none;\n",
              "      border-radius: 50%;\n",
              "      cursor: pointer;\n",
              "      display: none;\n",
              "      fill: #1967D2;\n",
              "      height: 32px;\n",
              "      padding: 0 0 0 0;\n",
              "      width: 32px;\n",
              "    }\n",
              "\n",
              "    .colab-df-convert:hover {\n",
              "      background-color: #E2EBFA;\n",
              "      box-shadow: 0px 1px 2px rgba(60, 64, 67, 0.3), 0px 1px 3px 1px rgba(60, 64, 67, 0.15);\n",
              "      fill: #174EA6;\n",
              "    }\n",
              "\n",
              "    [theme=dark] .colab-df-convert {\n",
              "      background-color: #3B4455;\n",
              "      fill: #D2E3FC;\n",
              "    }\n",
              "\n",
              "    [theme=dark] .colab-df-convert:hover {\n",
              "      background-color: #434B5C;\n",
              "      box-shadow: 0px 1px 3px 1px rgba(0, 0, 0, 0.15);\n",
              "      filter: drop-shadow(0px 1px 2px rgba(0, 0, 0, 0.3));\n",
              "      fill: #FFFFFF;\n",
              "    }\n",
              "  </style>\n",
              "\n",
              "      <script>\n",
              "        const buttonEl =\n",
              "          document.querySelector('#df-18f30914-470d-4588-828d-cd32c73eb8ef button.colab-df-convert');\n",
              "        buttonEl.style.display =\n",
              "          google.colab.kernel.accessAllowed ? 'block' : 'none';\n",
              "\n",
              "        async function convertToInteractive(key) {\n",
              "          const element = document.querySelector('#df-18f30914-470d-4588-828d-cd32c73eb8ef');\n",
              "          const dataTable =\n",
              "            await google.colab.kernel.invokeFunction('convertToInteractive',\n",
              "                                                     [key], {});\n",
              "          if (!dataTable) return;\n",
              "\n",
              "          const docLinkHtml = 'Like what you see? Visit the ' +\n",
              "            '<a target=\"_blank\" href=https://colab.research.google.com/notebooks/data_table.ipynb>data table notebook</a>'\n",
              "            + ' to learn more about interactive tables.';\n",
              "          element.innerHTML = '';\n",
              "          dataTable['output_type'] = 'display_data';\n",
              "          await google.colab.output.renderOutput(dataTable, element);\n",
              "          const docLink = document.createElement('div');\n",
              "          docLink.innerHTML = docLinkHtml;\n",
              "          element.appendChild(docLink);\n",
              "        }\n",
              "      </script>\n",
              "    </div>\n",
              "  </div>\n",
              "  "
            ]
          },
          "metadata": {},
          "execution_count": 13
        }
      ]
    },
    {
      "cell_type": "markdown",
      "source": [
        "Las variables de “CALIDAD” contienen entre 2 y 5 categorías cada una y contienen muy pocos valores faltantes.\n",
        "<br>\n",
        "Estos valores aparecen como “ND” en las variables de CUMPLIMIENTO y no fueron tomados en cuenta al momento de construir la variable de “SEMAFORO”."
      ],
      "metadata": {
        "id": "qXpCi5gGAfLZ"
      }
    },
    {
      "cell_type": "code",
      "source": [
        "df[categoricas].isnull().sum()"
      ],
      "metadata": {
        "id": "V2Fz_LRBjvaB",
        "colab": {
          "base_uri": "https://localhost:8080/"
        },
        "outputId": "8280b366-6591-4efc-88f0-aa23a6a05e0e"
      },
      "execution_count": 14,
      "outputs": [
        {
          "output_type": "execute_result",
          "data": {
            "text/plain": [
              "CALIDAD_ALC          4\n",
              "CALIDAD_CONDUC       6\n",
              "CALIDAD_SDT_ra       2\n",
              "CALIDAD_SDT_salin    2\n",
              "CALIDAD_FLUO         0\n",
              "CALIDAD_DUR          1\n",
              "CALIDAD_COLI_FEC     0\n",
              "CALIDAD_N_NO3        1\n",
              "CALIDAD_AS           0\n",
              "CALIDAD_CD           0\n",
              "CALIDAD_CR           0\n",
              "CALIDAD_HG           0\n",
              "CALIDAD_PB           0\n",
              "CALIDAD_MN           0\n",
              "CALIDAD_FE           0\n",
              "dtype: int64"
            ]
          },
          "metadata": {},
          "execution_count": 14
        }
      ]
    },
    {
      "cell_type": "code",
      "source": [
        "df1=df[df['CALIDAD_ALC'].isnull()]\n",
        "print(df1[calidad])\n",
        "print(df1[binarias])"
      ],
      "metadata": {
        "id": "r5MAXOj_j4H1",
        "colab": {
          "base_uri": "https://localhost:8080/"
        },
        "outputId": "e7104172-c6be-4787-fc41-3b27b02ba3a7"
      },
      "execution_count": 15,
      "outputs": [
        {
          "output_type": "stream",
          "name": "stdout",
          "text": [
            "    SEMAFORO\n",
            "406     Rojo\n",
            "407    Verde\n",
            "722    Verde\n",
            "861     Rojo\n",
            "    CUMPLE_CON_ALC CUMPLE_CON_COND CUMPLE_CON_SDT_ra CUMPLE_CON_SDT_salin  \\\n",
            "406             ND              SI                SI                   SI   \n",
            "407             ND              SI                SI                   SI   \n",
            "722             ND              SI                SI                   SI   \n",
            "861             ND              SI                SI                   SI   \n",
            "\n",
            "    CUMPLE_CON_FLUO CUMPLE_CON_DUR CUMPLE_CON_CF CUMPLE_CON_NO3 CUMPLE_CON_AS  \\\n",
            "406              SI             SI            SI             NO            SI   \n",
            "407              SI             SI            SI             SI            SI   \n",
            "722              SI             SI            SI             SI            SI   \n",
            "861              NO             SI            SI             SI            SI   \n",
            "\n",
            "    CUMPLE_CON_CD CUMPLE_CON_CR CUMPLE_CON_HG CUMPLE_CON_PB CUMPLE_CON_MN  \\\n",
            "406            SI            SI            SI            SI            SI   \n",
            "407            SI            SI            SI            SI            SI   \n",
            "722            SI            SI            SI            SI            SI   \n",
            "861            SI            SI            SI            SI            SI   \n",
            "\n",
            "    CUMPLE_CON_FE  \n",
            "406            SI  \n",
            "407            SI  \n",
            "722            SI  \n",
            "861            SI  \n"
          ]
        }
      ]
    },
    {
      "cell_type": "code",
      "source": [
        "df1=df[df['CALIDAD_CONDUC'].isnull()]\n",
        "print(df1[calidad])\n",
        "print(df1[binarias])"
      ],
      "metadata": {
        "id": "HjKlnH4PmJMI",
        "colab": {
          "base_uri": "https://localhost:8080/"
        },
        "outputId": "b9018c50-b6d1-4d4f-9a9b-3b49790c5a84"
      },
      "execution_count": 17,
      "outputs": [
        {
          "output_type": "stream",
          "name": "stdout",
          "text": [
            "     SEMAFORO\n",
            "18       Rojo\n",
            "281     Verde\n",
            "293      Rojo\n",
            "616  Amarillo\n",
            "891     Verde\n",
            "906     Verde\n",
            "    CUMPLE_CON_ALC CUMPLE_CON_COND CUMPLE_CON_SDT_ra CUMPLE_CON_SDT_salin  \\\n",
            "18              SI              ND                SI                   SI   \n",
            "281             SI              ND                SI                   SI   \n",
            "293             NO              ND                SI                   SI   \n",
            "616             NO              ND                NO                   NO   \n",
            "891             SI              ND                SI                   SI   \n",
            "906             SI              ND                SI                   SI   \n",
            "\n",
            "    CUMPLE_CON_FLUO CUMPLE_CON_DUR CUMPLE_CON_CF CUMPLE_CON_NO3 CUMPLE_CON_AS  \\\n",
            "18               SI             SI            SI             SI            NO   \n",
            "281              SI             SI            SI             SI            SI   \n",
            "293              NO             SI            SI             SI            NO   \n",
            "616              SI             NO            SI             SI            SI   \n",
            "891              SI             SI            SI             SI            SI   \n",
            "906              SI             SI            SI             SI            SI   \n",
            "\n",
            "    CUMPLE_CON_CD CUMPLE_CON_CR CUMPLE_CON_HG CUMPLE_CON_PB CUMPLE_CON_MN  \\\n",
            "18             SI            SI            SI            SI            SI   \n",
            "281            SI            SI            SI            SI            SI   \n",
            "293            SI            SI            SI            SI            SI   \n",
            "616            SI            SI            SI            SI            NO   \n",
            "891            SI            SI            SI            SI            SI   \n",
            "906            SI            SI            SI            SI            SI   \n",
            "\n",
            "    CUMPLE_CON_FE  \n",
            "18             SI  \n",
            "281            SI  \n",
            "293            SI  \n",
            "616            NO  \n",
            "891            SI  \n",
            "906            SI  \n"
          ]
        }
      ]
    },
    {
      "cell_type": "code",
      "source": [
        "df1=df[df['CALIDAD_SDT_ra'].isnull()]\n",
        "print(df1[calidad])\n",
        "print(df1[binarias])"
      ],
      "metadata": {
        "id": "1kgIr23pkX8F",
        "colab": {
          "base_uri": "https://localhost:8080/"
        },
        "outputId": "255b692a-6c03-4673-d657-6d7f6d541eea"
      },
      "execution_count": 16,
      "outputs": [
        {
          "output_type": "stream",
          "name": "stdout",
          "text": [
            "     SEMAFORO\n",
            "175      Rojo\n",
            "677  Amarillo\n",
            "    CUMPLE_CON_ALC CUMPLE_CON_COND CUMPLE_CON_SDT_ra CUMPLE_CON_SDT_salin  \\\n",
            "175             SI              SI                ND                   ND   \n",
            "677             SI              SI                ND                   ND   \n",
            "\n",
            "    CUMPLE_CON_FLUO CUMPLE_CON_DUR CUMPLE_CON_CF CUMPLE_CON_NO3 CUMPLE_CON_AS  \\\n",
            "175              SI             SI            SI             NO            SI   \n",
            "677              SI             SI            SI             SI            SI   \n",
            "\n",
            "    CUMPLE_CON_CD CUMPLE_CON_CR CUMPLE_CON_HG CUMPLE_CON_PB CUMPLE_CON_MN  \\\n",
            "175            SI            SI            SI            SI            SI   \n",
            "677            SI            SI            SI            SI            SI   \n",
            "\n",
            "    CUMPLE_CON_FE  \n",
            "175            SI  \n",
            "677            NO  \n"
          ]
        }
      ]
    },
    {
      "cell_type": "code",
      "source": [
        "df1=df[df['CALIDAD_SDT_salin'].isnull()]\n",
        "print(df1[calidad])\n",
        "print(df1[binarias])"
      ],
      "metadata": {
        "id": "VxCRnuhbl1eW",
        "colab": {
          "base_uri": "https://localhost:8080/"
        },
        "outputId": "0cc9ea7b-8084-46b0-ebc9-0f3c6d6ab8c7"
      },
      "execution_count": 18,
      "outputs": [
        {
          "output_type": "stream",
          "name": "stdout",
          "text": [
            "     SEMAFORO\n",
            "175      Rojo\n",
            "677  Amarillo\n",
            "    CUMPLE_CON_ALC CUMPLE_CON_COND CUMPLE_CON_SDT_ra CUMPLE_CON_SDT_salin  \\\n",
            "175             SI              SI                ND                   ND   \n",
            "677             SI              SI                ND                   ND   \n",
            "\n",
            "    CUMPLE_CON_FLUO CUMPLE_CON_DUR CUMPLE_CON_CF CUMPLE_CON_NO3 CUMPLE_CON_AS  \\\n",
            "175              SI             SI            SI             NO            SI   \n",
            "677              SI             SI            SI             SI            SI   \n",
            "\n",
            "    CUMPLE_CON_CD CUMPLE_CON_CR CUMPLE_CON_HG CUMPLE_CON_PB CUMPLE_CON_MN  \\\n",
            "175            SI            SI            SI            SI            SI   \n",
            "677            SI            SI            SI            SI            SI   \n",
            "\n",
            "    CUMPLE_CON_FE  \n",
            "175            SI  \n",
            "677            NO  \n"
          ]
        }
      ]
    },
    {
      "cell_type": "code",
      "source": [
        "df1=df[df['CALIDAD_DUR'].isnull()]\n",
        "print(df1[calidad])\n",
        "print(df1[binarias])"
      ],
      "metadata": {
        "id": "8kteR5qLnKKb",
        "colab": {
          "base_uri": "https://localhost:8080/"
        },
        "outputId": "f834702d-0630-49fa-dbb8-4a41ddd86b9e"
      },
      "execution_count": 19,
      "outputs": [
        {
          "output_type": "stream",
          "name": "stdout",
          "text": [
            "    SEMAFORO\n",
            "635    Verde\n",
            "    CUMPLE_CON_ALC CUMPLE_CON_COND CUMPLE_CON_SDT_ra CUMPLE_CON_SDT_salin  \\\n",
            "635             SI              SI                SI                   SI   \n",
            "\n",
            "    CUMPLE_CON_FLUO CUMPLE_CON_DUR CUMPLE_CON_CF CUMPLE_CON_NO3 CUMPLE_CON_AS  \\\n",
            "635              SI             ND            SI             SI            SI   \n",
            "\n",
            "    CUMPLE_CON_CD CUMPLE_CON_CR CUMPLE_CON_HG CUMPLE_CON_PB CUMPLE_CON_MN  \\\n",
            "635            SI            SI            SI            SI            SI   \n",
            "\n",
            "    CUMPLE_CON_FE  \n",
            "635            SI  \n"
          ]
        }
      ]
    },
    {
      "cell_type": "code",
      "source": [
        "df1=df[df['CALIDAD_N_NO3'].isnull()]\n",
        "print(df1[calidad])\n",
        "print(df1[binarias])"
      ],
      "metadata": {
        "id": "2arl9pwxnT8n",
        "colab": {
          "base_uri": "https://localhost:8080/"
        },
        "outputId": "f6022aae-d808-4cf9-ba8a-b69702f32895"
      },
      "execution_count": 20,
      "outputs": [
        {
          "output_type": "stream",
          "name": "stdout",
          "text": [
            "    SEMAFORO\n",
            "234    Verde\n",
            "    CUMPLE_CON_ALC CUMPLE_CON_COND CUMPLE_CON_SDT_ra CUMPLE_CON_SDT_salin  \\\n",
            "234             SI              SI                SI                   SI   \n",
            "\n",
            "    CUMPLE_CON_FLUO CUMPLE_CON_DUR CUMPLE_CON_CF CUMPLE_CON_NO3 CUMPLE_CON_AS  \\\n",
            "234              SI             SI            SI             ND            SI   \n",
            "\n",
            "    CUMPLE_CON_CD CUMPLE_CON_CR CUMPLE_CON_HG CUMPLE_CON_PB CUMPLE_CON_MN  \\\n",
            "234            SI            SI            SI            SI            SI   \n",
            "\n",
            "    CUMPLE_CON_FE  \n",
            "234            SI  \n"
          ]
        }
      ]
    },
    {
      "cell_type": "markdown",
      "source": [
        "####**Variables con mediciones (numéricas)**\n",
        "\n",
        "Se analizaron las 14 variables numéricas y se tomo la decisión de realizar las siguientes acciones para cada una de ellas:\n",
        "\n",
        "* Sustituir los “strings” que aparecen con datos numéricos congruentes.\n",
        "* Imputar los datos faltantes con la mediana\n",
        "* Reducir la magnitud de los outliers."
      ],
      "metadata": {
        "id": "zni85U2MECj-"
      }
    },
    {
      "cell_type": "markdown",
      "source": [
        "#####**Variable [ALC_mg/L]**\n",
        "\n",
        "-*Imputación de valores faltantes*\n",
        "<br>\n",
        "-*Reducción de magnitud de Outliers*"
      ],
      "metadata": {
        "id": "lM21rAAsAZTH"
      }
    },
    {
      "cell_type": "code",
      "source": [
        "df['ALC_mg/L'].isnull().sum()"
      ],
      "metadata": {
        "id": "iuDjBVS4m0eP",
        "outputId": "f3c9a033-e5bc-49fd-92ea-ded8ddd6186f",
        "colab": {
          "base_uri": "https://localhost:8080/"
        }
      },
      "execution_count": 21,
      "outputs": [
        {
          "output_type": "execute_result",
          "data": {
            "text/plain": [
              "4"
            ]
          },
          "metadata": {},
          "execution_count": 21
        }
      ]
    },
    {
      "cell_type": "code",
      "source": [
        "#Imputamos la variable con la mediana\n",
        "df['ALC_mg/L'].fillna(df['ALC_mg/L'].median(), inplace=True)"
      ],
      "metadata": {
        "id": "58C7AquwQLs6"
      },
      "execution_count": 22,
      "outputs": []
    },
    {
      "cell_type": "code",
      "source": [
        "df['ALC_mg/L'].isnull().sum()"
      ],
      "metadata": {
        "colab": {
          "base_uri": "https://localhost:8080/"
        },
        "id": "oAj325VD9M_N",
        "outputId": "413a4463-eb76-4b62-abc4-7f5310dc39e1"
      },
      "execution_count": 23,
      "outputs": [
        {
          "output_type": "execute_result",
          "data": {
            "text/plain": [
              "0"
            ]
          },
          "metadata": {},
          "execution_count": 23
        }
      ]
    },
    {
      "cell_type": "code",
      "source": [
        "df['ALC_mg/L'].describe()"
      ],
      "metadata": {
        "id": "D5Msd11hpo6T",
        "outputId": "6fc7c13a-35ba-4237-863e-1ee41db2d274",
        "colab": {
          "base_uri": "https://localhost:8080/"
        }
      },
      "execution_count": 24,
      "outputs": [
        {
          "output_type": "execute_result",
          "data": {
            "text/plain": [
              "count    1068.000000\n",
              "mean      235.558455\n",
              "std       116.661485\n",
              "min        26.640000\n",
              "25%       164.048750\n",
              "50%       215.527500\n",
              "75%       292.423750\n",
              "max      1650.000000\n",
              "Name: ALC_mg/L, dtype: float64"
            ]
          },
          "metadata": {},
          "execution_count": 24
        }
      ]
    },
    {
      "cell_type": "code",
      "source": [
        "#Detección de outliers con boxplot\n",
        "fig, axs = plt.subplots(figsize=(10, 4))\n",
        "sns.boxplot(data=df[['ALC_mg/L']], orient='h', ax=axs)\n",
        "plt.title('Box plot de variables numericas')\n",
        "plt.grid()\n",
        "plt.show()"
      ],
      "metadata": {
        "id": "aZvCCjoqREiZ",
        "outputId": "cfab932d-3bcc-4065-e1d1-785f9b8f9c91",
        "colab": {
          "base_uri": "https://localhost:8080/",
          "height": 280
        }
      },
      "execution_count": 25,
      "outputs": [
        {
          "output_type": "display_data",
          "data": {
            "text/plain": [
              "<Figure size 720x288 with 1 Axes>"
            ],
            "image/png": "[encoded data removed]"
          },
          "metadata": {}
        }
      ]
    },
    {
      "cell_type": "code",
      "source": [
        "df[df['ALC_mg/L'] > 500]['ALC_mg/L'].count()"
      ],
      "metadata": {
        "id": "3U7nee--khgw",
        "outputId": "ea06e689-88e7-45cc-b14b-2b40b1cd81a4",
        "colab": {
          "base_uri": "https://localhost:8080/"
        }
      },
      "execution_count": 26,
      "outputs": [
        {
          "output_type": "execute_result",
          "data": {
            "text/plain": [
              "23"
            ]
          },
          "metadata": {},
          "execution_count": 26
        }
      ]
    },
    {
      "cell_type": "code",
      "source": [
        "df.loc[df['ALC_mg/L'] > 500, 'ALC_mg/L'] = 500"
      ],
      "metadata": {
        "id": "vYIShDsg9EFi"
      },
      "execution_count": 27,
      "outputs": []
    },
    {
      "cell_type": "code",
      "source": [
        "fig, axs = plt.subplots(figsize=(10, 4))\n",
        "sns.boxplot(data=df[['ALC_mg/L']], orient='h', ax=axs)\n",
        "plt.title('Box plot de variables numericas')\n",
        "plt.grid()\n",
        "plt.show()"
      ],
      "metadata": {
        "colab": {
          "base_uri": "https://localhost:8080/",
          "height": 280
        },
        "id": "jzR5_f6l8kyK",
        "outputId": "72e81189-1774-4dda-9881-a28a20b9ce59"
      },
      "execution_count": 28,
      "outputs": [
        {
          "output_type": "display_data",
          "data": {
            "text/plain": [
              "<Figure size 720x288 with 1 Axes>"
            ],
            "image/png": "[encoded data removed]"
          },
          "metadata": {}
        }
      ]
    },
    {
      "cell_type": "markdown",
      "source": [
        "#####**Variable [CONDUCT_mS/cm]**\n",
        "\n",
        "-*Imputación de valores faltantes*\n",
        "<br>\n",
        "-*Reducción de magnitud de Outliers*"
      ],
      "metadata": {
        "id": "K1tKw7JhAo4Z"
      }
    },
    {
      "cell_type": "code",
      "source": [
        "df['CONDUCT_mS/cm'].isnull().sum()"
      ],
      "metadata": {
        "id": "FHmL_Z-6oTFj",
        "outputId": "1e7c1ff5-2bb5-4164-9bf1-ad1e44e93c40",
        "colab": {
          "base_uri": "https://localhost:8080/"
        }
      },
      "execution_count": 29,
      "outputs": [
        {
          "output_type": "execute_result",
          "data": {
            "text/plain": [
              "6"
            ]
          },
          "metadata": {},
          "execution_count": 29
        }
      ]
    },
    {
      "cell_type": "code",
      "source": [
        "#Imputamos la variable con la mediana\n",
        "df['CONDUCT_mS/cm'].fillna(df['CONDUCT_mS/cm'].median(), inplace=True)"
      ],
      "metadata": {
        "id": "zoXdHBk9ovCV"
      },
      "execution_count": 30,
      "outputs": []
    },
    {
      "cell_type": "code",
      "source": [
        "df['CONDUCT_mS/cm'].isnull().sum()"
      ],
      "metadata": {
        "id": "KRlho2aQo29u",
        "outputId": "edd65393-bcb1-4366-c529-5aa972e92907",
        "colab": {
          "base_uri": "https://localhost:8080/"
        }
      },
      "execution_count": 31,
      "outputs": [
        {
          "output_type": "execute_result",
          "data": {
            "text/plain": [
              "0"
            ]
          },
          "metadata": {},
          "execution_count": 31
        }
      ]
    },
    {
      "cell_type": "code",
      "source": [
        "df['CONDUCT_mS/cm'].describe()"
      ],
      "metadata": {
        "id": "D-6eZawzpei0",
        "outputId": "b24a9e19-2ecb-46d7-9f1b-53a64aa24d4e",
        "colab": {
          "base_uri": "https://localhost:8080/"
        }
      },
      "execution_count": 32,
      "outputs": [
        {
          "output_type": "execute_result",
          "data": {
            "text/plain": [
              "count     1068.000000\n",
              "mean      1137.133052\n",
              "std       1242.292889\n",
              "min         50.400000\n",
              "25%        505.500000\n",
              "50%        815.000000\n",
              "75%       1321.250000\n",
              "max      18577.000000\n",
              "Name: CONDUCT_mS/cm, dtype: float64"
            ]
          },
          "metadata": {},
          "execution_count": 32
        }
      ]
    },
    {
      "cell_type": "code",
      "source": [
        "\n",
        "fig, axs = plt.subplots(figsize=(10, 4))\n",
        "sns.boxplot(data=df[['CONDUCT_mS/cm']], orient='h', ax=axs)\n",
        "plt.title('Box plot de variables numericas')\n",
        "plt.grid()\n",
        "plt.show()"
      ],
      "metadata": {
        "id": "yaLxbM5dpBFb",
        "outputId": "ba5c3ac7-112e-475f-e73b-68bf516f7cd5",
        "colab": {
          "base_uri": "https://localhost:8080/",
          "height": 280
        }
      },
      "execution_count": 33,
      "outputs": [
        {
          "output_type": "display_data",
          "data": {
            "text/plain": [
              "<Figure size 720x288 with 1 Axes>"
            ],
            "image/png": "[encoded data removed]"
          },
          "metadata": {}
        }
      ]
    },
    {
      "cell_type": "code",
      "source": [
        "df[df['CONDUCT_mS/cm'] > 2600]['CONDUCT_mS/cm'].count()"
      ],
      "metadata": {
        "id": "P3BD-yq_pJbJ",
        "outputId": "13af7a14-cc16-4c0a-a22b-5e74784133ae",
        "colab": {
          "base_uri": "https://localhost:8080/"
        }
      },
      "execution_count": 34,
      "outputs": [
        {
          "output_type": "execute_result",
          "data": {
            "text/plain": [
              "76"
            ]
          },
          "metadata": {},
          "execution_count": 34
        }
      ]
    },
    {
      "cell_type": "code",
      "source": [
        "\n",
        "df.loc[df['CONDUCT_mS/cm'] > 2600, 'CONDUCT_mS/cm']=2600"
      ],
      "metadata": {
        "id": "Wm6i1B5x_Z6-"
      },
      "execution_count": 35,
      "outputs": []
    },
    {
      "cell_type": "code",
      "source": [
        "fig, axs = plt.subplots(figsize=(10, 4))\n",
        "sns.boxplot(data=df[['CONDUCT_mS/cm']], orient='h', ax=axs)\n",
        "plt.title('Box plot de variables numericas')\n",
        "plt.grid()\n",
        "plt.show()"
      ],
      "metadata": {
        "colab": {
          "base_uri": "https://localhost:8080/",
          "height": 280
        },
        "id": "ckV-HEHq8kot",
        "outputId": "adcde125-a6a7-4ab6-d0b3-4e5b6c2b997e"
      },
      "execution_count": 36,
      "outputs": [
        {
          "output_type": "display_data",
          "data": {
            "text/plain": [
              "<Figure size 720x288 with 1 Axes>"
            ],
            "image/png": "[encoded data removed]"
          },
          "metadata": {}
        }
      ]
    },
    {
      "cell_type": "markdown",
      "source": [
        "#####**Variable [SDT_M_mg/L]**\n",
        "\n",
        "-*Sustituir categoría en variable por valor convencional*\n",
        "<br>\n",
        "-*Imputación de valores faltantes*\n",
        "<br>\n",
        "-*Reducción de magnitud de Outliers*"
      ],
      "metadata": {
        "id": "ZoswNRKZ5Dko"
      }
    },
    {
      "cell_type": "code",
      "source": [
        "df['SDT_M_mg/L'].sort_values(ascending=False).head()"
      ],
      "metadata": {
        "colab": {
          "base_uri": "https://localhost:8080/"
        },
        "id": "8tmmUsn32tyd",
        "outputId": "b14f313e-46d9-42b5-9cc2-88fca40044be"
      },
      "execution_count": 37,
      "outputs": [
        {
          "output_type": "execute_result",
          "data": {
            "text/plain": [
              "407         <25\n",
              "14        999.8\n",
              "486    997.3333\n",
              "362         988\n",
              "31          988\n",
              "Name: SDT_M_mg/L, dtype: object"
            ]
          },
          "metadata": {},
          "execution_count": 37
        }
      ]
    },
    {
      "cell_type": "code",
      "source": [
        "#Sustitución de string categíco por valor\n",
        "\n",
        "df.loc[df['SDT_M_mg/L'] == '<25' , 'SDT_M_mg/L']='24.9'\n"
      ],
      "metadata": {
        "id": "pdWYuIqashnD"
      },
      "execution_count": 38,
      "outputs": []
    },
    {
      "cell_type": "code",
      "source": [
        "# cambio de string a numerico\n",
        "df['SDT_M_mg/L'] = pd.to_numeric(df['SDT_M_mg/L'])"
      ],
      "metadata": {
        "id": "VliwfhDlpr1G"
      },
      "execution_count": 39,
      "outputs": []
    },
    {
      "cell_type": "code",
      "source": [
        "#Numero de valores nulos\n",
        "df['SDT_M_mg/L'].isnull().sum()"
      ],
      "metadata": {
        "colab": {
          "base_uri": "https://localhost:8080/"
        },
        "id": "IwYlRiFUvQHv",
        "outputId": "750eb496-303d-4247-8a12-752c74e311e7"
      },
      "execution_count": 40,
      "outputs": [
        {
          "output_type": "execute_result",
          "data": {
            "text/plain": [
              "2"
            ]
          },
          "metadata": {},
          "execution_count": 40
        }
      ]
    },
    {
      "cell_type": "code",
      "source": [
        "# Imputamos la variable con la mediana\n",
        "df['SDT_M_mg/L'].fillna(df['SDT_M_mg/L'].median(), inplace=True)\n"
      ],
      "metadata": {
        "id": "A3cDCtnMp1zd"
      },
      "execution_count": 41,
      "outputs": []
    },
    {
      "cell_type": "code",
      "source": [
        "df['SDT_M_mg/L'].isnull().sum()"
      ],
      "metadata": {
        "id": "wbhHKxQ3sjt0",
        "outputId": "66392f6f-e531-499a-9dd9-63424e40c73c",
        "colab": {
          "base_uri": "https://localhost:8080/"
        }
      },
      "execution_count": 42,
      "outputs": [
        {
          "output_type": "execute_result",
          "data": {
            "text/plain": [
              "0"
            ]
          },
          "metadata": {},
          "execution_count": 42
        }
      ]
    },
    {
      "cell_type": "code",
      "source": [
        "df['SDT_M_mg/L'].describe()"
      ],
      "metadata": {
        "colab": {
          "base_uri": "https://localhost:8080/"
        },
        "id": "OCr6aPYaxaZ1",
        "outputId": "713932b5-6eb8-41bd-9234-c03861ed4c1b"
      },
      "execution_count": 43,
      "outputs": [
        {
          "output_type": "execute_result",
          "data": {
            "text/plain": [
              "count     1068.000000\n",
              "mean       895.454092\n",
              "std       2748.991324\n",
              "min         24.900000\n",
              "25%        337.700000\n",
              "50%        550.400000\n",
              "75%        915.900000\n",
              "max      82170.000000\n",
              "Name: SDT_M_mg/L, dtype: float64"
            ]
          },
          "metadata": {},
          "execution_count": 43
        }
      ]
    },
    {
      "cell_type": "code",
      "source": [
        "fig, axs = plt.subplots(figsize=(10, 4))\n",
        "sns.boxplot(data=df[['SDT_M_mg/L']], orient='h', ax=axs)\n",
        "plt.title('Box plot de variables numericas')\n",
        "plt.grid()\n",
        "plt.show()"
      ],
      "metadata": {
        "id": "kKbPSkYcs-XX",
        "outputId": "dabab82e-56a5-451c-a7bb-a91d78b92066",
        "colab": {
          "base_uri": "https://localhost:8080/",
          "height": 280
        }
      },
      "execution_count": 44,
      "outputs": [
        {
          "output_type": "display_data",
          "data": {
            "text/plain": [
              "<Figure size 720x288 with 1 Axes>"
            ],
            "image/png": "[encoded data removed]"
          },
          "metadata": {}
        }
      ]
    },
    {
      "cell_type": "code",
      "source": [
        "df[df['SDT_M_mg/L'] > 1900]['SDT_M_mg/L'].count()"
      ],
      "metadata": {
        "id": "dawsOFKwtIL9",
        "outputId": "c4f8c9bb-7229-4b63-c0f8-793c84c9c163",
        "colab": {
          "base_uri": "https://localhost:8080/"
        }
      },
      "execution_count": 49,
      "outputs": [
        {
          "output_type": "execute_result",
          "data": {
            "text/plain": [
              "80"
            ]
          },
          "metadata": {},
          "execution_count": 49
        }
      ]
    },
    {
      "cell_type": "code",
      "source": [
        "df.loc[df['SDT_M_mg/L'] > 1900, 'SDT_M_mg/L']=1900"
      ],
      "metadata": {
        "id": "ftwj5_qM4NDM"
      },
      "execution_count": 50,
      "outputs": []
    },
    {
      "cell_type": "code",
      "source": [
        "fig, axs = plt.subplots(figsize=(10, 4))\n",
        "sns.boxplot(data=df[['SDT_M_mg/L']], orient='h', ax=axs)\n",
        "plt.title('Box plot de variables numericas')\n",
        "plt.grid()\n",
        "plt.show()"
      ],
      "metadata": {
        "colab": {
          "base_uri": "https://localhost:8080/",
          "height": 280
        },
        "id": "8lJfCuWexqRq",
        "outputId": "d42c3cb8-bf07-47aa-a9d8-154ef5fef9df"
      },
      "execution_count": 51,
      "outputs": [
        {
          "output_type": "display_data",
          "data": {
            "text/plain": [
              "<Figure size 720x288 with 1 Axes>"
            ],
            "image/png": "[encoded data removed]"
          },
          "metadata": {}
        }
      ]
    },
    {
      "cell_type": "markdown",
      "source": [
        "#####**Variable [FLUORUROS_mg/L]**\n",
        "\n",
        "-*Sustituir categoría en variable por valor convencional*\n",
        "<br>\n",
        "-*Imputación de valores faltantes*\n",
        "<br>\n",
        "-*Reducción de magnitud de Outliers*"
      ],
      "metadata": {
        "id": "uSm--Pb15BnS"
      }
    },
    {
      "cell_type": "code",
      "source": [
        "df['FLUORUROS_mg/L'].sort_values(ascending=False).head()"
      ],
      "metadata": {
        "id": "osN2a_IByiwu",
        "outputId": "25873595-68a5-4d54-f30d-ad2fef5c44f0",
        "colab": {
          "base_uri": "https://localhost:8080/"
        }
      },
      "execution_count": 52,
      "outputs": [
        {
          "output_type": "execute_result",
          "data": {
            "text/plain": [
              "912    <0.2\n",
              "954    <0.2\n",
              "325    <0.2\n",
              "327    <0.2\n",
              "328    <0.2\n",
              "Name: FLUORUROS_mg/L, dtype: object"
            ]
          },
          "metadata": {},
          "execution_count": 52
        }
      ]
    },
    {
      "cell_type": "code",
      "source": [
        "# cambio de string a numerico\n",
        "df.loc[df['FLUORUROS_mg/L'] == '<0.2' , 'FLUORUROS_mg/L']='0.199'"
      ],
      "metadata": {
        "id": "be2_175r5nT9"
      },
      "execution_count": 53,
      "outputs": []
    },
    {
      "cell_type": "code",
      "source": [
        "# Conversión a numéricos\n",
        "df['FLUORUROS_mg/L'] = pd.to_numeric(df['FLUORUROS_mg/L'])"
      ],
      "metadata": {
        "id": "CFV6ftNf5ABX"
      },
      "execution_count": 54,
      "outputs": []
    },
    {
      "cell_type": "code",
      "source": [
        "df['FLUORUROS_mg/L'].isnull().sum()"
      ],
      "metadata": {
        "id": "7bkLyugxyjey",
        "outputId": "23003eec-5d48-48bf-d555-2ba07ba46001",
        "colab": {
          "base_uri": "https://localhost:8080/"
        }
      },
      "execution_count": 55,
      "outputs": [
        {
          "output_type": "execute_result",
          "data": {
            "text/plain": [
              "0"
            ]
          },
          "metadata": {},
          "execution_count": 55
        }
      ]
    },
    {
      "cell_type": "code",
      "source": [
        "df['FLUORUROS_mg/L'].describe()"
      ],
      "metadata": {
        "colab": {
          "base_uri": "https://localhost:8080/"
        },
        "id": "bFlTq0-Q5eSF",
        "outputId": "a941ab99-f0b9-431b-f998-77145e9439b0"
      },
      "execution_count": 56,
      "outputs": [
        {
          "output_type": "execute_result",
          "data": {
            "text/plain": [
              "count    1068.000000\n",
              "mean        1.075448\n",
              "std         1.924348\n",
              "min         0.199000\n",
              "25%         0.267175\n",
              "50%         0.503500\n",
              "75%         1.139850\n",
              "max        34.803300\n",
              "Name: FLUORUROS_mg/L, dtype: float64"
            ]
          },
          "metadata": {},
          "execution_count": 56
        }
      ]
    },
    {
      "cell_type": "code",
      "source": [
        "fig, axs = plt.subplots(figsize=(10, 4))\n",
        "sns.boxplot(data=df[['FLUORUROS_mg/L']], orient='h', ax=axs)\n",
        "plt.title('Box plot de variables numericas')\n",
        "plt.grid()\n",
        "plt.show()"
      ],
      "metadata": {
        "id": "7ufOjToz0Rrq",
        "outputId": "36e0e085-15f9-492d-cb08-058ce9e0e272",
        "colab": {
          "base_uri": "https://localhost:8080/",
          "height": 280
        }
      },
      "execution_count": 57,
      "outputs": [
        {
          "output_type": "display_data",
          "data": {
            "text/plain": [
              "<Figure size 720x288 with 1 Axes>"
            ],
            "image/png": "[encoded data removed]"
          },
          "metadata": {}
        }
      ]
    },
    {
      "cell_type": "code",
      "source": [
        "df[df['FLUORUROS_mg/L'] > 3]['FLUORUROS_mg/L'].count()"
      ],
      "metadata": {
        "id": "CrTIBStr0XrY",
        "outputId": "3eeadf56-d3b6-4a2c-a051-28bfa7004f17",
        "colab": {
          "base_uri": "https://localhost:8080/"
        }
      },
      "execution_count": 58,
      "outputs": [
        {
          "output_type": "execute_result",
          "data": {
            "text/plain": [
              "74"
            ]
          },
          "metadata": {},
          "execution_count": 58
        }
      ]
    },
    {
      "cell_type": "code",
      "source": [
        "df.loc[df['FLUORUROS_mg/L'] > 3, 'FLUORUROS_mg/L']=3"
      ],
      "metadata": {
        "id": "3_5ajTzL6kmj"
      },
      "execution_count": 59,
      "outputs": []
    },
    {
      "cell_type": "code",
      "source": [
        "fig, axs = plt.subplots(figsize=(10, 4))\n",
        "sns.boxplot(data=df[['FLUORUROS_mg/L']], orient='h', ax=axs)\n",
        "plt.title('Box plot de variables numericas')\n",
        "plt.grid()\n",
        "plt.show()"
      ],
      "metadata": {
        "colab": {
          "base_uri": "https://localhost:8080/",
          "height": 280
        },
        "id": "1mGlwRL92ZcF",
        "outputId": "3d90fe0e-7e60-4de2-d772-75c81f3c84dc"
      },
      "execution_count": 60,
      "outputs": [
        {
          "output_type": "display_data",
          "data": {
            "text/plain": [
              "<Figure size 720x288 with 1 Axes>"
            ],
            "image/png": "[encoded data removed]"
          },
          "metadata": {}
        }
      ]
    },
    {
      "cell_type": "markdown",
      "source": [
        "#####**Variable [DUR_mg/L]**\n",
        "\n",
        "-*Sustituir categoría en variable por valor convencional*\n",
        "<br>\n",
        "-*Imputación de valores faltantes*\n",
        "<br>\n",
        "-*Reducción de magnitud de Outliers*"
      ],
      "metadata": {
        "id": "N2Cb0WoKA-Fl"
      }
    },
    {
      "cell_type": "code",
      "source": [
        "df['DUR_mg/L'].sort_values(ascending=False).head()"
      ],
      "metadata": {
        "id": "rZLCVH2RJe2z",
        "outputId": "927cf193-1d67-409e-f4f2-0ee2200ea3a6",
        "colab": {
          "base_uri": "https://localhost:8080/"
        }
      },
      "execution_count": 61,
      "outputs": [
        {
          "output_type": "execute_result",
          "data": {
            "text/plain": [
              "830    <20\n",
              "210    <20\n",
              "779    <20\n",
              "116    <20\n",
              "784    <20\n",
              "Name: DUR_mg/L, dtype: object"
            ]
          },
          "metadata": {},
          "execution_count": 61
        }
      ]
    },
    {
      "cell_type": "code",
      "source": [
        "df.loc[df['DUR_mg/L'] == '<20' , 'DUR_mg/L']='19.9'"
      ],
      "metadata": {
        "id": "t4glrEDnETMk"
      },
      "execution_count": 62,
      "outputs": []
    },
    {
      "cell_type": "code",
      "source": [
        "# convertimos a numerico\n",
        "df['DUR_mg/L'] = pd.to_numeric(df['DUR_mg/L'])"
      ],
      "metadata": {
        "id": "HwYAt26kEAFo"
      },
      "execution_count": 63,
      "outputs": []
    },
    {
      "cell_type": "code",
      "source": [
        "df['DUR_mg/L'].isnull().sum()"
      ],
      "metadata": {
        "colab": {
          "base_uri": "https://localhost:8080/"
        },
        "id": "o-MeZz-dEvvk",
        "outputId": "72701553-f068-4f87-e9cd-4e0990003c0c"
      },
      "execution_count": 64,
      "outputs": [
        {
          "output_type": "execute_result",
          "data": {
            "text/plain": [
              "1"
            ]
          },
          "metadata": {},
          "execution_count": 64
        }
      ]
    },
    {
      "cell_type": "code",
      "source": [
        "# Imputamos la variable con la media\n",
        "df['DUR_mg/L'].fillna(df['DUR_mg/L'].median(), inplace=True)"
      ],
      "metadata": {
        "id": "tVgxFC2JE4J9"
      },
      "execution_count": 65,
      "outputs": []
    },
    {
      "cell_type": "code",
      "source": [
        "df['DUR_mg/L'].isnull().sum()"
      ],
      "metadata": {
        "id": "h3WAbhr6KshI",
        "outputId": "a9003463-61aa-4638-f698-6e590d812a26",
        "colab": {
          "base_uri": "https://localhost:8080/"
        }
      },
      "execution_count": 66,
      "outputs": [
        {
          "output_type": "execute_result",
          "data": {
            "text/plain": [
              "0"
            ]
          },
          "metadata": {},
          "execution_count": 66
        }
      ]
    },
    {
      "cell_type": "code",
      "source": [
        "df['DUR_mg/L'].describe()"
      ],
      "metadata": {
        "colab": {
          "base_uri": "https://localhost:8080/"
        },
        "id": "Omb6VjUFEHkk",
        "outputId": "1ad6cd85-3086-4f0e-aace-ae4d2a1fa435"
      },
      "execution_count": 67,
      "outputs": [
        {
          "output_type": "execute_result",
          "data": {
            "text/plain": [
              "count    1068.000000\n",
              "mean      347.839569\n",
              "std       359.516802\n",
              "min        19.900000\n",
              "25%       121.274100\n",
              "50%       245.335800\n",
              "75%       453.930000\n",
              "max      3810.692200\n",
              "Name: DUR_mg/L, dtype: float64"
            ]
          },
          "metadata": {},
          "execution_count": 67
        }
      ]
    },
    {
      "cell_type": "code",
      "source": [
        "fig, axs = plt.subplots(figsize=(10, 4))\n",
        "sns.boxplot(data=df[['DUR_mg/L']], orient='h', ax=axs)\n",
        "plt.title('Box plot de variables numericas')\n",
        "plt.grid()\n",
        "plt.show()"
      ],
      "metadata": {
        "id": "-PT9vivmKxnk",
        "outputId": "25b3ce45-a1f2-4060-9d75-888a115d5504",
        "colab": {
          "base_uri": "https://localhost:8080/",
          "height": 280
        }
      },
      "execution_count": 68,
      "outputs": [
        {
          "output_type": "display_data",
          "data": {
            "text/plain": [
              "<Figure size 720x288 with 1 Axes>"
            ],
            "image/png": "[encoded data removed]"
          },
          "metadata": {}
        }
      ]
    },
    {
      "cell_type": "code",
      "source": [
        "df[df['DUR_mg/L'] > 1000]['DUR_mg/L'].count()"
      ],
      "metadata": {
        "id": "P7QzygbaLG1M",
        "outputId": "d8b1f64f-7430-45f6-9450-b1f216ee6558",
        "colab": {
          "base_uri": "https://localhost:8080/"
        }
      },
      "execution_count": 69,
      "outputs": [
        {
          "output_type": "execute_result",
          "data": {
            "text/plain": [
              "53"
            ]
          },
          "metadata": {},
          "execution_count": 69
        }
      ]
    },
    {
      "cell_type": "code",
      "source": [
        "# reducimos los outliers\n",
        "\n",
        "df.loc[df['DUR_mg/L'] >1000 , 'DUR_mg/L'] = 1000"
      ],
      "metadata": {
        "id": "8KAhlVnMMI9M"
      },
      "execution_count": 70,
      "outputs": []
    },
    {
      "cell_type": "code",
      "source": [
        "fig, axs = plt.subplots(figsize=(10, 4))\n",
        "sns.boxplot(data=df[['DUR_mg/L']], orient='h', ax=axs)\n",
        "plt.title('Box plot de variables numericas')\n",
        "plt.grid()\n",
        "plt.show()"
      ],
      "metadata": {
        "colab": {
          "base_uri": "https://localhost:8080/",
          "height": 280
        },
        "id": "T2ZVZzvTE_jB",
        "outputId": "a03bcdff-4d8d-450c-9ee5-9cbc668209a8"
      },
      "execution_count": 71,
      "outputs": [
        {
          "output_type": "display_data",
          "data": {
            "text/plain": [
              "<Figure size 720x288 with 1 Axes>"
            ],
            "image/png": "[encoded data removed]"
          },
          "metadata": {}
        }
      ]
    },
    {
      "cell_type": "markdown",
      "source": [
        "#####**Variable [N_NO3_mg/L]**\n",
        "\n",
        "-*Sustituir categoría en variable por valor convencional*\n",
        "<br>\n",
        "-*Imputación de valores faltantes*\n",
        "<br>\n",
        "-*Reducción de magnitud de Outliers*"
      ],
      "metadata": {
        "id": "9Z6POyJwBQbl"
      }
    },
    {
      "cell_type": "code",
      "source": [
        "df['N_NO3_mg/L'].sort_values(ascending=False).head()"
      ],
      "metadata": {
        "colab": {
          "base_uri": "https://localhost:8080/"
        },
        "id": "ixosjHAmz9qB",
        "outputId": "690f372a-d202-42ad-827d-508ee4583a35"
      },
      "execution_count": 73,
      "outputs": [
        {
          "output_type": "execute_result",
          "data": {
            "text/plain": [
              "712       9.9538\n",
              "653     9.857388\n",
              "199     9.857004\n",
              "1045      9.7972\n",
              "525        9.657\n",
              "Name: N_NO3_mg/L, dtype: object"
            ]
          },
          "metadata": {},
          "execution_count": 73
        }
      ]
    },
    {
      "cell_type": "code",
      "source": [
        "df.loc[df['N_NO3_mg/L'] == '<0.02' , 'N_NO3_mg/L']='0.01'"
      ],
      "metadata": {
        "id": "IxcxBJS1Fr_S"
      },
      "execution_count": 74,
      "outputs": []
    },
    {
      "cell_type": "code",
      "source": [
        "# convertimos a numerico\n",
        "df['N_NO3_mg/L'] = pd.to_numeric(df['N_NO3_mg/L'])"
      ],
      "metadata": {
        "id": "g2NZa-PKFcVr"
      },
      "execution_count": 75,
      "outputs": []
    },
    {
      "cell_type": "code",
      "source": [
        "df['N_NO3_mg/L'].isnull().sum()"
      ],
      "metadata": {
        "colab": {
          "base_uri": "https://localhost:8080/"
        },
        "id": "ooXHdH_wFcSS",
        "outputId": "cea5376e-3aaa-4649-dfa9-a965bfbbdc75"
      },
      "execution_count": null,
      "outputs": [
        {
          "output_type": "execute_result",
          "data": {
            "text/plain": [
              "1"
            ]
          },
          "metadata": {},
          "execution_count": 68
        }
      ]
    },
    {
      "cell_type": "code",
      "source": [
        "# Imputamos la variable bore con la media\n",
        "df['N_NO3_mg/L'].fillna(df['N_NO3_mg/L'].median(), inplace=True)"
      ],
      "metadata": {
        "id": "dQg_tgEAFcO7"
      },
      "execution_count": null,
      "outputs": []
    },
    {
      "cell_type": "code",
      "source": [
        "# reducimos los outliers\n",
        "\n",
        "df.loc[df['N_NO3_mg/L'] >40 , 'N_NO3_mg/L']=40"
      ],
      "metadata": {
        "id": "4PSsoIG8F-_m"
      },
      "execution_count": null,
      "outputs": []
    },
    {
      "cell_type": "code",
      "source": [
        "df['N_NO3_mg/L'].describe()"
      ],
      "metadata": {
        "colab": {
          "base_uri": "https://localhost:8080/"
        },
        "id": "ilE1hb1dGUAR",
        "outputId": "da1846c8-893a-4e33-bf56-e567213fc688"
      },
      "execution_count": null,
      "outputs": [
        {
          "output_type": "execute_result",
          "data": {
            "text/plain": [
              "count    1068.000000\n",
              "mean        4.034336\n",
              "std         5.968090\n",
              "min         0.010000\n",
              "25%         0.650932\n",
              "50%         2.080932\n",
              "75%         5.200047\n",
              "max        40.000000\n",
              "Name: N_NO3_mg/L, dtype: float64"
            ]
          },
          "metadata": {},
          "execution_count": 71
        }
      ]
    },
    {
      "cell_type": "code",
      "source": [
        "fig, axs = plt.subplots(figsize=(10, 4))\n",
        "sns.boxplot(data=df[['N_NO3_mg/L']], orient='h', ax=axs)\n",
        "plt.title('Box plot de variables numericas')\n",
        "plt.grid()\n",
        "plt.show()"
      ],
      "metadata": {
        "colab": {
          "base_uri": "https://localhost:8080/"
        },
        "id": "W_unzPAEF-8j",
        "outputId": "1bd8baaf-8bee-4762-cf02-1b31bd3440fd"
      },
      "execution_count": null,
      "outputs": [
        {
          "output_type": "display_data",
          "data": {
            "text/plain": [
              "<Figure size 720x288 with 1 Axes>"
            ],
            "image/png": "[encoded data removed]"
          },
          "metadata": {}
        }
      ]
    },
    {
      "cell_type": "markdown",
      "source": [
        "# Variable Numerica 7\n",
        "\n",
        "COLI_FEC_NMP/100_mL"
      ],
      "metadata": {
        "id": "2vq7oEt4BOv5"
      }
    },
    {
      "cell_type": "code",
      "source": [
        "df.loc[df['COLI_FEC_NMP/100_mL'] == '<1.1' , 'COLI_FEC_NMP/100_mL']='1'"
      ],
      "metadata": {
        "id": "Vtr9vP_rG97X"
      },
      "execution_count": null,
      "outputs": []
    },
    {
      "cell_type": "code",
      "source": [
        "# convertimos a numerico\n",
        "df['COLI_FEC_NMP/100_mL'] = pd.to_numeric(df['COLI_FEC_NMP/100_mL'])"
      ],
      "metadata": {
        "id": "DSABwM1eGxW8"
      },
      "execution_count": null,
      "outputs": []
    },
    {
      "cell_type": "code",
      "source": [
        "df['COLI_FEC_NMP/100_mL'].isnull().sum()"
      ],
      "metadata": {
        "colab": {
          "base_uri": "https://localhost:8080/"
        },
        "id": "PcVVqsQdGxO8",
        "outputId": "34b495de-e932-459c-c7ec-4f3b802f88af"
      },
      "execution_count": null,
      "outputs": [
        {
          "output_type": "execute_result",
          "data": {
            "text/plain": [
              "0"
            ]
          },
          "metadata": {},
          "execution_count": 306
        }
      ]
    },
    {
      "cell_type": "code",
      "source": [
        "# reducimos los outliers\n",
        "\n",
        "df.loc[df['COLI_FEC_NMP/100_mL'] >100 , 'COLI_FEC_NMP/100_mL']=100"
      ],
      "metadata": {
        "id": "HoM526HwGw7S"
      },
      "execution_count": null,
      "outputs": []
    },
    {
      "cell_type": "code",
      "source": [
        "df['COLI_FEC_NMP/100_mL'].describe()"
      ],
      "metadata": {
        "colab": {
          "base_uri": "https://localhost:8080/"
        },
        "id": "AiC0Ps32GxIW",
        "outputId": "d921c4fd-379e-4cee-aa8d-e80620410b94"
      },
      "execution_count": null,
      "outputs": [
        {
          "output_type": "execute_result",
          "data": {
            "text/plain": [
              "count    1068.000000\n",
              "mean       20.217228\n",
              "std        35.848552\n",
              "min         1.000000\n",
              "25%         1.000000\n",
              "50%         1.000000\n",
              "75%        13.250000\n",
              "max       100.000000\n",
              "Name: COLI_FEC_NMP/100_mL, dtype: float64"
            ]
          },
          "metadata": {},
          "execution_count": 317
        }
      ]
    },
    {
      "cell_type": "code",
      "source": [
        "fig, axs = plt.subplots(figsize=(10, 4))\n",
        "sns.boxplot(data=df[['COLI_FEC_NMP/100_mL']], orient='h', ax=axs)\n",
        "plt.title('Box plot de variables numericas')\n",
        "plt.grid()\n",
        "plt.show()"
      ],
      "metadata": {
        "colab": {
          "base_uri": "https://localhost:8080/",
          "height": 281
        },
        "id": "XOrpU3f6GxCG",
        "outputId": "a9f0923e-57ce-424e-d9d5-5e4ebb305b55"
      },
      "execution_count": null,
      "outputs": [
        {
          "output_type": "display_data",
          "data": {
            "text/plain": [
              "<Figure size 720x288 with 1 Axes>"
            ],
            "image/png": "[encoded data removed]"
          },
          "metadata": {
            "needs_background": "light"
          }
        }
      ]
    },
    {
      "cell_type": "markdown",
      "source": [
        "# Variable Numerica 8\n",
        "\n",
        "AS_TOT_mg/L"
      ],
      "metadata": {
        "id": "ajCFTKegBQUl"
      }
    },
    {
      "cell_type": "code",
      "source": [
        "df.loc[df['AS_TOT_mg/L'] == '<0.01' , 'AS_TOT_mg/L']='0.00'"
      ],
      "metadata": {
        "id": "RFGxElbkH7TV"
      },
      "execution_count": null,
      "outputs": []
    },
    {
      "cell_type": "code",
      "source": [
        "# convertimos a numerico\n",
        "df['AS_TOT_mg/L'] = pd.to_numeric(df['AS_TOT_mg/L'])"
      ],
      "metadata": {
        "id": "fGv5pIlSH7Nk"
      },
      "execution_count": null,
      "outputs": []
    },
    {
      "cell_type": "code",
      "source": [
        "df['AS_TOT_mg/L'].isnull().sum()"
      ],
      "metadata": {
        "colab": {
          "base_uri": "https://localhost:8080/"
        },
        "id": "SR7DAoMsH7Jk",
        "outputId": "e1c5e82b-dd77-47b2-ed4c-591633a11df3"
      },
      "execution_count": null,
      "outputs": [
        {
          "output_type": "execute_result",
          "data": {
            "text/plain": [
              "0"
            ]
          },
          "metadata": {},
          "execution_count": 322
        }
      ]
    },
    {
      "cell_type": "code",
      "source": [
        "# reducimos los outliers\n",
        "\n",
        "df.loc[df['AS_TOT_mg/L'] >.04 , 'AS_TOT_mg/L']=.04"
      ],
      "metadata": {
        "id": "1F3XlI27Ifzw"
      },
      "execution_count": null,
      "outputs": []
    },
    {
      "cell_type": "code",
      "source": [
        "df['AS_TOT_mg/L'].describe()"
      ],
      "metadata": {
        "colab": {
          "base_uri": "https://localhost:8080/"
        },
        "id": "PInOVOp8H7Fl",
        "outputId": "92ec21f6-893b-4667-ea44-e9e16b282397"
      },
      "execution_count": null,
      "outputs": [
        {
          "output_type": "execute_result",
          "data": {
            "text/plain": [
              "count    1068.000000\n",
              "mean        0.006414\n",
              "std         0.012807\n",
              "min         0.000000\n",
              "25%         0.000000\n",
              "50%         0.000000\n",
              "75%         0.000000\n",
              "max         0.040000\n",
              "Name: AS_TOT_mg/L, dtype: float64"
            ]
          },
          "metadata": {},
          "execution_count": 330
        }
      ]
    },
    {
      "cell_type": "code",
      "source": [
        "fig, axs = plt.subplots(figsize=(10, 4))\n",
        "sns.boxplot(data=df[['AS_TOT_mg/L']], orient='h', ax=axs)\n",
        "plt.title('Box plot de variables numericas')\n",
        "plt.grid()\n",
        "plt.show()"
      ],
      "metadata": {
        "colab": {
          "base_uri": "https://localhost:8080/",
          "height": 281
        },
        "id": "WBupXjswIYQY",
        "outputId": "92f8b9ed-531a-4611-bc2e-f65d119134bd"
      },
      "execution_count": null,
      "outputs": [
        {
          "output_type": "display_data",
          "data": {
            "text/plain": [
              "<Figure size 720x288 with 1 Axes>"
            ],
            "image/png": "[encoded data removed]"
          },
          "metadata": {
            "needs_background": "light"
          }
        }
      ]
    },
    {
      "cell_type": "markdown",
      "source": [
        "# Variable Numerica 9\n",
        "\n",
        "CD_TOT_mg/L"
      ],
      "metadata": {
        "id": "5VJwsFoNBQN-"
      }
    },
    {
      "cell_type": "code",
      "source": [
        "df.loc[df['CD_TOT_mg/L'] == '<0.003' , 'CD_TOT_mg/L']='0.002'"
      ],
      "metadata": {
        "id": "zQ3NnTilI7df"
      },
      "execution_count": null,
      "outputs": []
    },
    {
      "cell_type": "code",
      "source": [
        "# convertimos a numerico\n",
        "df['CD_TOT_mg/L'] = pd.to_numeric(df['CD_TOT_mg/L'])"
      ],
      "metadata": {
        "id": "8Hv_WtNzI7X7"
      },
      "execution_count": null,
      "outputs": []
    },
    {
      "cell_type": "code",
      "source": [
        "df['CD_TOT_mg/L'].isnull().sum()"
      ],
      "metadata": {
        "colab": {
          "base_uri": "https://localhost:8080/"
        },
        "id": "gr_zbT_jI7Ro",
        "outputId": "5047f2bc-db6c-4e3a-ae3a-e0f0466cd354"
      },
      "execution_count": null,
      "outputs": [
        {
          "output_type": "execute_result",
          "data": {
            "text/plain": [
              "0"
            ]
          },
          "metadata": {},
          "execution_count": 336
        }
      ]
    },
    {
      "cell_type": "code",
      "source": [
        "df['CD_TOT_mg/L'].describe()"
      ],
      "metadata": {
        "colab": {
          "base_uri": "https://localhost:8080/"
        },
        "id": "Nrhw1UXmJLEu",
        "outputId": "310e200a-1592-4117-c03b-69cae72eee4c"
      },
      "execution_count": null,
      "outputs": [
        {
          "output_type": "execute_result",
          "data": {
            "text/plain": [
              "count    1068.000000\n",
              "mean        0.002032\n",
              "std         0.000928\n",
              "min         0.002000\n",
              "25%         0.002000\n",
              "50%         0.002000\n",
              "75%         0.002000\n",
              "max         0.032110\n",
              "Name: CD_TOT_mg/L, dtype: float64"
            ]
          },
          "metadata": {},
          "execution_count": 337
        }
      ]
    },
    {
      "cell_type": "code",
      "source": [
        "fig, axs = plt.subplots(figsize=(10, 4))\n",
        "sns.boxplot(data=df[['CD_TOT_mg/L']], orient='h', ax=axs)\n",
        "plt.title('Box plot de variables numericas')\n",
        "plt.grid()\n",
        "plt.show()"
      ],
      "metadata": {
        "colab": {
          "base_uri": "https://localhost:8080/",
          "height": 281
        },
        "id": "bTzfEGqbJLBs",
        "outputId": "60e070ce-bb9a-4e9b-fc94-1f3de3fe1371"
      },
      "execution_count": null,
      "outputs": [
        {
          "output_type": "display_data",
          "data": {
            "text/plain": [
              "<Figure size 720x288 with 1 Axes>"
            ],
            "image/png": "[encoded data removed]"
          },
          "metadata": {
            "needs_background": "light"
          }
        }
      ]
    },
    {
      "cell_type": "markdown",
      "source": [
        "\n",
        "# Variable Numerica 10\n",
        "\n",
        "CR_TOT_mg/L"
      ],
      "metadata": {
        "id": "lMxmyvlRBP6T"
      }
    },
    {
      "cell_type": "code",
      "source": [
        "df.loc[df['CR_TOT_mg/L'] == '<0.005' , 'CR_TOT_mg/L']='0.005'"
      ],
      "metadata": {
        "id": "4P_oOORIJbvO"
      },
      "execution_count": null,
      "outputs": []
    },
    {
      "cell_type": "code",
      "source": [
        "# convertimos a numerico\n",
        "df['CR_TOT_mg/L'] = pd.to_numeric(df['CR_TOT_mg/L'])"
      ],
      "metadata": {
        "id": "Sd4ubE0eJbn5"
      },
      "execution_count": null,
      "outputs": []
    },
    {
      "cell_type": "code",
      "source": [
        "df['CR_TOT_mg/L'].isnull().sum()"
      ],
      "metadata": {
        "colab": {
          "base_uri": "https://localhost:8080/"
        },
        "id": "pnb_SKmOJbkW",
        "outputId": "093856f4-42d4-4018-9888-474ed5222f26"
      },
      "execution_count": null,
      "outputs": [
        {
          "output_type": "execute_result",
          "data": {
            "text/plain": [
              "0"
            ]
          },
          "metadata": {},
          "execution_count": 342
        }
      ]
    },
    {
      "cell_type": "code",
      "source": [
        "df['CR_TOT_mg/L'].describe()"
      ],
      "metadata": {
        "colab": {
          "base_uri": "https://localhost:8080/"
        },
        "id": "9aW6Q3nIJbhW",
        "outputId": "096d07bc-3a54-42c0-c3f8-32679d120054"
      },
      "execution_count": null,
      "outputs": [
        {
          "output_type": "execute_result",
          "data": {
            "text/plain": [
              "count    1068.000000\n",
              "mean        0.013276\n",
              "std         0.154391\n",
              "min         0.005000\n",
              "25%         0.005000\n",
              "50%         0.005000\n",
              "75%         0.005000\n",
              "max         5.003200\n",
              "Name: CR_TOT_mg/L, dtype: float64"
            ]
          },
          "metadata": {},
          "execution_count": 343
        }
      ]
    },
    {
      "cell_type": "code",
      "source": [
        "fig, axs = plt.subplots(figsize=(10, 4))\n",
        "sns.boxplot(data=df[['CR_TOT_mg/L']], orient='h', ax=axs)\n",
        "plt.title('Box plot de variables numericas')\n",
        "plt.grid()\n",
        "plt.show()"
      ],
      "metadata": {
        "colab": {
          "base_uri": "https://localhost:8080/",
          "height": 281
        },
        "id": "xeSASfINJvIT",
        "outputId": "cf5301fe-4a86-4952-b4cd-bc296c042d8a"
      },
      "execution_count": null,
      "outputs": [
        {
          "output_type": "display_data",
          "data": {
            "text/plain": [
              "<Figure size 720x288 with 1 Axes>"
            ],
            "image/png": "[encoded data removed]"
          },
          "metadata": {
            "needs_background": "light"
          }
        }
      ]
    },
    {
      "cell_type": "markdown",
      "source": [
        "\n",
        "# Variable Numerica 11\n",
        "\n",
        "HG_TOT_mg/L"
      ],
      "metadata": {
        "id": "AbnpW9JVBPeR"
      }
    },
    {
      "cell_type": "markdown",
      "source": [
        "# Variable Numerica 12\n",
        "\n",
        "PB_TOT_mg/L\n"
      ],
      "metadata": {
        "id": "Mw5Oj--mB3wH"
      }
    },
    {
      "cell_type": "markdown",
      "source": [
        "# Variable Numerica 13\n",
        "\n",
        "MN_TOT_mg/L"
      ],
      "metadata": {
        "id": "l04npFlqB4NI"
      }
    },
    {
      "cell_type": "markdown",
      "source": [
        "# Variable Numerica 14\n",
        "\n",
        "FE_TOT_mg/L"
      ],
      "metadata": {
        "id": "gqPMIXUvCXJY"
      }
    },
    {
      "cell_type": "code",
      "source": [],
      "metadata": {
        "id": "l0VEpPoX6Pcc"
      },
      "execution_count": null,
      "outputs": []
    },
    {
      "cell_type": "markdown",
      "source": [],
      "metadata": {
        "id": "-BaWI2EMAB_5"
      }
    },
    {
      "cell_type": "code",
      "source": [],
      "metadata": {
        "id": "kogGjzwXADOK"
      },
      "execution_count": null,
      "outputs": []
    },
    {
      "cell_type": "markdown",
      "source": [
        "####**Variables con coordenadas**\n",
        "\n",
        "Sin datos faltanes"
      ],
      "metadata": {
        "id": "YJusNlM22fCJ"
      }
    },
    {
      "cell_type": "code",
      "source": [
        "df[coordenadas].describe()"
      ],
      "metadata": {
        "id": "1U2pdW0nu-Pr",
        "outputId": "87583470-c60d-49a1-fd9d-b3e9c45e4516",
        "colab": {
          "base_uri": "https://localhost:8080/",
          "height": 300
        }
      },
      "execution_count": null,
      "outputs": [
        {
          "output_type": "execute_result",
          "data": {
            "text/plain": [
              "           LATITUD     LONGITUD\n",
              "count  1068.000000  1068.000000\n",
              "mean     23.163618  -101.891007\n",
              "std       3.887670     6.703263\n",
              "min      14.561150  -116.664250\n",
              "25%      20.212055  -105.388865\n",
              "50%      22.617190  -102.174180\n",
              "75%      25.510285   -98.974716\n",
              "max      32.677713   -86.864120"
            ],
            "text/html": [
              "\n",
              "  <div id=\"df-3aa31e48-51c8-4edd-af23-26d60a99c95d\">\n",
              "    <div class=\"colab-df-container\">\n",
              "      <div>\n",
              "<style scoped>\n",
              "    .dataframe tbody tr th:only-of-type {\n",
              "        vertical-align: middle;\n",
              "    }\n",
              "\n",
              "    .dataframe tbody tr th {\n",
              "        vertical-align: top;\n",
              "    }\n",
              "\n",
              "    .dataframe thead th {\n",
              "        text-align: right;\n",
              "    }\n",
              "</style>\n",
              "<table border=\"1\" class=\"dataframe\">\n",
              "  <thead>\n",
              "    <tr style=\"text-align: right;\">\n",
              "      <th></th>\n",
              "      <th>LATITUD</th>\n",
              "      <th>LONGITUD</th>\n",
              "    </tr>\n",
              "  </thead>\n",
              "  <tbody>\n",
              "    <tr>\n",
              "      <th>count</th>\n",
              "      <td>1068.000000</td>\n",
              "      <td>1068.000000</td>\n",
              "    </tr>\n",
              "    <tr>\n",
              "      <th>mean</th>\n",
              "      <td>23.163618</td>\n",
              "      <td>-101.891007</td>\n",
              "    </tr>\n",
              "    <tr>\n",
              "      <th>std</th>\n",
              "      <td>3.887670</td>\n",
              "      <td>6.703263</td>\n",
              "    </tr>\n",
              "    <tr>\n",
              "      <th>min</th>\n",
              "      <td>14.561150</td>\n",
              "      <td>-116.664250</td>\n",
              "    </tr>\n",
              "    <tr>\n",
              "      <th>25%</th>\n",
              "      <td>20.212055</td>\n",
              "      <td>-105.388865</td>\n",
              "    </tr>\n",
              "    <tr>\n",
              "      <th>50%</th>\n",
              "      <td>22.617190</td>\n",
              "      <td>-102.174180</td>\n",
              "    </tr>\n",
              "    <tr>\n",
              "      <th>75%</th>\n",
              "      <td>25.510285</td>\n",
              "      <td>-98.974716</td>\n",
              "    </tr>\n",
              "    <tr>\n",
              "      <th>max</th>\n",
              "      <td>32.677713</td>\n",
              "      <td>-86.864120</td>\n",
              "    </tr>\n",
              "  </tbody>\n",
              "</table>\n",
              "</div>\n",
              "      <button class=\"colab-df-convert\" onclick=\"convertToInteractive('df-3aa31e48-51c8-4edd-af23-26d60a99c95d')\"\n",
              "              title=\"Convert this dataframe to an interactive table.\"\n",
              "              style=\"display:none;\">\n",
              "        \n",
              "  <svg xmlns=\"http://www.w3.org/2000/svg\" height=\"24px\"viewBox=\"0 0 24 24\"\n",
              "       width=\"24px\">\n",
              "    <path d=\"M0 0h24v24H0V0z\" fill=\"none\"/>\n",
              "    <path d=\"M18.56 5.44l.94 2.06.94-2.06 2.06-.94-2.06-.94-.94-2.06-.94 2.06-2.06.94zm-11 1L8.5 8.5l.94-2.06 2.06-.94-2.06-.94L8.5 2.5l-.94 2.06-2.06.94zm10 10l.94 2.06.94-2.06 2.06-.94-2.06-.94-.94-2.06-.94 2.06-2.06.94z\"/><path d=\"M17.41 7.96l-1.37-1.37c-.4-.4-.92-.59-1.43-.59-.52 0-1.04.2-1.43.59L10.3 9.45l-7.72 7.72c-.78.78-.78 2.05 0 2.83L4 21.41c.39.39.9.59 1.41.59.51 0 1.02-.2 1.41-.59l7.78-7.78 2.81-2.81c.8-.78.8-2.07 0-2.86zM5.41 20L4 18.59l7.72-7.72 1.47 1.35L5.41 20z\"/>\n",
              "  </svg>\n",
              "      </button>\n",
              "      \n",
              "  <style>\n",
              "    .colab-df-container {\n",
              "      display:flex;\n",
              "      flex-wrap:wrap;\n",
              "      gap: 12px;\n",
              "    }\n",
              "\n",
              "    .colab-df-convert {\n",
              "      background-color: #E8F0FE;\n",
              "      border: none;\n",
              "      border-radius: 50%;\n",
              "      cursor: pointer;\n",
              "      display: none;\n",
              "      fill: #1967D2;\n",
              "      height: 32px;\n",
              "      padding: 0 0 0 0;\n",
              "      width: 32px;\n",
              "    }\n",
              "\n",
              "    .colab-df-convert:hover {\n",
              "      background-color: #E2EBFA;\n",
              "      box-shadow: 0px 1px 2px rgba(60, 64, 67, 0.3), 0px 1px 3px 1px rgba(60, 64, 67, 0.15);\n",
              "      fill: #174EA6;\n",
              "    }\n",
              "\n",
              "    [theme=dark] .colab-df-convert {\n",
              "      background-color: #3B4455;\n",
              "      fill: #D2E3FC;\n",
              "    }\n",
              "\n",
              "    [theme=dark] .colab-df-convert:hover {\n",
              "      background-color: #434B5C;\n",
              "      box-shadow: 0px 1px 3px 1px rgba(0, 0, 0, 0.15);\n",
              "      filter: drop-shadow(0px 1px 2px rgba(0, 0, 0, 0.3));\n",
              "      fill: #FFFFFF;\n",
              "    }\n",
              "  </style>\n",
              "\n",
              "      <script>\n",
              "        const buttonEl =\n",
              "          document.querySelector('#df-3aa31e48-51c8-4edd-af23-26d60a99c95d button.colab-df-convert');\n",
              "        buttonEl.style.display =\n",
              "          google.colab.kernel.accessAllowed ? 'block' : 'none';\n",
              "\n",
              "        async function convertToInteractive(key) {\n",
              "          const element = document.querySelector('#df-3aa31e48-51c8-4edd-af23-26d60a99c95d');\n",
              "          const dataTable =\n",
              "            await google.colab.kernel.invokeFunction('convertToInteractive',\n",
              "                                                     [key], {});\n",
              "          if (!dataTable) return;\n",
              "\n",
              "          const docLinkHtml = 'Like what you see? Visit the ' +\n",
              "            '<a target=\"_blank\" href=https://colab.research.google.com/notebooks/data_table.ipynb>data table notebook</a>'\n",
              "            + ' to learn more about interactive tables.';\n",
              "          element.innerHTML = '';\n",
              "          dataTable['output_type'] = 'display_data';\n",
              "          await google.colab.output.renderOutput(dataTable, element);\n",
              "          const docLink = document.createElement('div');\n",
              "          docLink.innerHTML = docLinkHtml;\n",
              "          element.appendChild(docLink);\n",
              "        }\n",
              "      </script>\n",
              "    </div>\n",
              "  </div>\n",
              "  "
            ]
          },
          "metadata": {},
          "execution_count": 210
        }
      ]
    },
    {
      "cell_type": "markdown",
      "source": [
        "####**Variables binarias**\n",
        "\n",
        "Sin datos faltanes"
      ],
      "metadata": {
        "id": "avRwd5thCmgp"
      }
    },
    {
      "cell_type": "code",
      "source": [],
      "metadata": {
        "id": "L5Lnh4-Zu-SH"
      },
      "execution_count": null,
      "outputs": []
    },
    {
      "cell_type": "markdown",
      "source": [
        "####**Variable de calidad (semáforo)**\n",
        "\n",
        "Sin datos faltanes"
      ],
      "metadata": {
        "id": "qMoaY64K3r2z"
      }
    },
    {
      "cell_type": "code",
      "source": [
        "df[calidad].value_counts()"
      ],
      "metadata": {
        "id": "D9e1ASavu-XV",
        "outputId": "f6d68101-9fc1-4459-8c4e-30be478ed3cc",
        "colab": {
          "base_uri": "https://localhost:8080/"
        }
      },
      "execution_count": null,
      "outputs": [
        {
          "output_type": "execute_result",
          "data": {
            "text/plain": [
              "SEMAFORO\n",
              "Verde       434\n",
              "Rojo        387\n",
              "Amarillo    247\n",
              "dtype: int64"
            ]
          },
          "metadata": {},
          "execution_count": 371
        }
      ]
    },
    {
      "cell_type": "code",
      "source": [],
      "metadata": {
        "id": "_r75pxswu-Za"
      },
      "execution_count": null,
      "outputs": []
    },
    {
      "cell_type": "code",
      "source": [],
      "metadata": {
        "id": "W1FNgX5gu-cS"
      },
      "execution_count": null,
      "outputs": []
    },
    {
      "cell_type": "code",
      "source": [],
      "metadata": {
        "id": "2Pvg7K1Au-e-"
      },
      "execution_count": null,
      "outputs": []
    },
    {
      "cell_type": "markdown",
      "source": [
        "# k-means"
      ],
      "metadata": {
        "id": "UqxxJoW6Zo-G"
      }
    },
    {
      "cell_type": "code",
      "source": [
        "!pip install geopandas\n",
        "import geopandas as gpd\n"
      ],
      "metadata": {
        "colab": {
          "base_uri": "https://localhost:8080/"
        },
        "id": "6qXb879mfjfv",
        "outputId": "f7ad28fb-e37b-485d-eedd-1d4638a9a085"
      },
      "execution_count": null,
      "outputs": [
        {
          "output_type": "stream",
          "name": "stdout",
          "text": [
            "Looking in indexes: https://pypi.org/simple, https://us-python.pkg.dev/colab-wheels/public/simple/\n",
            "Collecting geopandas\n",
            "  Downloading geopandas-0.10.2-py2.py3-none-any.whl (1.0 MB)\n",
            "\u001b[K     |████████████████████████████████| 1.0 MB 5.0 MB/s \n",
            "\u001b[?25hCollecting pyproj>=2.2.0\n",
            "  Downloading pyproj-3.2.1-cp37-cp37m-manylinux2010_x86_64.whl (6.3 MB)\n",
            "\u001b[K     |████████████████████████████████| 6.3 MB 44.5 MB/s \n",
            "\u001b[?25hRequirement already satisfied: pandas>=0.25.0 in /usr/local/lib/python3.7/dist-packages (from geopandas) (1.3.5)\n",
            "Collecting fiona>=1.8\n",
            "  Downloading Fiona-1.8.22-cp37-cp37m-manylinux2014_x86_64.whl (16.7 MB)\n",
            "\u001b[K     |████████████████████████████████| 16.7 MB 46.2 MB/s \n",
            "\u001b[?25hRequirement already satisfied: shapely>=1.6 in /usr/local/lib/python3.7/dist-packages (from geopandas) (1.8.5.post1)\n",
            "Requirement already satisfied: certifi in /usr/local/lib/python3.7/dist-packages (from fiona>=1.8->geopandas) (2022.9.24)\n",
            "Collecting munch\n",
            "  Downloading munch-2.5.0-py2.py3-none-any.whl (10 kB)\n",
            "Requirement already satisfied: attrs>=17 in /usr/local/lib/python3.7/dist-packages (from fiona>=1.8->geopandas) (22.1.0)\n",
            "Collecting cligj>=0.5\n",
            "  Downloading cligj-0.7.2-py3-none-any.whl (7.1 kB)\n",
            "Requirement already satisfied: click>=4.0 in /usr/local/lib/python3.7/dist-packages (from fiona>=1.8->geopandas) (7.1.2)\n",
            "Collecting click-plugins>=1.0\n",
            "  Downloading click_plugins-1.1.1-py2.py3-none-any.whl (7.5 kB)\n",
            "Requirement already satisfied: six>=1.7 in /usr/local/lib/python3.7/dist-packages (from fiona>=1.8->geopandas) (1.15.0)\n",
            "Requirement already satisfied: setuptools in /usr/local/lib/python3.7/dist-packages (from fiona>=1.8->geopandas) (57.4.0)\n",
            "Requirement already satisfied: python-dateutil>=2.7.3 in /usr/local/lib/python3.7/dist-packages (from pandas>=0.25.0->geopandas) (2.8.2)\n",
            "Requirement already satisfied: numpy>=1.17.3 in /usr/local/lib/python3.7/dist-packages (from pandas>=0.25.0->geopandas) (1.21.6)\n",
            "Requirement already satisfied: pytz>=2017.3 in /usr/local/lib/python3.7/dist-packages (from pandas>=0.25.0->geopandas) (2022.6)\n",
            "Installing collected packages: munch, cligj, click-plugins, pyproj, fiona, geopandas\n",
            "Successfully installed click-plugins-1.1.1 cligj-0.7.2 fiona-1.8.22 geopandas-0.10.2 munch-2.5.0 pyproj-3.2.1\n"
          ]
        }
      ]
    },
    {
      "cell_type": "code",
      "source": [
        "X_cluster = df[['LATITUD', 'LONGITUD']]\n",
        "\n",
        "kmeans_per_k = [KMeans(n_clusters=k, random_state=62).fit(X_cluster)\n",
        "                for k in range(1, 10)]\n",
        "inertias = [model.inertia_ for model in kmeans_per_k]\n",
        "\n",
        "plt.figure(figsize=(8, 3.5))\n",
        "plt.plot(range(1, 10), inertias, \"bo-\")\n",
        "plt.xlabel(\"$k$\")\n",
        "plt.ylabel(\"Inertia\")\n",
        "plt.annotate(\"\", xy=(3, inertias[3]), xytext=(4.45, 650),\n",
        "             arrowprops=dict(facecolor='black', shrink=0.1))\n",
        "plt.grid()\n",
        "plt.show()"
      ],
      "metadata": {
        "id": "zW9u5wV8ZrPW",
        "colab": {
          "base_uri": "https://localhost:8080/",
          "height": 254
        },
        "outputId": "1ccb4e7c-a386-4bac-93a7-da9302cb11b7"
      },
      "execution_count": null,
      "outputs": [
        {
          "output_type": "display_data",
          "data": {
            "text/plain": [
              "<Figure size 576x252 with 1 Axes>"
            ],
            "image/png": "[encoded data removed]"
          },
          "metadata": {}
        }
      ]
    },
    {
      "cell_type": "code",
      "source": [
        "vzr = KElbowVisualizer(KMeans(n_clusters=3, random_state=62), k=(1, 10))\n",
        "vzr.fit(X_cluster)\n",
        "vzr.poof()"
      ],
      "metadata": {
        "colab": {
          "base_uri": "https://localhost:8080/",
          "height": 394
        },
        "id": "JzljgwECcGZI",
        "outputId": "3f20e983-e121-4a48-a2b4-c1829c79ef24"
      },
      "execution_count": null,
      "outputs": [
        {
          "output_type": "display_data",
          "data": {
            "text/plain": [
              "<Figure size 576x396 with 2 Axes>"
            ],
            "image/png": "[encoded data removed]"
          },
          "metadata": {}
        },
        {
          "output_type": "execute_result",
          "data": {
            "text/plain": [
              "<matplotlib.axes._subplots.AxesSubplot at 0x7fd9111aa250>"
            ]
          },
          "metadata": {},
          "execution_count": 80
        }
      ]
    },
    {
      "cell_type": "code",
      "source": [
        "visualizer = SilhouetteVisualizer(KMeans(n_clusters=3, random_state=62), colors='yellowbrick')\n",
        "visualizer.fit(X_cluster)        \n",
        "visualizer.show()       "
      ],
      "metadata": {
        "colab": {
          "base_uri": "https://localhost:8080/",
          "height": 394
        },
        "id": "TXJBqQpUcqcV",
        "outputId": "7fdd63bb-7952-4800-f8dd-9bbb75120b4f"
      },
      "execution_count": null,
      "outputs": [
        {
          "output_type": "display_data",
          "data": {
            "text/plain": [
              "<Figure size 576x396 with 1 Axes>"
            ],
            "image/png": "[encoded data removed]"
          },
          "metadata": {}
        },
        {
          "output_type": "execute_result",
          "data": {
            "text/plain": [
              "<matplotlib.axes._subplots.AxesSubplot at 0x7fd90b15c710>"
            ]
          },
          "metadata": {},
          "execution_count": 88
        }
      ]
    },
    {
      "cell_type": "code",
      "source": [
        "df[\"Coordinates\"] = list(zip(df.LONGITUD , df.LATITUD))\n",
        "df[\"Coordinates\"] = df[\"Coordinates\"].apply(Point)\n",
        "df.head()"
      ],
      "metadata": {
        "colab": {
          "base_uri": "https://localhost:8080/",
          "height": 473
        },
        "id": "znqDJOWAgX_s",
        "outputId": "e1686733-867f-45ad-eaa1-ea120815d413"
      },
      "execution_count": null,
      "outputs": [
        {
          "output_type": "execute_result",
          "data": {
            "text/plain": [
              "       CLAVE                   SITIO           ORGANISMO_DE_CUENCA  \\\n",
              "0     DLAGU6            POZO SAN GIL       LERMA SANTIAGO PACIFICO   \n",
              "1  DLAGU6516  POZO R013 CAÑADA HONDA       LERMA SANTIAGO PACIFICO   \n",
              "2     DLAGU7              POZO COSIO       LERMA SANTIAGO PACIFICO   \n",
              "3     DLAGU9      POZO EL SALITRILLO       LERMA SANTIAGO PACIFICO   \n",
              "4   DLBAJ107      RANCHO EL TECOLOTE  PENINSULA DE BAJA CALIFORNIA   \n",
              "\n",
              "                ESTADO        MUNICIPIO                 ACUIFERO SUBTIPO  \\\n",
              "0       AGUASCALIENTES         ASIENTOS       VALLE DE CHICALOTE    POZO   \n",
              "1       AGUASCALIENTES   AGUASCALIENTES       VALLE DE CHICALOTE    POZO   \n",
              "2       AGUASCALIENTES            COSIO  VALLE DE AGUASCALIENTES    POZO   \n",
              "3       AGUASCALIENTES  RINCON DE ROMOS  VALLE DE AGUASCALIENTES    POZO   \n",
              "4  BAJA CALIFORNIA SUR           LA PAZ             TODOS SANTOS    POZO   \n",
              "\n",
              "    LONGITUD   LATITUD  PERIODO  ...  CUMPLE_CON_CF CUMPLE_CON_NO3  \\\n",
              "0 -102.02210  22.20887     2020  ...             SI             SI   \n",
              "1 -102.20075  21.99958     2020  ...             SI             SI   \n",
              "2 -102.28801  22.36685     2020  ...             SI             SI   \n",
              "3 -102.29449  22.18435     2020  ...             SI             SI   \n",
              "4 -110.24480  23.45138     2020  ...             SI             NO   \n",
              "\n",
              "   CUMPLE_CON_AS CUMPLE_CON_CD  CUMPLE_CON_CR  CUMPLE_CON_HG CUMPLE_CON_PB  \\\n",
              "0             SI            SI             SI             SI            SI   \n",
              "1             SI            SI             SI             SI            SI   \n",
              "2             NO            SI             SI             SI            SI   \n",
              "3             SI            SI             SI             SI            SI   \n",
              "4             SI            SI             SI             SI            SI   \n",
              "\n",
              "  CUMPLE_CON_MN  CUMPLE_CON_FE                  Coordinates  \n",
              "0            SI             SI   POINT (-102.0221 22.20887)  \n",
              "1            SI             SI  POINT (-102.20075 21.99958)  \n",
              "2            SI             SI  POINT (-102.28801 22.36685)  \n",
              "3            SI             SI  POINT (-102.29449 22.18435)  \n",
              "4            SI             SI   POINT (-110.2448 23.45138)  \n",
              "\n",
              "[5 rows x 58 columns]"
            ],
            "text/html": [
              "\n",
              "  <div id=\"df-a89a1c3e-742a-45c1-a189-55aea60e01d8\">\n",
              "    <div class=\"colab-df-container\">\n",
              "      <div>\n",
              "<style scoped>\n",
              "    .dataframe tbody tr th:only-of-type {\n",
              "        vertical-align: middle;\n",
              "    }\n",
              "\n",
              "    .dataframe tbody tr th {\n",
              "        vertical-align: top;\n",
              "    }\n",
              "\n",
              "    .dataframe thead th {\n",
              "        text-align: right;\n",
              "    }\n",
              "</style>\n",
              "<table border=\"1\" class=\"dataframe\">\n",
              "  <thead>\n",
              "    <tr style=\"text-align: right;\">\n",
              "      <th></th>\n",
              "      <th>CLAVE</th>\n",
              "      <th>SITIO</th>\n",
              "      <th>ORGANISMO_DE_CUENCA</th>\n",
              "      <th>ESTADO</th>\n",
              "      <th>MUNICIPIO</th>\n",
              "      <th>ACUIFERO</th>\n",
              "      <th>SUBTIPO</th>\n",
              "      <th>LONGITUD</th>\n",
              "      <th>LATITUD</th>\n",
              "      <th>PERIODO</th>\n",
              "      <th>...</th>\n",
              "      <th>CUMPLE_CON_CF</th>\n",
              "      <th>CUMPLE_CON_NO3</th>\n",
              "      <th>CUMPLE_CON_AS</th>\n",
              "      <th>CUMPLE_CON_CD</th>\n",
              "      <th>CUMPLE_CON_CR</th>\n",
              "      <th>CUMPLE_CON_HG</th>\n",
              "      <th>CUMPLE_CON_PB</th>\n",
              "      <th>CUMPLE_CON_MN</th>\n",
              "      <th>CUMPLE_CON_FE</th>\n",
              "      <th>Coordinates</th>\n",
              "    </tr>\n",
              "  </thead>\n",
              "  <tbody>\n",
              "    <tr>\n",
              "      <th>0</th>\n",
              "      <td>DLAGU6</td>\n",
              "      <td>POZO SAN GIL</td>\n",
              "      <td>LERMA SANTIAGO PACIFICO</td>\n",
              "      <td>AGUASCALIENTES</td>\n",
              "      <td>ASIENTOS</td>\n",
              "      <td>VALLE DE CHICALOTE</td>\n",
              "      <td>POZO</td>\n",
              "      <td>-102.02210</td>\n",
              "      <td>22.20887</td>\n",
              "      <td>2020</td>\n",
              "      <td>...</td>\n",
              "      <td>SI</td>\n",
              "      <td>SI</td>\n",
              "      <td>SI</td>\n",
              "      <td>SI</td>\n",
              "      <td>SI</td>\n",
              "      <td>SI</td>\n",
              "      <td>SI</td>\n",
              "      <td>SI</td>\n",
              "      <td>SI</td>\n",
              "      <td>POINT (-102.0221 22.20887)</td>\n",
              "    </tr>\n",
              "    <tr>\n",
              "      <th>1</th>\n",
              "      <td>DLAGU6516</td>\n",
              "      <td>POZO R013 CAÑADA HONDA</td>\n",
              "      <td>LERMA SANTIAGO PACIFICO</td>\n",
              "      <td>AGUASCALIENTES</td>\n",
              "      <td>AGUASCALIENTES</td>\n",
              "      <td>VALLE DE CHICALOTE</td>\n",
              "      <td>POZO</td>\n",
              "      <td>-102.20075</td>\n",
              "      <td>21.99958</td>\n",
              "      <td>2020</td>\n",
              "      <td>...</td>\n",
              "      <td>SI</td>\n",
              "      <td>SI</td>\n",
              "      <td>SI</td>\n",
              "      <td>SI</td>\n",
              "      <td>SI</td>\n",
              "      <td>SI</td>\n",
              "      <td>SI</td>\n",
              "      <td>SI</td>\n",
              "      <td>SI</td>\n",
              "      <td>POINT (-102.20075 21.99958)</td>\n",
              "    </tr>\n",
              "    <tr>\n",
              "      <th>2</th>\n",
              "      <td>DLAGU7</td>\n",
              "      <td>POZO COSIO</td>\n",
              "      <td>LERMA SANTIAGO PACIFICO</td>\n",
              "      <td>AGUASCALIENTES</td>\n",
              "      <td>COSIO</td>\n",
              "      <td>VALLE DE AGUASCALIENTES</td>\n",
              "      <td>POZO</td>\n",
              "      <td>-102.28801</td>\n",
              "      <td>22.36685</td>\n",
              "      <td>2020</td>\n",
              "      <td>...</td>\n",
              "      <td>SI</td>\n",
              "      <td>SI</td>\n",
              "      <td>NO</td>\n",
              "      <td>SI</td>\n",
              "      <td>SI</td>\n",
              "      <td>SI</td>\n",
              "      <td>SI</td>\n",
              "      <td>SI</td>\n",
              "      <td>SI</td>\n",
              "      <td>POINT (-102.28801 22.36685)</td>\n",
              "    </tr>\n",
              "    <tr>\n",
              "      <th>3</th>\n",
              "      <td>DLAGU9</td>\n",
              "      <td>POZO EL SALITRILLO</td>\n",
              "      <td>LERMA SANTIAGO PACIFICO</td>\n",
              "      <td>AGUASCALIENTES</td>\n",
              "      <td>RINCON DE ROMOS</td>\n",
              "      <td>VALLE DE AGUASCALIENTES</td>\n",
              "      <td>POZO</td>\n",
              "      <td>-102.29449</td>\n",
              "      <td>22.18435</td>\n",
              "      <td>2020</td>\n",
              "      <td>...</td>\n",
              "      <td>SI</td>\n",
              "      <td>SI</td>\n",
              "      <td>SI</td>\n",
              "      <td>SI</td>\n",
              "      <td>SI</td>\n",
              "      <td>SI</td>\n",
              "      <td>SI</td>\n",
              "      <td>SI</td>\n",
              "      <td>SI</td>\n",
              "      <td>POINT (-102.29449 22.18435)</td>\n",
              "    </tr>\n",
              "    <tr>\n",
              "      <th>4</th>\n",
              "      <td>DLBAJ107</td>\n",
              "      <td>RANCHO EL TECOLOTE</td>\n",
              "      <td>PENINSULA DE BAJA CALIFORNIA</td>\n",
              "      <td>BAJA CALIFORNIA SUR</td>\n",
              "      <td>LA PAZ</td>\n",
              "      <td>TODOS SANTOS</td>\n",
              "      <td>POZO</td>\n",
              "      <td>-110.24480</td>\n",
              "      <td>23.45138</td>\n",
              "      <td>2020</td>\n",
              "      <td>...</td>\n",
              "      <td>SI</td>\n",
              "      <td>NO</td>\n",
              "      <td>SI</td>\n",
              "      <td>SI</td>\n",
              "      <td>SI</td>\n",
              "      <td>SI</td>\n",
              "      <td>SI</td>\n",
              "      <td>SI</td>\n",
              "      <td>SI</td>\n",
              "      <td>POINT (-110.2448 23.45138)</td>\n",
              "    </tr>\n",
              "  </tbody>\n",
              "</table>\n",
              "<p>5 rows × 58 columns</p>\n",
              "</div>\n",
              "      <button class=\"colab-df-convert\" onclick=\"convertToInteractive('df-a89a1c3e-742a-45c1-a189-55aea60e01d8')\"\n",
              "              title=\"Convert this dataframe to an interactive table.\"\n",
              "              style=\"display:none;\">\n",
              "        \n",
              "  <svg xmlns=\"http://www.w3.org/2000/svg\" height=\"24px\"viewBox=\"0 0 24 24\"\n",
              "       width=\"24px\">\n",
              "    <path d=\"M0 0h24v24H0V0z\" fill=\"none\"/>\n",
              "    <path d=\"M18.56 5.44l.94 2.06.94-2.06 2.06-.94-2.06-.94-.94-2.06-.94 2.06-2.06.94zm-11 1L8.5 8.5l.94-2.06 2.06-.94-2.06-.94L8.5 2.5l-.94 2.06-2.06.94zm10 10l.94 2.06.94-2.06 2.06-.94-2.06-.94-.94-2.06-.94 2.06-2.06.94z\"/><path d=\"M17.41 7.96l-1.37-1.37c-.4-.4-.92-.59-1.43-.59-.52 0-1.04.2-1.43.59L10.3 9.45l-7.72 7.72c-.78.78-.78 2.05 0 2.83L4 21.41c.39.39.9.59 1.41.59.51 0 1.02-.2 1.41-.59l7.78-7.78 2.81-2.81c.8-.78.8-2.07 0-2.86zM5.41 20L4 18.59l7.72-7.72 1.47 1.35L5.41 20z\"/>\n",
              "  </svg>\n",
              "      </button>\n",
              "      \n",
              "  <style>\n",
              "    .colab-df-container {\n",
              "      display:flex;\n",
              "      flex-wrap:wrap;\n",
              "      gap: 12px;\n",
              "    }\n",
              "\n",
              "    .colab-df-convert {\n",
              "      background-color: #E8F0FE;\n",
              "      border: none;\n",
              "      border-radius: 50%;\n",
              "      cursor: pointer;\n",
              "      display: none;\n",
              "      fill: #1967D2;\n",
              "      height: 32px;\n",
              "      padding: 0 0 0 0;\n",
              "      width: 32px;\n",
              "    }\n",
              "\n",
              "    .colab-df-convert:hover {\n",
              "      background-color: #E2EBFA;\n",
              "      box-shadow: 0px 1px 2px rgba(60, 64, 67, 0.3), 0px 1px 3px 1px rgba(60, 64, 67, 0.15);\n",
              "      fill: #174EA6;\n",
              "    }\n",
              "\n",
              "    [theme=dark] .colab-df-convert {\n",
              "      background-color: #3B4455;\n",
              "      fill: #D2E3FC;\n",
              "    }\n",
              "\n",
              "    [theme=dark] .colab-df-convert:hover {\n",
              "      background-color: #434B5C;\n",
              "      box-shadow: 0px 1px 3px 1px rgba(0, 0, 0, 0.15);\n",
              "      filter: drop-shadow(0px 1px 2px rgba(0, 0, 0, 0.3));\n",
              "      fill: #FFFFFF;\n",
              "    }\n",
              "  </style>\n",
              "\n",
              "      <script>\n",
              "        const buttonEl =\n",
              "          document.querySelector('#df-a89a1c3e-742a-45c1-a189-55aea60e01d8 button.colab-df-convert');\n",
              "        buttonEl.style.display =\n",
              "          google.colab.kernel.accessAllowed ? 'block' : 'none';\n",
              "\n",
              "        async function convertToInteractive(key) {\n",
              "          const element = document.querySelector('#df-a89a1c3e-742a-45c1-a189-55aea60e01d8');\n",
              "          const dataTable =\n",
              "            await google.colab.kernel.invokeFunction('convertToInteractive',\n",
              "                                                     [key], {});\n",
              "          if (!dataTable) return;\n",
              "\n",
              "          const docLinkHtml = 'Like what you see? Visit the ' +\n",
              "            '<a target=\"_blank\" href=https://colab.research.google.com/notebooks/data_table.ipynb>data table notebook</a>'\n",
              "            + ' to learn more about interactive tables.';\n",
              "          element.innerHTML = '';\n",
              "          dataTable['output_type'] = 'display_data';\n",
              "          await google.colab.output.renderOutput(dataTable, element);\n",
              "          const docLink = document.createElement('div');\n",
              "          docLink.innerHTML = docLinkHtml;\n",
              "          element.appendChild(docLink);\n",
              "        }\n",
              "      </script>\n",
              "    </div>\n",
              "  </div>\n",
              "  "
            ]
          },
          "metadata": {},
          "execution_count": 95
        }
      ]
    },
    {
      "cell_type": "code",
      "source": [
        "gdf = gpd.GeoDataFrame(df, geometry=\"Coordinates\")\n",
        "gdf.head()"
      ],
      "metadata": {
        "colab": {
          "base_uri": "https://localhost:8080/",
          "height": 473
        },
        "id": "rmGlyZlBgmbF",
        "outputId": "b2beffa2-c3c0-4f93-bb43-202e882f08cb"
      },
      "execution_count": null,
      "outputs": [
        {
          "output_type": "execute_result",
          "data": {
            "text/plain": [
              "       CLAVE                   SITIO           ORGANISMO_DE_CUENCA  \\\n",
              "0     DLAGU6            POZO SAN GIL       LERMA SANTIAGO PACIFICO   \n",
              "1  DLAGU6516  POZO R013 CAÑADA HONDA       LERMA SANTIAGO PACIFICO   \n",
              "2     DLAGU7              POZO COSIO       LERMA SANTIAGO PACIFICO   \n",
              "3     DLAGU9      POZO EL SALITRILLO       LERMA SANTIAGO PACIFICO   \n",
              "4   DLBAJ107      RANCHO EL TECOLOTE  PENINSULA DE BAJA CALIFORNIA   \n",
              "\n",
              "                ESTADO        MUNICIPIO                 ACUIFERO SUBTIPO  \\\n",
              "0       AGUASCALIENTES         ASIENTOS       VALLE DE CHICALOTE    POZO   \n",
              "1       AGUASCALIENTES   AGUASCALIENTES       VALLE DE CHICALOTE    POZO   \n",
              "2       AGUASCALIENTES            COSIO  VALLE DE AGUASCALIENTES    POZO   \n",
              "3       AGUASCALIENTES  RINCON DE ROMOS  VALLE DE AGUASCALIENTES    POZO   \n",
              "4  BAJA CALIFORNIA SUR           LA PAZ             TODOS SANTOS    POZO   \n",
              "\n",
              "    LONGITUD   LATITUD  PERIODO  ...  CUMPLE_CON_CF CUMPLE_CON_NO3  \\\n",
              "0 -102.02210  22.20887     2020  ...             SI             SI   \n",
              "1 -102.20075  21.99958     2020  ...             SI             SI   \n",
              "2 -102.28801  22.36685     2020  ...             SI             SI   \n",
              "3 -102.29449  22.18435     2020  ...             SI             SI   \n",
              "4 -110.24480  23.45138     2020  ...             SI             NO   \n",
              "\n",
              "   CUMPLE_CON_AS CUMPLE_CON_CD  CUMPLE_CON_CR  CUMPLE_CON_HG CUMPLE_CON_PB  \\\n",
              "0             SI            SI             SI             SI            SI   \n",
              "1             SI            SI             SI             SI            SI   \n",
              "2             NO            SI             SI             SI            SI   \n",
              "3             SI            SI             SI             SI            SI   \n",
              "4             SI            SI             SI             SI            SI   \n",
              "\n",
              "  CUMPLE_CON_MN  CUMPLE_CON_FE                  Coordinates  \n",
              "0            SI             SI  POINT (-102.02210 22.20887)  \n",
              "1            SI             SI  POINT (-102.20075 21.99958)  \n",
              "2            SI             SI  POINT (-102.28801 22.36685)  \n",
              "3            SI             SI  POINT (-102.29449 22.18435)  \n",
              "4            SI             SI  POINT (-110.24480 23.45138)  \n",
              "\n",
              "[5 rows x 58 columns]"
            ],
            "text/html": [
              "\n",
              "  <div id=\"df-07ac9ab5-7426-4499-a374-c16677e19226\">\n",
              "    <div class=\"colab-df-container\">\n",
              "      <div>\n",
              "<style scoped>\n",
              "    .dataframe tbody tr th:only-of-type {\n",
              "        vertical-align: middle;\n",
              "    }\n",
              "\n",
              "    .dataframe tbody tr th {\n",
              "        vertical-align: top;\n",
              "    }\n",
              "\n",
              "    .dataframe thead th {\n",
              "        text-align: right;\n",
              "    }\n",
              "</style>\n",
              "<table border=\"1\" class=\"dataframe\">\n",
              "  <thead>\n",
              "    <tr style=\"text-align: right;\">\n",
              "      <th></th>\n",
              "      <th>CLAVE</th>\n",
              "      <th>SITIO</th>\n",
              "      <th>ORGANISMO_DE_CUENCA</th>\n",
              "      <th>ESTADO</th>\n",
              "      <th>MUNICIPIO</th>\n",
              "      <th>ACUIFERO</th>\n",
              "      <th>SUBTIPO</th>\n",
              "      <th>LONGITUD</th>\n",
              "      <th>LATITUD</th>\n",
              "      <th>PERIODO</th>\n",
              "      <th>...</th>\n",
              "      <th>CUMPLE_CON_CF</th>\n",
              "      <th>CUMPLE_CON_NO3</th>\n",
              "      <th>CUMPLE_CON_AS</th>\n",
              "      <th>CUMPLE_CON_CD</th>\n",
              "      <th>CUMPLE_CON_CR</th>\n",
              "      <th>CUMPLE_CON_HG</th>\n",
              "      <th>CUMPLE_CON_PB</th>\n",
              "      <th>CUMPLE_CON_MN</th>\n",
              "      <th>CUMPLE_CON_FE</th>\n",
              "      <th>Coordinates</th>\n",
              "    </tr>\n",
              "  </thead>\n",
              "  <tbody>\n",
              "    <tr>\n",
              "      <th>0</th>\n",
              "      <td>DLAGU6</td>\n",
              "      <td>POZO SAN GIL</td>\n",
              "      <td>LERMA SANTIAGO PACIFICO</td>\n",
              "      <td>AGUASCALIENTES</td>\n",
              "      <td>ASIENTOS</td>\n",
              "      <td>VALLE DE CHICALOTE</td>\n",
              "      <td>POZO</td>\n",
              "      <td>-102.02210</td>\n",
              "      <td>22.20887</td>\n",
              "      <td>2020</td>\n",
              "      <td>...</td>\n",
              "      <td>SI</td>\n",
              "      <td>SI</td>\n",
              "      <td>SI</td>\n",
              "      <td>SI</td>\n",
              "      <td>SI</td>\n",
              "      <td>SI</td>\n",
              "      <td>SI</td>\n",
              "      <td>SI</td>\n",
              "      <td>SI</td>\n",
              "      <td>POINT (-102.02210 22.20887)</td>\n",
              "    </tr>\n",
              "    <tr>\n",
              "      <th>1</th>\n",
              "      <td>DLAGU6516</td>\n",
              "      <td>POZO R013 CAÑADA HONDA</td>\n",
              "      <td>LERMA SANTIAGO PACIFICO</td>\n",
              "      <td>AGUASCALIENTES</td>\n",
              "      <td>AGUASCALIENTES</td>\n",
              "      <td>VALLE DE CHICALOTE</td>\n",
              "      <td>POZO</td>\n",
              "      <td>-102.20075</td>\n",
              "      <td>21.99958</td>\n",
              "      <td>2020</td>\n",
              "      <td>...</td>\n",
              "      <td>SI</td>\n",
              "      <td>SI</td>\n",
              "      <td>SI</td>\n",
              "      <td>SI</td>\n",
              "      <td>SI</td>\n",
              "      <td>SI</td>\n",
              "      <td>SI</td>\n",
              "      <td>SI</td>\n",
              "      <td>SI</td>\n",
              "      <td>POINT (-102.20075 21.99958)</td>\n",
              "    </tr>\n",
              "    <tr>\n",
              "      <th>2</th>\n",
              "      <td>DLAGU7</td>\n",
              "      <td>POZO COSIO</td>\n",
              "      <td>LERMA SANTIAGO PACIFICO</td>\n",
              "      <td>AGUASCALIENTES</td>\n",
              "      <td>COSIO</td>\n",
              "      <td>VALLE DE AGUASCALIENTES</td>\n",
              "      <td>POZO</td>\n",
              "      <td>-102.28801</td>\n",
              "      <td>22.36685</td>\n",
              "      <td>2020</td>\n",
              "      <td>...</td>\n",
              "      <td>SI</td>\n",
              "      <td>SI</td>\n",
              "      <td>NO</td>\n",
              "      <td>SI</td>\n",
              "      <td>SI</td>\n",
              "      <td>SI</td>\n",
              "      <td>SI</td>\n",
              "      <td>SI</td>\n",
              "      <td>SI</td>\n",
              "      <td>POINT (-102.28801 22.36685)</td>\n",
              "    </tr>\n",
              "    <tr>\n",
              "      <th>3</th>\n",
              "      <td>DLAGU9</td>\n",
              "      <td>POZO EL SALITRILLO</td>\n",
              "      <td>LERMA SANTIAGO PACIFICO</td>\n",
              "      <td>AGUASCALIENTES</td>\n",
              "      <td>RINCON DE ROMOS</td>\n",
              "      <td>VALLE DE AGUASCALIENTES</td>\n",
              "      <td>POZO</td>\n",
              "      <td>-102.29449</td>\n",
              "      <td>22.18435</td>\n",
              "      <td>2020</td>\n",
              "      <td>...</td>\n",
              "      <td>SI</td>\n",
              "      <td>SI</td>\n",
              "      <td>SI</td>\n",
              "      <td>SI</td>\n",
              "      <td>SI</td>\n",
              "      <td>SI</td>\n",
              "      <td>SI</td>\n",
              "      <td>SI</td>\n",
              "      <td>SI</td>\n",
              "      <td>POINT (-102.29449 22.18435)</td>\n",
              "    </tr>\n",
              "    <tr>\n",
              "      <th>4</th>\n",
              "      <td>DLBAJ107</td>\n",
              "      <td>RANCHO EL TECOLOTE</td>\n",
              "      <td>PENINSULA DE BAJA CALIFORNIA</td>\n",
              "      <td>BAJA CALIFORNIA SUR</td>\n",
              "      <td>LA PAZ</td>\n",
              "      <td>TODOS SANTOS</td>\n",
              "      <td>POZO</td>\n",
              "      <td>-110.24480</td>\n",
              "      <td>23.45138</td>\n",
              "      <td>2020</td>\n",
              "      <td>...</td>\n",
              "      <td>SI</td>\n",
              "      <td>NO</td>\n",
              "      <td>SI</td>\n",
              "      <td>SI</td>\n",
              "      <td>SI</td>\n",
              "      <td>SI</td>\n",
              "      <td>SI</td>\n",
              "      <td>SI</td>\n",
              "      <td>SI</td>\n",
              "      <td>POINT (-110.24480 23.45138)</td>\n",
              "    </tr>\n",
              "  </tbody>\n",
              "</table>\n",
              "<p>5 rows × 58 columns</p>\n",
              "</div>\n",
              "      <button class=\"colab-df-convert\" onclick=\"convertToInteractive('df-07ac9ab5-7426-4499-a374-c16677e19226')\"\n",
              "              title=\"Convert this dataframe to an interactive table.\"\n",
              "              style=\"display:none;\">\n",
              "        \n",
              "  <svg xmlns=\"http://www.w3.org/2000/svg\" height=\"24px\"viewBox=\"0 0 24 24\"\n",
              "       width=\"24px\">\n",
              "    <path d=\"M0 0h24v24H0V0z\" fill=\"none\"/>\n",
              "    <path d=\"M18.56 5.44l.94 2.06.94-2.06 2.06-.94-2.06-.94-.94-2.06-.94 2.06-2.06.94zm-11 1L8.5 8.5l.94-2.06 2.06-.94-2.06-.94L8.5 2.5l-.94 2.06-2.06.94zm10 10l.94 2.06.94-2.06 2.06-.94-2.06-.94-.94-2.06-.94 2.06-2.06.94z\"/><path d=\"M17.41 7.96l-1.37-1.37c-.4-.4-.92-.59-1.43-.59-.52 0-1.04.2-1.43.59L10.3 9.45l-7.72 7.72c-.78.78-.78 2.05 0 2.83L4 21.41c.39.39.9.59 1.41.59.51 0 1.02-.2 1.41-.59l7.78-7.78 2.81-2.81c.8-.78.8-2.07 0-2.86zM5.41 20L4 18.59l7.72-7.72 1.47 1.35L5.41 20z\"/>\n",
              "  </svg>\n",
              "      </button>\n",
              "      \n",
              "  <style>\n",
              "    .colab-df-container {\n",
              "      display:flex;\n",
              "      flex-wrap:wrap;\n",
              "      gap: 12px;\n",
              "    }\n",
              "\n",
              "    .colab-df-convert {\n",
              "      background-color: #E8F0FE;\n",
              "      border: none;\n",
              "      border-radius: 50%;\n",
              "      cursor: pointer;\n",
              "      display: none;\n",
              "      fill: #1967D2;\n",
              "      height: 32px;\n",
              "      padding: 0 0 0 0;\n",
              "      width: 32px;\n",
              "    }\n",
              "\n",
              "    .colab-df-convert:hover {\n",
              "      background-color: #E2EBFA;\n",
              "      box-shadow: 0px 1px 2px rgba(60, 64, 67, 0.3), 0px 1px 3px 1px rgba(60, 64, 67, 0.15);\n",
              "      fill: #174EA6;\n",
              "    }\n",
              "\n",
              "    [theme=dark] .colab-df-convert {\n",
              "      background-color: #3B4455;\n",
              "      fill: #D2E3FC;\n",
              "    }\n",
              "\n",
              "    [theme=dark] .colab-df-convert:hover {\n",
              "      background-color: #434B5C;\n",
              "      box-shadow: 0px 1px 3px 1px rgba(0, 0, 0, 0.15);\n",
              "      filter: drop-shadow(0px 1px 2px rgba(0, 0, 0, 0.3));\n",
              "      fill: #FFFFFF;\n",
              "    }\n",
              "  </style>\n",
              "\n",
              "      <script>\n",
              "        const buttonEl =\n",
              "          document.querySelector('#df-07ac9ab5-7426-4499-a374-c16677e19226 button.colab-df-convert');\n",
              "        buttonEl.style.display =\n",
              "          google.colab.kernel.accessAllowed ? 'block' : 'none';\n",
              "\n",
              "        async function convertToInteractive(key) {\n",
              "          const element = document.querySelector('#df-07ac9ab5-7426-4499-a374-c16677e19226');\n",
              "          const dataTable =\n",
              "            await google.colab.kernel.invokeFunction('convertToInteractive',\n",
              "                                                     [key], {});\n",
              "          if (!dataTable) return;\n",
              "\n",
              "          const docLinkHtml = 'Like what you see? Visit the ' +\n",
              "            '<a target=\"_blank\" href=https://colab.research.google.com/notebooks/data_table.ipynb>data table notebook</a>'\n",
              "            + ' to learn more about interactive tables.';\n",
              "          element.innerHTML = '';\n",
              "          dataTable['output_type'] = 'display_data';\n",
              "          await google.colab.output.renderOutput(dataTable, element);\n",
              "          const docLink = document.createElement('div');\n",
              "          docLink.innerHTML = docLinkHtml;\n",
              "          element.appendChild(docLink);\n",
              "        }\n",
              "      </script>\n",
              "    </div>\n",
              "  </div>\n",
              "  "
            ]
          },
          "metadata": {},
          "execution_count": 96
        }
      ]
    },
    {
      "cell_type": "code",
      "source": [
        "X_cluster = gdf[['LATITUD', 'LONGITUD']]\n",
        "\n",
        "kmeans = KMeans(n_clusters=3)\n",
        "kmeans.fit(X_cluster)\n",
        "y_kmeans = kmeans.predict(X_cluster)"
      ],
      "metadata": {
        "id": "TafRdUXchXLu"
      },
      "execution_count": null,
      "outputs": []
    },
    {
      "cell_type": "code",
      "source": [
        "#graficar el mapa\n",
        "world = gpd.read_file(gpd.datasets.get_path(\"naturalearth_lowres\"))\n",
        "world = world.set_index(\"iso_a3\")\n",
        "\n",
        "world.head()"
      ],
      "metadata": {
        "colab": {
          "base_uri": "https://localhost:8080/",
          "height": 282
        },
        "id": "Bg-BojVse-qd",
        "outputId": "7d6e98e2-1cf7-4f21-e87c-e8a2acf8e555"
      },
      "execution_count": null,
      "outputs": [
        {
          "output_type": "execute_result",
          "data": {
            "text/plain": [
              "          pop_est      continent                      name  gdp_md_est  \\\n",
              "iso_a3                                                                   \n",
              "FJI        920938        Oceania                      Fiji      8374.0   \n",
              "TZA      53950935         Africa                  Tanzania    150600.0   \n",
              "ESH        603253         Africa                 W. Sahara       906.5   \n",
              "CAN      35623680  North America                    Canada   1674000.0   \n",
              "USA     326625791  North America  United States of America  18560000.0   \n",
              "\n",
              "                                                 geometry  \n",
              "iso_a3                                                     \n",
              "FJI     MULTIPOLYGON (((180.00000 -16.06713, 180.00000...  \n",
              "TZA     POLYGON ((33.90371 -0.95000, 34.07262 -1.05982...  \n",
              "ESH     POLYGON ((-8.66559 27.65643, -8.66512 27.58948...  \n",
              "CAN     MULTIPOLYGON (((-122.84000 49.00000, -122.9742...  \n",
              "USA     MULTIPOLYGON (((-122.84000 49.00000, -120.0000...  "
            ],
            "text/html": [
              "\n",
              "  <div id=\"df-82dc054c-0423-4739-96e1-06b746f6ccc2\">\n",
              "    <div class=\"colab-df-container\">\n",
              "      <div>\n",
              "<style scoped>\n",
              "    .dataframe tbody tr th:only-of-type {\n",
              "        vertical-align: middle;\n",
              "    }\n",
              "\n",
              "    .dataframe tbody tr th {\n",
              "        vertical-align: top;\n",
              "    }\n",
              "\n",
              "    .dataframe thead th {\n",
              "        text-align: right;\n",
              "    }\n",
              "</style>\n",
              "<table border=\"1\" class=\"dataframe\">\n",
              "  <thead>\n",
              "    <tr style=\"text-align: right;\">\n",
              "      <th></th>\n",
              "      <th>pop_est</th>\n",
              "      <th>continent</th>\n",
              "      <th>name</th>\n",
              "      <th>gdp_md_est</th>\n",
              "      <th>geometry</th>\n",
              "    </tr>\n",
              "    <tr>\n",
              "      <th>iso_a3</th>\n",
              "      <th></th>\n",
              "      <th></th>\n",
              "      <th></th>\n",
              "      <th></th>\n",
              "      <th></th>\n",
              "    </tr>\n",
              "  </thead>\n",
              "  <tbody>\n",
              "    <tr>\n",
              "      <th>FJI</th>\n",
              "      <td>920938</td>\n",
              "      <td>Oceania</td>\n",
              "      <td>Fiji</td>\n",
              "      <td>8374.0</td>\n",
              "      <td>MULTIPOLYGON (((180.00000 -16.06713, 180.00000...</td>\n",
              "    </tr>\n",
              "    <tr>\n",
              "      <th>TZA</th>\n",
              "      <td>53950935</td>\n",
              "      <td>Africa</td>\n",
              "      <td>Tanzania</td>\n",
              "      <td>150600.0</td>\n",
              "      <td>POLYGON ((33.90371 -0.95000, 34.07262 -1.05982...</td>\n",
              "    </tr>\n",
              "    <tr>\n",
              "      <th>ESH</th>\n",
              "      <td>603253</td>\n",
              "      <td>Africa</td>\n",
              "      <td>W. Sahara</td>\n",
              "      <td>906.5</td>\n",
              "      <td>POLYGON ((-8.66559 27.65643, -8.66512 27.58948...</td>\n",
              "    </tr>\n",
              "    <tr>\n",
              "      <th>CAN</th>\n",
              "      <td>35623680</td>\n",
              "      <td>North America</td>\n",
              "      <td>Canada</td>\n",
              "      <td>1674000.0</td>\n",
              "      <td>MULTIPOLYGON (((-122.84000 49.00000, -122.9742...</td>\n",
              "    </tr>\n",
              "    <tr>\n",
              "      <th>USA</th>\n",
              "      <td>326625791</td>\n",
              "      <td>North America</td>\n",
              "      <td>United States of America</td>\n",
              "      <td>18560000.0</td>\n",
              "      <td>MULTIPOLYGON (((-122.84000 49.00000, -120.0000...</td>\n",
              "    </tr>\n",
              "  </tbody>\n",
              "</table>\n",
              "</div>\n",
              "      <button class=\"colab-df-convert\" onclick=\"convertToInteractive('df-82dc054c-0423-4739-96e1-06b746f6ccc2')\"\n",
              "              title=\"Convert this dataframe to an interactive table.\"\n",
              "              style=\"display:none;\">\n",
              "        \n",
              "  <svg xmlns=\"http://www.w3.org/2000/svg\" height=\"24px\"viewBox=\"0 0 24 24\"\n",
              "       width=\"24px\">\n",
              "    <path d=\"M0 0h24v24H0V0z\" fill=\"none\"/>\n",
              "    <path d=\"M18.56 5.44l.94 2.06.94-2.06 2.06-.94-2.06-.94-.94-2.06-.94 2.06-2.06.94zm-11 1L8.5 8.5l.94-2.06 2.06-.94-2.06-.94L8.5 2.5l-.94 2.06-2.06.94zm10 10l.94 2.06.94-2.06 2.06-.94-2.06-.94-.94-2.06-.94 2.06-2.06.94z\"/><path d=\"M17.41 7.96l-1.37-1.37c-.4-.4-.92-.59-1.43-.59-.52 0-1.04.2-1.43.59L10.3 9.45l-7.72 7.72c-.78.78-.78 2.05 0 2.83L4 21.41c.39.39.9.59 1.41.59.51 0 1.02-.2 1.41-.59l7.78-7.78 2.81-2.81c.8-.78.8-2.07 0-2.86zM5.41 20L4 18.59l7.72-7.72 1.47 1.35L5.41 20z\"/>\n",
              "  </svg>\n",
              "      </button>\n",
              "      \n",
              "  <style>\n",
              "    .colab-df-container {\n",
              "      display:flex;\n",
              "      flex-wrap:wrap;\n",
              "      gap: 12px;\n",
              "    }\n",
              "\n",
              "    .colab-df-convert {\n",
              "      background-color: #E8F0FE;\n",
              "      border: none;\n",
              "      border-radius: 50%;\n",
              "      cursor: pointer;\n",
              "      display: none;\n",
              "      fill: #1967D2;\n",
              "      height: 32px;\n",
              "      padding: 0 0 0 0;\n",
              "      width: 32px;\n",
              "    }\n",
              "\n",
              "    .colab-df-convert:hover {\n",
              "      background-color: #E2EBFA;\n",
              "      box-shadow: 0px 1px 2px rgba(60, 64, 67, 0.3), 0px 1px 3px 1px rgba(60, 64, 67, 0.15);\n",
              "      fill: #174EA6;\n",
              "    }\n",
              "\n",
              "    [theme=dark] .colab-df-convert {\n",
              "      background-color: #3B4455;\n",
              "      fill: #D2E3FC;\n",
              "    }\n",
              "\n",
              "    [theme=dark] .colab-df-convert:hover {\n",
              "      background-color: #434B5C;\n",
              "      box-shadow: 0px 1px 3px 1px rgba(0, 0, 0, 0.15);\n",
              "      filter: drop-shadow(0px 1px 2px rgba(0, 0, 0, 0.3));\n",
              "      fill: #FFFFFF;\n",
              "    }\n",
              "  </style>\n",
              "\n",
              "      <script>\n",
              "        const buttonEl =\n",
              "          document.querySelector('#df-82dc054c-0423-4739-96e1-06b746f6ccc2 button.colab-df-convert');\n",
              "        buttonEl.style.display =\n",
              "          google.colab.kernel.accessAllowed ? 'block' : 'none';\n",
              "\n",
              "        async function convertToInteractive(key) {\n",
              "          const element = document.querySelector('#df-82dc054c-0423-4739-96e1-06b746f6ccc2');\n",
              "          const dataTable =\n",
              "            await google.colab.kernel.invokeFunction('convertToInteractive',\n",
              "                                                     [key], {});\n",
              "          if (!dataTable) return;\n",
              "\n",
              "          const docLinkHtml = 'Like what you see? Visit the ' +\n",
              "            '<a target=\"_blank\" href=https://colab.research.google.com/notebooks/data_table.ipynb>data table notebook</a>'\n",
              "            + ' to learn more about interactive tables.';\n",
              "          element.innerHTML = '';\n",
              "          dataTable['output_type'] = 'display_data';\n",
              "          await google.colab.output.renderOutput(dataTable, element);\n",
              "          const docLink = document.createElement('div');\n",
              "          docLink.innerHTML = docLinkHtml;\n",
              "          element.appendChild(docLink);\n",
              "        }\n",
              "      </script>\n",
              "    </div>\n",
              "  </div>\n",
              "  "
            ]
          },
          "metadata": {},
          "execution_count": 97
        }
      ]
    },
    {
      "cell_type": "code",
      "source": [
        "#graficar el mapa\n",
        "world.name.unique()"
      ],
      "metadata": {
        "colab": {
          "base_uri": "https://localhost:8080/"
        },
        "id": "msE9E9h_g5IE",
        "outputId": "ba715ac0-98c7-4b4c-ce65-c2bfe8f8e9eb"
      },
      "execution_count": null,
      "outputs": [
        {
          "output_type": "execute_result",
          "data": {
            "text/plain": [
              "array(['Fiji', 'Tanzania', 'W. Sahara', 'Canada',\n",
              "       'United States of America', 'Kazakhstan', 'Uzbekistan',\n",
              "       'Papua New Guinea', 'Indonesia', 'Argentina', 'Chile',\n",
              "       'Dem. Rep. Congo', 'Somalia', 'Kenya', 'Sudan', 'Chad', 'Haiti',\n",
              "       'Dominican Rep.', 'Russia', 'Bahamas', 'Falkland Is.', 'Norway',\n",
              "       'Greenland', 'Fr. S. Antarctic Lands', 'Timor-Leste',\n",
              "       'South Africa', 'Lesotho', 'Mexico', 'Uruguay', 'Brazil',\n",
              "       'Bolivia', 'Peru', 'Colombia', 'Panama', 'Costa Rica', 'Nicaragua',\n",
              "       'Honduras', 'El Salvador', 'Guatemala', 'Belize', 'Venezuela',\n",
              "       'Guyana', 'Suriname', 'France', 'Ecuador', 'Puerto Rico',\n",
              "       'Jamaica', 'Cuba', 'Zimbabwe', 'Botswana', 'Namibia', 'Senegal',\n",
              "       'Mali', 'Mauritania', 'Benin', 'Niger', 'Nigeria', 'Cameroon',\n",
              "       'Togo', 'Ghana', \"Côte d'Ivoire\", 'Guinea', 'Guinea-Bissau',\n",
              "       'Liberia', 'Sierra Leone', 'Burkina Faso', 'Central African Rep.',\n",
              "       'Congo', 'Gabon', 'Eq. Guinea', 'Zambia', 'Malawi', 'Mozambique',\n",
              "       'eSwatini', 'Angola', 'Burundi', 'Israel', 'Lebanon', 'Madagascar',\n",
              "       'Palestine', 'Gambia', 'Tunisia', 'Algeria', 'Jordan',\n",
              "       'United Arab Emirates', 'Qatar', 'Kuwait', 'Iraq', 'Oman',\n",
              "       'Vanuatu', 'Cambodia', 'Thailand', 'Laos', 'Myanmar', 'Vietnam',\n",
              "       'North Korea', 'South Korea', 'Mongolia', 'India', 'Bangladesh',\n",
              "       'Bhutan', 'Nepal', 'Pakistan', 'Afghanistan', 'Tajikistan',\n",
              "       'Kyrgyzstan', 'Turkmenistan', 'Iran', 'Syria', 'Armenia', 'Sweden',\n",
              "       'Belarus', 'Ukraine', 'Poland', 'Austria', 'Hungary', 'Moldova',\n",
              "       'Romania', 'Lithuania', 'Latvia', 'Estonia', 'Germany', 'Bulgaria',\n",
              "       'Greece', 'Turkey', 'Albania', 'Croatia', 'Switzerland',\n",
              "       'Luxembourg', 'Belgium', 'Netherlands', 'Portugal', 'Spain',\n",
              "       'Ireland', 'New Caledonia', 'Solomon Is.', 'New Zealand',\n",
              "       'Australia', 'Sri Lanka', 'China', 'Taiwan', 'Italy', 'Denmark',\n",
              "       'United Kingdom', 'Iceland', 'Azerbaijan', 'Georgia',\n",
              "       'Philippines', 'Malaysia', 'Brunei', 'Slovenia', 'Finland',\n",
              "       'Slovakia', 'Czechia', 'Eritrea', 'Japan', 'Paraguay', 'Yemen',\n",
              "       'Saudi Arabia', 'Antarctica', 'N. Cyprus', 'Cyprus', 'Morocco',\n",
              "       'Egypt', 'Libya', 'Ethiopia', 'Djibouti', 'Somaliland', 'Uganda',\n",
              "       'Rwanda', 'Bosnia and Herz.', 'Macedonia', 'Serbia', 'Montenegro',\n",
              "       'Kosovo', 'Trinidad and Tobago', 'S. Sudan'], dtype=object)"
            ]
          },
          "metadata": {},
          "execution_count": 98
        }
      ]
    },
    {
      "cell_type": "code",
      "source": [
        "fig, gax = plt.subplots(figsize=(15,15))\n",
        "world.query(\"name == 'Mexico'\").plot(ax = gax, edgecolor='black', color='green')\n",
        "gdf.plot(ax=gax, c=y_kmeans, alpha = 0.5)\n",
        "centers = kmeans.cluster_centers_\n",
        "plt.scatter(centers[:, 1], centers[:, 0], c='red', s=100)\n",
        "\n",
        "gax.set_xlabel('LONGITUD')\n",
        "gax.set_ylabel('LATITUD')\n",
        "gax.set_title('Sitios con agua subterranea en Mexico')\n",
        "\n",
        "gax.spines['top'].set_visible(False)\n",
        "gax.spines['right'].set_visible(False)\n",
        "\n",
        "plt.show()"
      ],
      "metadata": {
        "colab": {
          "base_uri": "https://localhost:8080/",
          "height": 579
        },
        "id": "TZILYry3dZfY",
        "outputId": "5efb29d5-a370-44e5-d1cb-7c85a9fe6d03"
      },
      "execution_count": null,
      "outputs": [
        {
          "output_type": "display_data",
          "data": {
            "text/plain": [
              "<Figure size 1080x1080 with 1 Axes>"
            ],
            "image/png": "[encoded data removed]"
          },
          "metadata": {}
        }
      ]
    },
    {
      "cell_type": "code",
      "source": [
        "df['SEMAFORO'].value_counts()"
      ],
      "metadata": {
        "colab": {
          "base_uri": "https://localhost:8080/"
        },
        "id": "SAmxh-G5oKHx",
        "outputId": "cbd86e20-ec01-44ee-836f-d17d5686f4e3"
      },
      "execution_count": null,
      "outputs": [
        {
          "output_type": "execute_result",
          "data": {
            "text/plain": [
              "0    434\n",
              "1    387\n",
              "2    247\n",
              "Name: SEMAFORO, dtype: int64"
            ]
          },
          "metadata": {},
          "execution_count": 147
        }
      ]
    },
    {
      "cell_type": "code",
      "source": [
        "df.loc[df['SEMAFORO'] == 'Verde' , 'SEMAFORO']='0'\n",
        "df.loc[df['SEMAFORO'] == 'Amarillo' , 'SEMAFORO']='1'\n",
        "df.loc[df['SEMAFORO'] == 'Rojo' , 'SEMAFORO']='2'"
      ],
      "metadata": {
        "id": "GeHnv3SNqN_N"
      },
      "execution_count": null,
      "outputs": []
    },
    {
      "cell_type": "code",
      "source": [
        "# convertimos a numerico\n",
        "df['SEMAFORO'] = pd.to_numeric(df['SEMAFORO'])"
      ],
      "metadata": {
        "id": "YJONWiRSrEd8"
      },
      "execution_count": null,
      "outputs": []
    },
    {
      "cell_type": "code",
      "source": [
        "from pandas.core.indexing import pd_array\n",
        "\n",
        "semaforo = pd_array(df['SEMAFORO'])"
      ],
      "metadata": {
        "id": "HjB3ORPSqfe0"
      },
      "execution_count": null,
      "outputs": []
    },
    {
      "cell_type": "code",
      "source": [
        "fig, gax = plt.subplots(figsize=(15,15))\n",
        "world.query(\"name == 'Mexico'\").plot(ax = gax, edgecolor='black', color='white')\n",
        "gdf.plot(ax=gax, c=semaforo, alpha = 0.5, cmap='RdYlGn')\n",
        "centers = kmeans.cluster_centers_\n",
        "plt.scatter(centers[:, 1], centers[:, 0], c='blue', s=100)\n",
        "\n",
        "gax.set_xlabel('LONGITUD')\n",
        "gax.set_ylabel('LATITUD')\n",
        "gax.set_title('Sitios con agua subterranea en Mexico')\n",
        "\n",
        "gax.spines['top'].set_visible(False)\n",
        "gax.spines['right'].set_visible(False)\n",
        "\n",
        "plt.show()"
      ],
      "metadata": {
        "colab": {
          "base_uri": "https://localhost:8080/",
          "height": 579
        },
        "id": "gUyPSEqkhucN",
        "outputId": "a0415d81-16c4-4ea4-ee41-ed91253412ba"
      },
      "execution_count": null,
      "outputs": [
        {
          "output_type": "display_data",
          "data": {
            "text/plain": [
              "<Figure size 1080x1080 with 1 Axes>"
            ],
            "image/png": "[encoded data removed]"
          },
          "metadata": {}
        }
      ]
    },
    {
      "cell_type": "code",
      "source": [
        "list_values = pd.DataFrame(y_kmeans).value_counts().to_list()"
      ],
      "metadata": {
        "id": "1nUbmjwUrWOR"
      },
      "execution_count": null,
      "outputs": []
    },
    {
      "cell_type": "code",
      "source": [
        "list_values"
      ],
      "metadata": {
        "colab": {
          "base_uri": "https://localhost:8080/"
        },
        "id": "fqiwC2DKxFkm",
        "outputId": "2e2a5760-a1e0-4c46-b62e-0d2577b69344"
      },
      "execution_count": null,
      "outputs": [
        {
          "output_type": "execute_result",
          "data": {
            "text/plain": [
              "[650, 238, 180]"
            ]
          },
          "metadata": {},
          "execution_count": 180
        }
      ]
    },
    {
      "cell_type": "code",
      "source": [
        "fig, axs = plt.subplots(figsize=(12, 6))\n",
        "list_names = ['Cluster 1', 'Cluster 2', 'Cluster 3']\n",
        "list_values = pd.DataFrame(y_kmeans).value_counts().to_list()\n",
        "axs.bar(list_names, list_values)\n",
        "plt.title('Cantidad de sitios por Cluster')\n",
        "plt.show()"
      ],
      "metadata": {
        "colab": {
          "base_uri": "https://localhost:8080/",
          "height": 389
        },
        "id": "lMPujIfaxHnD",
        "outputId": "a84a4b74-2067-48c5-b7f8-9c9ce0f5f021"
      },
      "execution_count": null,
      "outputs": [
        {
          "output_type": "display_data",
          "data": {
            "text/plain": [
              "<Figure size 864x432 with 1 Axes>"
            ],
            "image/png": "[encoded data removed]"
          },
          "metadata": {}
        }
      ]
    },
    {
      "cell_type": "code",
      "source": [
        "dfck = pd.DataFrame()\n",
        "dfck['Cluster']=pd.DataFrame(y_kmeans,)\n",
        "dfck['Semaforo']=df['SEMAFORO']\n",
        "\n"
      ],
      "metadata": {
        "id": "embNlN_zyXTe"
      },
      "execution_count": null,
      "outputs": []
    },
    {
      "cell_type": "code",
      "source": [
        "dfck_0 = dfck[dfck['Cluster']==0]\n",
        "dfck_1 = dfck[dfck['Cluster']==1]\n",
        "dfck_2 = dfck[dfck['Cluster']==2]"
      ],
      "metadata": {
        "id": "7ILmELX9zNWs"
      },
      "execution_count": null,
      "outputs": []
    },
    {
      "cell_type": "code",
      "source": [
        "fig, axs = plt.subplots(figsize=(12, 6))\n",
        "list_names = ['Rojo', 'Verde', 'Amarillo']\n",
        "list_values = dfck_0.value_counts().to_list()\n",
        "axs.bar(list_names, list_values)\n",
        "plt.title('Sitios del Cluster 1')\n",
        "plt.show()"
      ],
      "metadata": {
        "colab": {
          "base_uri": "https://localhost:8080/",
          "height": 389
        },
        "id": "y7XGzOfKxg7_",
        "outputId": "300cee7c-59c9-4afa-dbcd-cd73f916948b"
      },
      "execution_count": null,
      "outputs": [
        {
          "output_type": "display_data",
          "data": {
            "text/plain": [
              "<Figure size 864x432 with 1 Axes>"
            ],
            "image/png": "[encoded data removed]"
          },
          "metadata": {}
        }
      ]
    },
    {
      "cell_type": "code",
      "source": [
        "dfck_0['Semaforo'].value_counts()"
      ],
      "metadata": {
        "colab": {
          "base_uri": "https://localhost:8080/"
        },
        "id": "rYaJPJ0y2HEF",
        "outputId": "f787490e-b826-48f9-a4e2-2caf3bc7b03e"
      },
      "execution_count": null,
      "outputs": [
        {
          "output_type": "execute_result",
          "data": {
            "text/plain": [
              "2    283\n",
              "0    261\n",
              "1    106\n",
              "Name: Semaforo, dtype: int64"
            ]
          },
          "metadata": {},
          "execution_count": 205
        }
      ]
    },
    {
      "cell_type": "code",
      "source": [
        "fig, axs = plt.subplots(figsize=(12, 6))\n",
        "list_names = ['Verde', 'Rojo', 'Amarillo']\n",
        "list_values = dfck_1.value_counts().to_list()\n",
        "axs.bar(list_names, list_values)\n",
        "plt.title('Sitios del Cluster 2')\n",
        "plt.show()"
      ],
      "metadata": {
        "colab": {
          "base_uri": "https://localhost:8080/",
          "height": 389
        },
        "id": "NM83jPP11j6n",
        "outputId": "2b4b5936-44a4-4d0e-b23c-e4c6bffacc0b"
      },
      "execution_count": null,
      "outputs": [
        {
          "output_type": "display_data",
          "data": {
            "text/plain": [
              "<Figure size 864x432 with 1 Axes>"
            ],
            "image/png": "[encoded data removed]"
          },
          "metadata": {}
        }
      ]
    },
    {
      "cell_type": "code",
      "source": [
        "dfck_1['Semaforo'].value_counts()"
      ],
      "metadata": {
        "colab": {
          "base_uri": "https://localhost:8080/"
        },
        "id": "o96yiHDa2v3V",
        "outputId": "c3f2f7a4-2623-4e1c-db45-48738e19cd4b"
      },
      "execution_count": null,
      "outputs": [
        {
          "output_type": "execute_result",
          "data": {
            "text/plain": [
              "0    102\n",
              "2     83\n",
              "1     53\n",
              "Name: Semaforo, dtype: int64"
            ]
          },
          "metadata": {},
          "execution_count": 208
        }
      ]
    },
    {
      "cell_type": "code",
      "source": [
        "fig, axs = plt.subplots(figsize=(12, 6))\n",
        "list_names = ['Amarillo', 'Verde',  'Rojo']\n",
        "list_values = dfck_2.value_counts().to_list()\n",
        "axs.bar(list_names, list_values)\n",
        "plt.title('Sitios del Cluster 3')\n",
        "plt.show()"
      ],
      "metadata": {
        "colab": {
          "base_uri": "https://localhost:8080/",
          "height": 389
        },
        "id": "mGmPdq-M1v0S",
        "outputId": "8e3243a8-60d6-4f78-f006-71833fff8cec"
      },
      "execution_count": null,
      "outputs": [
        {
          "output_type": "display_data",
          "data": {
            "text/plain": [
              "<Figure size 864x432 with 1 Axes>"
            ],
            "image/png": "[encoded data removed]"
          },
          "metadata": {}
        }
      ]
    },
    {
      "cell_type": "code",
      "source": [
        "dfck_2['Semaforo'].value_counts()"
      ],
      "metadata": {
        "colab": {
          "base_uri": "https://localhost:8080/"
        },
        "id": "RYKlImkg13HX",
        "outputId": "9569b5ec-a385-46f6-ab81-6f78783c57a7"
      },
      "execution_count": null,
      "outputs": [
        {
          "output_type": "execute_result",
          "data": {
            "text/plain": [
              "1    88\n",
              "0    71\n",
              "2    21\n",
              "Name: Semaforo, dtype: int64"
            ]
          },
          "metadata": {},
          "execution_count": 212
        }
      ]
    },
    {
      "cell_type": "code",
      "source": [],
      "metadata": {
        "id": "d1PC0MwJ27-G"
      },
      "execution_count": null,
      "outputs": []
    }
  ]
}