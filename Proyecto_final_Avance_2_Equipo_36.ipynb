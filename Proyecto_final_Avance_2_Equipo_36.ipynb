{
  "nbformat": 4,
  "nbformat_minor": 0,
  "metadata": {
    "colab": {
      "provenance": [],
      "authorship_tag": "ABX9TyM7wdalnCaYia23nM+h/5dj",
      "include_colab_link": true
    },
    "kernelspec": {
      "name": "python3",
      "display_name": "Python 3"
    },
    "language_info": {
      "name": "python"
    }
  },
  "cells": [
    {
      "cell_type": "markdown",
      "metadata": {
        "id": "view-in-github",
        "colab_type": "text"
      },
      "source": [
        "<a href=\"https://colab.research.google.com/github/PosgradoMNA/actividades-del-projecto-equipo_36/blob/main/Proyecto_final_Avance_2_Equipo_36.ipynb\" target=\"_parent\"><img src=\"https://colab.research.google.com/assets/colab-badge.svg\" alt=\"Open In Colab\"/></a>"
      ]
    },
    {
      "cell_type": "markdown",
      "source": [],
      "metadata": {
        "id": "DIGDXnvOWYY1"
      }
    },
    {
      "cell_type": "markdown",
      "source": [
        "Proyecto final - Avance 2"
      ],
      "metadata": {
        "id": "CfSplnu6WbJp"
      }
    }
  ]
}